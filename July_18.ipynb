{
 "cells": [
  {
   "cell_type": "code",
   "execution_count": null,
   "id": "dce63337-b0c6-445f-9f19-4721f66031b1",
   "metadata": {},
   "outputs": [],
   "source": [
    "data = [10, 'hi', 4.5, 'students', 3, 100]\n",
    "From the list containing numbers and strings extract only integers using lambda function and list comprehension و\n",
    "o/p: [10,3,100]"
   ]
  },
  {
   "cell_type": "code",
   "execution_count": 39,
   "id": "73138672-6775-490e-b9ff-3e35d2584e36",
   "metadata": {},
   "outputs": [
    {
     "name": "stdout",
     "output_type": "stream",
     "text": [
      "10\n",
      "4.5\n",
      "3\n",
      "100\n"
     ]
    }
   ],
   "source": [
    "data = [10, 'hi', 4.5, 'students', 3, 100]\n",
    "for i in data:\n",
    "    try:\n",
    "        if int(i):\n",
    "            print(i)\n",
    "    except:\n",
    "        continue"
   ]
  },
  {
   "cell_type": "code",
   "execution_count": 27,
   "id": "96e1d5f2-a21e-40fb-85f4-d57b7eaa4248",
   "metadata": {},
   "outputs": [
    {
     "name": "stdout",
     "output_type": "stream",
     "text": [
      "[10, 3, 100]\n"
     ]
    }
   ],
   "source": [
    "data = [10, 'hi', 4.5, 'students', 3, 100]\n",
    "i=[x for x in data if(lambda v:type(v)==int)(x)]\n",
    "print(i)"
   ]
  },
  {
   "cell_type": "code",
   "execution_count": null,
   "id": "6cb0a4a9-5331-44e3-a0cf-a73e9bc330fe",
   "metadata": {},
   "outputs": [],
   "source": [
    "calculate the factorial of n using recursion of lambda function\n",
    "n = 4"
   ]
  },
  {
   "cell_type": "code",
   "execution_count": 43,
   "id": "a598a676-0ebf-483f-9685-50b093fc190d",
   "metadata": {},
   "outputs": [
    {
     "name": "stdout",
     "output_type": "stream",
     "text": [
      "24\n"
     ]
    }
   ],
   "source": [
    "fact = (lambda f: lambda n: 1 if n == 0 else\n",
    "        n * f(f)(n-1)) (lambda f: lambda n:1 \n",
    "                        if n==0 else n*f(f)(n-1))\n",
    "print(fact(4))"
   ]
  },
  {
   "cell_type": "code",
   "execution_count": null,
   "id": "d4688ce4-6412-48f7-a274-38b9c0db949c",
   "metadata": {},
   "outputs": [],
   "source": [
    "same as above syntax try this problem, sum of digits \n",
    "i/p : 3412\n",
    "o/p : 10"
   ]
  },
  {
   "cell_type": "code",
   "execution_count": 47,
   "id": "66b7ea04-c76d-4c59-b5ef-79197b45523e",
   "metadata": {},
   "outputs": [
    {
     "name": "stdout",
     "output_type": "stream",
     "text": [
      "10\n"
     ]
    }
   ],
   "source": [
    "dsum = (lambda f: lambda n: 0 if n==0 else \n",
    "        n%10 +f(f)(n//10)) (lambda f: lambda n: 0 \n",
    "                            if n==0 else n%10 +f(f)(n//10)) \n",
    "print(dsum(1234))"
   ]
  },
  {
   "cell_type": "code",
   "execution_count": 49,
   "id": "1dfb6935-92d7-4d38-92d8-ab4cf5076627",
   "metadata": {},
   "outputs": [
    {
     "name": "stdout",
     "output_type": "stream",
     "text": [
      "33\n"
     ]
    }
   ],
   "source": [
    "x = lambda num: num+22\n",
    "print(x(11))"
   ]
  },
  {
   "cell_type": "code",
   "execution_count": 53,
   "id": "ade9aee1-8fdc-44e3-83e3-78f0602ced1c",
   "metadata": {},
   "outputs": [
    {
     "name": "stdout",
     "output_type": "stream",
     "text": [
      "41\n"
     ]
    }
   ],
   "source": [
    "add = lambda num1, num2: num1+num2\n",
    "print(add(11,30))"
   ]
  },
  {
   "cell_type": "code",
   "execution_count": 57,
   "id": "172d87d6-8f7e-4365-83b8-1077397e1877",
   "metadata": {},
   "outputs": [
    {
     "name": "stdout",
     "output_type": "stream",
     "text": [
      "7\n"
     ]
    }
   ],
   "source": [
    "big_num = lambda x, y: x if x>y else y\n",
    "print(big_num(2,7))"
   ]
  },
  {
   "cell_type": "code",
   "execution_count": 59,
   "id": "0f2d128c-311e-4009-aff5-12e005227809",
   "metadata": {},
   "outputs": [
    {
     "name": "stdout",
     "output_type": "stream",
     "text": [
      "[2, 4, 6, 8, 10]\n"
     ]
    }
   ],
   "source": [
    "nums = [11,2,33,4,55,6,77,8,99,10]\n",
    "e = list(filter(lambda num: num%2==0, nums))\n",
    "print(e)"
   ]
  },
  {
   "cell_type": "code",
   "execution_count": 61,
   "id": "999b08bc-e3b7-4b29-9d48-cc980d268acf",
   "metadata": {},
   "outputs": [
    {
     "name": "stdout",
     "output_type": "stream",
     "text": [
      "[11, 33, 55, 77, 99]\n"
     ]
    }
   ],
   "source": [
    "nums = [11,2,33,4,55,6,77,8,99,10]\n",
    "e = list(filter(lambda num: num%2!=0, nums))\n",
    "print(e)"
   ]
  },
  {
   "cell_type": "code",
   "execution_count": 3,
   "id": "7c3d376c-f7be-4757-9f01-e2058fc01679",
   "metadata": {},
   "outputs": [
    {
     "name": "stdout",
     "output_type": "stream",
     "text": [
      "[False, True, False, True, False, True, False, True, False, True]\n"
     ]
    }
   ],
   "source": [
    "nums = [11,2,33,4,55,6,77,8,99,10]\n",
    "e = list(map(lambda num: num%2==0, nums))\n",
    "print(e)"
   ]
  },
  {
   "cell_type": "code",
   "execution_count": 5,
   "id": "ccdc2037-8c0f-4810-87a9-77887b954073",
   "metadata": {},
   "outputs": [
    {
     "name": "stdout",
     "output_type": "stream",
     "text": [
      "[True, False, True, False, True, False, True, False, True, False]\n"
     ]
    }
   ],
   "source": [
    "nums = [11,2,33,4,55,6,77,8,99,10]\n",
    "e = list(map(lambda num: num%2!=0, nums))\n",
    "print(e)"
   ]
  },
  {
   "cell_type": "code",
   "execution_count": 7,
   "id": "84af762c-b90c-4f2e-af59-6cee169f94da",
   "metadata": {},
   "outputs": [
    {
     "name": "stdout",
     "output_type": "stream",
     "text": [
      "[(2, 11), (66, 66), (11, 99)]\n"
     ]
    }
   ],
   "source": [
    "packs = [(11,99), (2,11), (66, 66)]\n",
    "result = sorted(packs, key= lambda x:x[1])\n",
    "print(result)"
   ]
  },
  {
   "cell_type": "code",
   "execution_count": 11,
   "id": "0f723aa0-0c45-40a9-a6a1-cd9068a6db65",
   "metadata": {},
   "outputs": [
    {
     "name": "stdout",
     "output_type": "stream",
     "text": [
      "10\n"
     ]
    }
   ],
   "source": [
    "def b(n):\n",
    "    return lambda x:x*n\n",
    "a = b(2)\n",
    "print(a(5))"
   ]
  },
  {
   "cell_type": "code",
   "execution_count": 13,
   "id": "9e784ad4-4a01-462a-b943-0f6b168418db",
   "metadata": {},
   "outputs": [
    {
     "name": "stdout",
     "output_type": "stream",
     "text": [
      "8\n",
      "8\n"
     ]
    }
   ],
   "source": [
    "def a(n):\n",
    "    return n**3\n",
    "b = lambda x: x**3\n",
    "print(a(2))\n",
    "print(b(2))"
   ]
  },
  {
   "cell_type": "code",
   "execution_count": null,
   "id": "845f66fb-4fc0-4ce7-8fb4-7fc04c3422eb",
   "metadata": {},
   "outputs": [],
   "source": [
    "code to declare the longest string using lambda"
   ]
  },
  {
   "cell_type": "code",
   "execution_count": 17,
   "id": "f4a3691d-8ef1-4e86-9635-7eadd2262964",
   "metadata": {},
   "outputs": [
    {
     "name": "stdout",
     "output_type": "stream",
     "text": [
      "Komarapu\n",
      "1234\n"
     ]
    }
   ],
   "source": [
    "long = lambda a,b: a if len(a)> len(b) else b\n",
    "print(long('Vijay', 'Komarapu'))\n",
    "print(long('1234', '11'))"
   ]
  },
  {
   "cell_type": "code",
   "execution_count": 19,
   "id": "87115f18-765a-459a-bbd6-a868ea5d886a",
   "metadata": {},
   "outputs": [
    {
     "name": "stdout",
     "output_type": "stream",
     "text": [
      "['PEN', 'CAP', 'BAT']\n"
     ]
    }
   ],
   "source": [
    "data = ['pen', 'cap', 'bat']\n",
    "upper = [(lambda x: x.upper())(d) for d in data]\n",
    "print(upper)"
   ]
  },
  {
   "cell_type": "code",
   "execution_count": 57,
   "id": "06e6e714-830b-45d3-9826-165f1060a508",
   "metadata": {},
   "outputs": [
    {
     "name": "stdout",
     "output_type": "stream",
     "text": [
      "['nep', 'pac', 'tab']\n"
     ]
    }
   ],
   "source": [
    "words = ['pen', 'cap', 'bat']\n",
    "li = [(lambda x: x[::-1])(d) for d in words]\n",
    "print(li) "
   ]
  },
  {
   "cell_type": "code",
   "execution_count": 59,
   "id": "812312ed-f8bd-4555-8294-4dc7be5c4193",
   "metadata": {},
   "outputs": [
    {
     "name": "stdout",
     "output_type": "stream",
     "text": [
      "['NEP', 'PAC', 'TAB']\n"
     ]
    }
   ],
   "source": [
    "words = ['pen', 'cap', 'bat']\n",
    "li = [(lambda x: x[::-1].upper())(d) for d in words]\n",
    "print(li) "
   ]
  },
  {
   "cell_type": "code",
   "execution_count": null,
   "id": "cc0fca56-0abc-42c4-9a82-a7936fed972c",
   "metadata": {},
   "outputs": [],
   "source": [
    "['hi', '', 'students', '', 'bye'] -> ['hi', 'students', 'bye'] by using LC & lambda"
   ]
  },
  {
   "cell_type": "code",
   "execution_count": 81,
   "id": "f7910ea3-5577-4091-ad80-3ace22070f2d",
   "metadata": {},
   "outputs": [
    {
     "name": "stdout",
     "output_type": "stream",
     "text": [
      "['hi', 'students', 'bye']\n"
     ]
    }
   ],
   "source": [
    "words = ['hi', ' ' , 'students', ' ', 'bye']\n",
    "li = [s for s in words if (lambda x: x!=' ')(s)]\n",
    "print(li)"
   ]
  },
  {
   "cell_type": "code",
   "execution_count": 83,
   "id": "30337f67-6f32-41bf-8a26-a26d36ce823d",
   "metadata": {},
   "outputs": [
    {
     "name": "stdout",
     "output_type": "stream",
     "text": [
      "['hi', 'students', 'bye']\n"
     ]
    }
   ],
   "source": [
    "words = ['hi', ' ' , 'students', ' ', 'bye']\n",
    "li = [(lambda x:x)(i) for i in words if (i!=' ')]\n",
    "print(li)"
   ]
  }
 ],
 "metadata": {
  "kernelspec": {
   "display_name": "Python 3 (ipykernel)",
   "language": "python",
   "name": "python3"
  },
  "language_info": {
   "codemirror_mode": {
    "name": "ipython",
    "version": 3
   },
   "file_extension": ".py",
   "mimetype": "text/x-python",
   "name": "python",
   "nbconvert_exporter": "python",
   "pygments_lexer": "ipython3",
   "version": "3.12.7"
  }
 },
 "nbformat": 4,
 "nbformat_minor": 5
}
