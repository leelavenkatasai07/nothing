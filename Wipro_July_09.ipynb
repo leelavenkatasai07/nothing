{
 "cells": [
  {
   "cell_type": "code",
   "execution_count": null,
   "id": "24dafdf1-dfdd-4732-8b34-e8ea5f58be52",
   "metadata": {},
   "outputs": [],
   "source": [
    "Command Line Aguments\n",
    "sys module\n",
    "sys.argv- sys.argv[0],\n",
    "sys.argv[1]......\n",
    "error handling\n",
    "sys.argv -> sys module\n",
    "index default starts from 0\n",
    "argparse - flags,opt"
   ]
  },
  {
   "cell_type": "code",
   "execution_count": null,
   "id": "4f91fa70-37c6-4f16-affe-7600feb3475d",
   "metadata": {},
   "outputs": [],
   "source": [
    "import sys\n",
    "print(\"Script name:\", sys.argv[0])\n",
    "print(\"All args:\", sys.argv[1:])\n",
    "if len(sys.argv)>1:\n",
    "    print(\"First arg:\", sys.argv[1])\n",
    "else:\n",
    "    print(\"No arguments provided\")"
   ]
  },
  {
   "cell_type": "code",
   "execution_count": null,
   "id": "5670f2b8-2d4b-4b1a-b5b9-2040ff934d8f",
   "metadata": {},
   "outputs": [],
   "source": [
    "E:\\Eighty>python arg.py code gnan\n",
    "Script name: arg.py\n",
    "All args: ['code', 'gnan']\n",
    "First arg: code"
   ]
  },
  {
   "cell_type": "code",
   "execution_count": null,
   "id": "25256573-1ff6-494d-9966-3d6970c442c4",
   "metadata": {},
   "outputs": [],
   "source": [
    "E:\\Eighty>python arg.py\n",
    "Script name: arg.py\n",
    "All args: []\n",
    "No arguments provided"
   ]
  },
  {
   "cell_type": "code",
   "execution_count": null,
   "id": "65cd2589-75d9-48e7-8004-c2d9f34a9fff",
   "metadata": {},
   "outputs": [],
   "source": [
    "import sys\n",
    "print(\"Script name:\", sys.argv[0])\n",
    "print(\"All args:\", sys.argv[1:])\n",
    "print(\"Number of items : \",len(sys.argv))\n",
    "print(\"Including file name : \", sys.argv[::1])\n",
    "if len(sys.argv)>1:\n",
    "    print(\"First arg:\", sys.argv[1])\n",
    "else:\n",
    "    print(\"No arguments provided\")"
   ]
  },
  {
   "cell_type": "code",
   "execution_count": null,
   "id": "292c2b4d-48fe-4c8d-9695-35e6dcaac57c",
   "metadata": {},
   "outputs": [],
   "source": [
    "E:\\Eighty>python arg.py code gnan hack errank leet code\n",
    "Script name: arg.py\n",
    "All args: ['code', 'gnan', 'hack', 'errank', 'leet', 'code']\n",
    "Number of items :  7\n",
    "Including file name :  ['arg.py', 'code', 'gnan', 'hack', 'errank', 'leet', 'code']\n",
    "First arg: code"
   ]
  },
  {
   "cell_type": "code",
   "execution_count": null,
   "id": "209e23e2-63d6-4140-ba49-6f428bfd40bc",
   "metadata": {},
   "outputs": [],
   "source": [
    "import sys\n",
    "num1 = int(sys.argv[1])\n",
    "num2 = int(sys.argv[2])\n",
    "print(\"Sum :\", num1+num2)"
   ]
  },
  {
   "cell_type": "code",
   "execution_count": null,
   "id": "2bec290e-bde7-418d-b46f-d3e252b8ed05",
   "metadata": {},
   "outputs": [],
   "source": [
    "E:\\Eighty>python arg.py 27 3\n",
    "Sum : 30"
   ]
  },
  {
   "cell_type": "code",
   "execution_count": null,
   "id": "3e4285b5-baa5-42b5-9f34-9b66cfd7f583",
   "metadata": {},
   "outputs": [],
   "source": [
    "like other arithmetic operations"
   ]
  },
  {
   "cell_type": "code",
   "execution_count": null,
   "id": "49db1fc2-7e3e-4bfa-a1ff-2399c9d509c1",
   "metadata": {},
   "outputs": [],
   "source": [
    "import sys\n",
    "if len(sys.argv) != 3:\n",
    "    print(\"Usage: python arg.py l b\")\n",
    "else:\n",
    "    l = float(sys.argv[1])\n",
    "    b = float(sys.argv[2])\n",
    "    print(\"Calculated area:\", l*b)"
   ]
  },
  {
   "cell_type": "code",
   "execution_count": null,
   "id": "c27467fb-9a21-42e9-bfcf-6b73796a6639",
   "metadata": {},
   "outputs": [],
   "source": [
    "E:\\Eighty>python arg.py 3 4\n",
    "Calculated area: 12.0"
   ]
  },
  {
   "cell_type": "code",
   "execution_count": null,
   "id": "f78e8c0e-ecda-446b-ad16-ff5d638d64a4",
   "metadata": {},
   "outputs": [],
   "source": [
    "E:\\Eighty>python arg.py 3\n",
    "Usage: python arg.py l b"
   ]
  },
  {
   "cell_type": "code",
   "execution_count": null,
   "id": "1789126c-08e6-463e-a3ee-6ffef1cd85dc",
   "metadata": {},
   "outputs": [],
   "source": [
    "import sys\n",
    "if len(sys.argv)<2:\n",
    "    print(\"Usage: python arg.py n1, n2,.....\")\n",
    "    sys.exit()\n",
    "numbers = [int(arg) for arg in sys.argv[1:]]\n",
    "total = sum(numbers)\n",
    "print(\"Numbers:\", numbers)\n",
    "print(\"Sum:\", total)"
   ]
  },
  {
   "cell_type": "code",
   "execution_count": null,
   "id": "28102586-0274-4da8-ad4f-03f489cbbd75",
   "metadata": {},
   "outputs": [],
   "source": [
    "E:\\Eighty>python arg.py 2 4 68 10 1 3 4 5 7 9\n",
    "Numbers: [2, 4, 68, 10, 1, 3, 4, 5, 7, 9]\n",
    "Sum: 113"
   ]
  },
  {
   "cell_type": "code",
   "execution_count": null,
   "id": "e2a6edcb-7e4b-4379-bd72-f97e3e4804fe",
   "metadata": {},
   "outputs": [],
   "source": [
    "import argparse\n",
    "parser = argparse.ArgumentParser(description= \"Add 2 Numbers\")\n",
    "parser.add_argument('--x', type=int, required=True, help = \"First number\")\n",
    "parser.add_argument('--y', type=int, required=True, help = \"Second number\")\n",
    "args = parser.parse_args()\n",
    "result = args.x+args.y\n",
    "print(\"Sum is\", result)"
   ]
  },
  {
   "cell_type": "code",
   "execution_count": null,
   "id": "93e330a4-7305-458d-abcd-58f20ff01d80",
   "metadata": {},
   "outputs": [],
   "source": [
    "E:\\Eighty>python arg.py --x 20 --y 10\n",
    "Sum is 30"
   ]
  },
  {
   "cell_type": "code",
   "execution_count": null,
   "id": "1d6327a8-9531-4552-9cb3-664727644c44",
   "metadata": {},
   "outputs": [],
   "source": [
    "# calc evaluation using parse\n",
    "\n",
    "import argparse\n",
    "parser = argparse.ArgumentParser(description= \"Simple Calclulator\")\n",
    "parser.add_argument('--x', type=int, required=True, help= \"First number\")\n",
    "parser.add_argument('--y', type=int, required=True, help= \"Second number\")\n",
    "parser.add_argument('--opt', type=str, required=True, choices= ['add', 'sub', 'mul', 'div'], help= \"Operation\")\n",
    "args = parser.parse_args()\n",
    "if args.opt=='add':\n",
    "    result = args.x + args.y\n",
    "elif args.opt == 'sub':\n",
    "    result = args.x-args.y\n",
    "elif args.opt == 'mul':\n",
    "    result = args.x*args.y\n",
    "elif args.opt == 'div':\n",
    "    result = args.x/args.y\n",
    "print(\"Result is\", result)"
   ]
  },
  {
   "cell_type": "code",
   "execution_count": null,
   "id": "06797cf8-5500-4431-87d5-8d27dc162229",
   "metadata": {},
   "outputs": [],
   "source": [
    "E:\\Eighty>python arg.py --x 20 --y 10 --opt mul\n",
    "Result is 200"
   ]
  },
  {
   "cell_type": "code",
   "execution_count": null,
   "id": "c5361b3c-9184-4009-b19e-bd0950aeed3d",
   "metadata": {},
   "outputs": [],
   "source": [
    "import os\n",
    "path = \".\"\n",
    "files = os.listdir(path)\n",
    "print(\"Files and folders in current dirextory :\")\n",
    "for f in files:\n",
    "    print(f)"
   ]
  },
  {
   "cell_type": "code",
   "execution_count": null,
   "id": "9b076ccc-bab9-4c70-8517-6d86bb4fe39c",
   "metadata": {},
   "outputs": [],
   "source": [
    "E:\\Eighty>python arg.py\n",
    "Files and folders in current dirextory :\n",
    "arg.py\n",
    "collection.py\n",
    "csvModule.py\n",
    "demo\n",
    "import.py\n",
    "iter.py\n",
    "load.py\n",
    "os.py\n",
    "people.csv\n",
    "postreq.py\n",
    "req.py\n",
    "sample\n",
    "user.json\n",
    "Wipro_July_2.py"
   ]
  },
  {
   "cell_type": "code",
   "execution_count": null,
   "id": "3afb3866-e000-4d28-a781-8819d824ca3f",
   "metadata": {},
   "outputs": [],
   "source": [
    "import os\n",
    "folder = \"ohhhh\"\n",
    "if not os.path.exists(folder):\n",
    "    os.mkdir(folder)\n",
    "    print (f\"Folder '{folder}' created.\")\n",
    "else:\n",
    "    print(f\"Folder {folder} already exists.\")"
   ]
  },
  {
   "cell_type": "code",
   "execution_count": null,
   "id": "6cadc878-101b-41c4-8f75-b6af1233d1a5",
   "metadata": {},
   "outputs": [],
   "source": [
    "E:\\Eighty>python arg.py\n",
    "Folder 'ohhhh' created."
   ]
  },
  {
   "cell_type": "code",
   "execution_count": null,
   "id": "69c62bf9-d52e-4a5a-9e04-779973841289",
   "metadata": {},
   "outputs": [],
   "source": [
    "E:\\Eighty>python arg.py\n",
    "Folder ohhhh already exists."
   ]
  },
  {
   "cell_type": "code",
   "execution_count": null,
   "id": "93e0c879-06dd-4773-906c-960280a7c73e",
   "metadata": {},
   "outputs": [],
   "source": [
    "import os\n",
    "file = \"csvModule.py\"\n",
    "if os.path.exists(file):\n",
    "    os.remove(file)\n",
    "    print(f\"{file} deleted\")\n",
    "else:\n",
    "    print(\"File not found\")"
   ]
  },
  {
   "cell_type": "code",
   "execution_count": null,
   "id": "4f06b554-3a0c-448c-b362-e8b0435b8076",
   "metadata": {},
   "outputs": [],
   "source": [
    "E:\\Eighty>python arg.py\n",
    "csvModule.py deleted"
   ]
  },
  {
   "cell_type": "code",
   "execution_count": null,
   "id": "ebdbed74-10aa-4fae-bcca-410baa379ecb",
   "metadata": {},
   "outputs": [],
   "source": [
    "E:\\Eighty>python arg.py\n",
    "File not found"
   ]
  },
  {
   "cell_type": "code",
   "execution_count": null,
   "id": "9af1d850-249a-4595-8888-0091a335fe83",
   "metadata": {},
   "outputs": [],
   "source": [
    "import os\n",
    "file = \"import.py\"\n",
    "if os.path.exists(file):\n",
    "    size = os.path.getsize(file)\n",
    "    print(f\"{file} size : {size} bytes\")\n",
    "else:\n",
    "    print(\"File not found\")"
   ]
  },
  {
   "cell_type": "code",
   "execution_count": null,
   "id": "fe26458b-5d2b-44c5-ad6f-121b84928127",
   "metadata": {},
   "outputs": [],
   "source": [
    "E:\\Eighty>python arg.py\n",
    "import.py size : 325 bytes"
   ]
  }
 ],
 "metadata": {
  "kernelspec": {
   "display_name": "Python 3 (ipykernel)",
   "language": "python",
   "name": "python3"
  },
  "language_info": {
   "codemirror_mode": {
    "name": "ipython",
    "version": 3
   },
   "file_extension": ".py",
   "mimetype": "text/x-python",
   "name": "python",
   "nbconvert_exporter": "python",
   "pygments_lexer": "ipython3",
   "version": "3.13.5"
  }
 },
 "nbformat": 4,
 "nbformat_minor": 5
}
