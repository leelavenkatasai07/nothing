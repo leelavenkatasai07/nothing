{
 "cells": [
  {
   "cell_type": "code",
   "execution_count": null,
   "id": "82869372-3731-4824-8156-819b7ea8236a",
   "metadata": {},
   "outputs": [],
   "source": [
    "code to take user input of random 10 numbers using list comprehension and print them \n",
    "constraint : take input with space seprated input must read 10 numbers if the user give more than 10 numbers space separated"
   ]
  },
  {
   "cell_type": "code",
   "execution_count": 3,
   "id": "06f284b8-1f9b-4e38-a95e-4816bdaa3e02",
   "metadata": {},
   "outputs": [
    {
     "name": "stdin",
     "output_type": "stream",
     "text": [
      "Enter 10 space seperated numbers :  4 99 11 2 0 8 9 2 3 4 5  7 8 9 10 2 3 4 5 6 77 7 \n"
     ]
    },
    {
     "name": "stdout",
     "output_type": "stream",
     "text": [
      "[4, 99, 11, 2, 0, 8, 9, 2, 3, 4, 5]\n"
     ]
    }
   ],
   "source": [
    "print([int(x) for x in input(\"Enter 10 space seperated numbers : \").split()][:11])"
   ]
  },
  {
   "cell_type": "code",
   "execution_count": 5,
   "id": "e261db49-0c35-4628-b335-26896a1141a0",
   "metadata": {},
   "outputs": [
    {
     "name": "stdin",
     "output_type": "stream",
     "text": [
      "Enter :  green cream blue orange violet red\n"
     ]
    },
    {
     "name": "stdout",
     "output_type": "stream",
     "text": [
      "['GREEN', 'CREAM', 'BLUE', 'ORANGE', 'VIOLET', 'RED']\n"
     ]
    }
   ],
   "source": [
    " print([color.upper() for color in input(\"Enter : \").split()])"
   ]
  },
  {
   "cell_type": "code",
   "execution_count": 7,
   "id": "5a607c2d-34ad-4fbc-b235-331af9c02892",
   "metadata": {},
   "outputs": [
    {
     "name": "stdout",
     "output_type": "stream",
     "text": [
      "[0, 2, 4, 6, 8, 10]\n"
     ]
    }
   ],
   "source": [
    "print([x for x in range(11) if x%2==0])"
   ]
  },
  {
   "cell_type": "code",
   "execution_count": 11,
   "id": "072e55d9-b7c2-4dd4-a33c-9868aca7d82b",
   "metadata": {},
   "outputs": [
    {
     "name": "stdout",
     "output_type": "stream",
     "text": [
      "8\n"
     ]
    }
   ],
   "source": [
    "m = [[1, 2, 3], [4, 5, 6], [7, 8, 9]]\n",
    "print(m[2][1])"
   ]
  },
  {
   "cell_type": "code",
   "execution_count": 13,
   "id": "98b4193c-1c30-4d7d-8ebf-9072cb9536b2",
   "metadata": {},
   "outputs": [
    {
     "name": "stdout",
     "output_type": "stream",
     "text": [
      "99\n"
     ]
    }
   ],
   "source": [
    "m = [[1, 2, 3], [4, 5, [66, 99]], [7, 8, 9]]\n",
    "print(m[1][2][1])"
   ]
  },
  {
   "cell_type": "code",
   "execution_count": null,
   "id": "1d5d479b-f097-4575-b37c-f019bf4a8cd7",
   "metadata": {},
   "outputs": [],
   "source": [
    "code to take user input with space seperated and convert the 9 inputs in to 3X3 matrix form on display"
   ]
  },
  {
   "cell_type": "code",
   "execution_count": 18,
   "id": "9a50290d-6acd-40a5-b9ca-5b048fb4d391",
   "metadata": {},
   "outputs": [
    {
     "name": "stdin",
     "output_type": "stream",
     "text": [
      "Enter 9 space seprated numbers :  4 99 11 2 0 8 9 2 3 10\n"
     ]
    },
    {
     "name": "stdout",
     "output_type": "stream",
     "text": [
      "3X3 matrix\n",
      "[4, 99, 11]\n",
      "[2, 0, 8]\n",
      "[9, 2, 3]\n"
     ]
    }
   ],
   "source": [
    "nums = [int(x) for x in input(\"Enter 9 space seprated numbers : \").split()[:9]]\n",
    "m = [[nums[i*3+j] for j in range(3)] for i in range(3)]\n",
    "print(\"3X3 matrix\")\n",
    "for x in m:\n",
    "    print(x)"
   ]
  },
  {
   "cell_type": "code",
   "execution_count": null,
   "id": "c5cba5d8-4cf8-49fd-8d22-bce5ea5cac2b",
   "metadata": {},
   "outputs": [],
   "source": [
    "code to convert dec to binary matrix by considering even and odd manipulations for user defined variables of an nXn matrix where n= 3\n",
    "list = [[1,2,3],[3,3,3],[4,5,6]]\n",
    "output :\n",
    "101\n",
    "111\n",
    "010"
   ]
  },
  {
   "cell_type": "code",
   "execution_count": 32,
   "id": "e2485021-e61b-4589-87e2-f31ebb827c33",
   "metadata": {},
   "outputs": [
    {
     "name": "stdin",
     "output_type": "stream",
     "text": [
      "Enter 9 numbers 1 2 3 3 3 3 4 5 6\n"
     ]
    },
    {
     "name": "stdout",
     "output_type": "stream",
     "text": [
      "[1, 2, 3]\n",
      "[3, 3, 3]\n",
      "[4, 5, 6]\n",
      "[1, 0, 1]\n",
      "[1, 1, 1]\n",
      "[0, 1, 0]\n"
     ]
    }
   ],
   "source": [
    "nums = input(\"Enter 9 numbers\").split()\n",
    "numbers = [int(x) for x in nums]\n",
    "m = [[numbers [i*3+j] for j in range(3)] for i in range(3)]\n",
    "bm =[[0 if m[i][j] %2==0 else 1 for j in range(3)] for i in range(3)]\n",
    "for r in m:\n",
    "    print(r)\n",
    "for r in bm:\n",
    "    print(r)"
   ]
  },
  {
   "cell_type": "code",
   "execution_count": 26,
   "id": "e19de850-124e-4637-9e93-65f72d464948",
   "metadata": {},
   "outputs": [
    {
     "name": "stdin",
     "output_type": "stream",
     "text": [
      " 1 2 3 3 3 3 4 5 6\n"
     ]
    },
    {
     "name": "stdout",
     "output_type": "stream",
     "text": [
      "[1, 0, 1]\n",
      "[1, 1, 1]\n",
      "[0, 1, 0]\n"
     ]
    }
   ],
   "source": [
    "nums = ([int(x) for x in input().split()])\n",
    "a = [0 if i%2==0 else 1 for i in nums]\n",
    "m = [[a[i*3+j] for j in range(3)] for i in range(3)]\n",
    "for i in m:\n",
    "    print(i)"
   ]
  },
  {
   "cell_type": "code",
   "execution_count": 78,
   "id": "57e4a0fd-2e7e-489c-aaa4-82337ab47802",
   "metadata": {},
   "outputs": [
    {
     "name": "stdout",
     "output_type": "stream",
     "text": [
      "*  *  *  \n",
      "*  *  \n",
      "*  \n",
      "\n",
      "\n",
      "*  \n",
      "*  *  \n",
      "*  *  *  \n"
     ]
    }
   ],
   "source": [
    "n = 7\n",
    "for i in range(n,-1,-2):\n",
    "    print('*  '*(i//2))\n",
    "for i in range(0,n,2):\n",
    "    print('*  '*(i//2))"
   ]
  },
  {
   "cell_type": "code",
   "execution_count": 94,
   "id": "d3245b43-d18f-4987-b405-2992c7e88d14",
   "metadata": {},
   "outputs": [
    {
     "name": "stdout",
     "output_type": "stream",
     "text": [
      "*  *  *  9  *  *  *  "
     ]
    }
   ],
   "source": [
    "print('*  '*(7//2),end='')\n",
    "print('9  '*(1),end='')\n",
    "print('*  '*(7//2),end='')"
   ]
  },
  {
   "cell_type": "code",
   "execution_count": null,
   "id": "2598cded-6c17-4dd2-b630-7382f64a16d8",
   "metadata": {},
   "outputs": [],
   "source": []
  }
 ],
 "metadata": {
  "kernelspec": {
   "display_name": "Python 3 (ipykernel)",
   "language": "python",
   "name": "python3"
  },
  "language_info": {
   "codemirror_mode": {
    "name": "ipython",
    "version": 3
   },
   "file_extension": ".py",
   "mimetype": "text/x-python",
   "name": "python",
   "nbconvert_exporter": "python",
   "pygments_lexer": "ipython3",
   "version": "3.12.7"
  }
 },
 "nbformat": 4,
 "nbformat_minor": 5
}
