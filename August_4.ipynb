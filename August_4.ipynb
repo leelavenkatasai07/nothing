{
 "cells": [
  {
   "cell_type": "code",
   "execution_count": null,
   "id": "1809a5db-1f19-4774-acf9-b32e7822db09",
   "metadata": {},
   "outputs": [],
   "source": [
    "Pandas Module\n",
    "\n",
    "1. series (1-D Array)\n",
    "2. Dataframes (2-D Array)/ labeling will be on rows and column\n",
    "\n",
    "Operations :\n",
    "1. reading / writing of data (csv/json/xls)\n",
    "2. inserting of data\n",
    "3. selecting of data\n",
    "4. data manipulation\n",
    "5. grouping and aggregation\n",
    "6. merging / joining\n",
    "7. sorting"
   ]
  },
  {
   "cell_type": "code",
   "execution_count": 3,
   "id": "4a745a34-f5a0-4c96-998f-f019e64921ce",
   "metadata": {},
   "outputs": [
    {
     "name": "stdout",
     "output_type": "stream",
     "text": [
      "Enter 3 names seperated with space : \n"
     ]
    },
    {
     "name": "stdin",
     "output_type": "stream",
     "text": [
      " yang kun lee\n"
     ]
    },
    {
     "name": "stdout",
     "output_type": "stream",
     "text": [
      "Enter 3 index labels : \n"
     ]
    },
    {
     "name": "stdin",
     "output_type": "stream",
     "text": [
      " 1 3 5\n"
     ]
    },
    {
     "name": "stdout",
     "output_type": "stream",
     "text": [
      "Created a new series: \n",
      "1    yang\n",
      "3     kun\n",
      "5     lee\n",
      "dtype: object\n"
     ]
    }
   ],
   "source": [
    "import pandas as pd\n",
    "\n",
    "print(\"Enter 3 names seperated with space : \")\n",
    "names = input().strip().split()\n",
    "print(\"Enter 3 index labels : \")\n",
    "indices = input().strip().split()\n",
    "try:\n",
    "    if len(names) != 3 or len (indices) != 3:\n",
    "        raise ValueError(\"Please provide exact names with indices\")\n",
    "    series= pd.Series(data= names, index= indices)\n",
    "    print(\"Created a new series: \")\n",
    "    print(series)\n",
    "except ValueError as e:\n",
    "    print(f\"Error:{e}\")"
   ]
  },
  {
   "cell_type": "code",
   "execution_count": null,
   "id": "6ba362eb-ff31-428f-94d4-b89e31eeec7b",
   "metadata": {},
   "outputs": [],
   "source": [
    "code elobrates how to filter numerical data in series based on conditiion (e.g: values greater than a threshold)"
   ]
  },
  {
   "cell_type": "code",
   "execution_count": 17,
   "id": "a2bc875e-c35b-4adb-a675-532e23d770f7",
   "metadata": {},
   "outputs": [
    {
     "name": "stdout",
     "output_type": "stream",
     "text": [
      "Enter 4 random numbers space seperated : \n"
     ]
    },
    {
     "name": "stdin",
     "output_type": "stream",
     "text": [
      " 2 7 9 12\n"
     ]
    },
    {
     "name": "stdout",
     "output_type": "stream",
     "text": [
      "0     2.0\n",
      "1     7.0\n",
      "2     9.0\n",
      "3    12.0\n",
      "dtype: float64\n",
      "Values > 10 : \n",
      "3    12.0\n",
      "dtype: float64\n"
     ]
    }
   ],
   "source": [
    "import pandas as pd\n",
    "\n",
    "print(\"Enter 4 random numbers space seperated : \")\n",
    "numbers = input().strip().split()\n",
    "numbers = [float(num) for num in numbers]\n",
    "try:\n",
    "    if len(numbers) != 4:\n",
    "        raise ValueError(\"Please provide exactly 4 numbers: \")\n",
    "    total_data = pd.Series(numbers)\n",
    "    print(total_data)\n",
    "    \n",
    "    filtered = total_data[total_data>10]\n",
    "    #0->5 1->15 2->8 3->18 \n",
    "    print(\"Values > 10 : \")\n",
    "    print(filtered)\n",
    "except ValueError as e:\n",
    "    print(f\"Error:{e}\")"
   ]
  },
  {
   "cell_type": "code",
   "execution_count": null,
   "id": "8c2587a8-e116-4afb-b53b-9109b01a036e",
   "metadata": {},
   "outputs": [],
   "source": [
    "code elobrates how to filter string data in series based on insensitivity.."
   ]
  },
  {
   "cell_type": "code",
   "execution_count": 19,
   "id": "5dd7baa2-140c-4150-ad46-9de7184415e4",
   "metadata": {},
   "outputs": [
    {
     "name": "stdout",
     "output_type": "stream",
     "text": [
      "Enter 5 strings space seperated : \n"
     ]
    },
    {
     "name": "stdin",
     "output_type": "stream",
     "text": [
      " apple kiwi apricot banana orange\n"
     ]
    },
    {
     "name": "stdout",
     "output_type": "stream",
     "text": [
      "Enter substring : \n"
     ]
    },
    {
     "name": "stdin",
     "output_type": "stream",
     "text": [
      " ban\n"
     ]
    },
    {
     "name": "stdout",
     "output_type": "stream",
     "text": [
      "\n",
      " Original Series : \n",
      "0      apple\n",
      "1       kiwi\n",
      "2    apricot\n",
      "3     banana\n",
      "4     orange\n",
      "dtype: object\n",
      "strings containing 'ban' (case-insensitive) :\n",
      "3    banana\n",
      "dtype: object\n"
     ]
    }
   ],
   "source": [
    "import pandas as pd\n",
    "\n",
    "print(\"Enter 5 strings space seperated : \")\n",
    "strings = input().strip().split()\n",
    "print(\"Enter substring : \")\n",
    "substring = input().strip()\n",
    "try:\n",
    "    if len(strings) != 5:\n",
    "        raise ValueError(\"Please provide 5 strings only :\")\n",
    "    series = pd.Series(strings)\n",
    "    print(\"\\n Original Series : \")\n",
    "    print(series)\n",
    "    filtered_series = series [series.str.lower().str.contains(substring.lower(),na=False)]\n",
    "    print(f\"strings containing '{substring}' (case-insensitive) :\")\n",
    "    print(filtered_series if not filtered_series.empty else \"No match found.\")\n",
    "except ValueError as e:\n",
    "    print(f\"Error:{e}\")"
   ]
  },
  {
   "cell_type": "code",
   "execution_count": 27,
   "id": "c687ea7d-5912-4120-9462-29e4f7d8d2c3",
   "metadata": {},
   "outputs": [
    {
     "name": "stdout",
     "output_type": "stream",
     "text": [
      "\n",
      " Original series : \n",
      "a    10.0\n",
      "b     NaN\n",
      "c    30.0\n",
      "d     NaN\n",
      "e    50.0\n",
      "dtype: float64\n",
      "\n",
      "Missing values : \n",
      "a    False\n",
      "b     True\n",
      "c    False\n",
      "d     True\n",
      "e    False\n",
      "dtype: bool\n",
      "\n",
      " series after filling NaN with 0 : \n",
      "a    10.0\n",
      "b     0.0\n",
      "c    30.0\n",
      "d     0.0\n",
      "e    50.0\n",
      "dtype: float64\n",
      "\n",
      " series after dropping missing values : \n",
      "a    10.0\n",
      "c    30.0\n",
      "e    50.0\n",
      "dtype: float64\n"
     ]
    }
   ],
   "source": [
    "# missing value operations on NaN\n",
    "import pandas as pd\n",
    "import numpy as np\n",
    "\n",
    "series = pd.Series([10, np.nan, 30, np.nan, 50], index=['a', 'b', 'c', 'd', 'e'])\n",
    "print(\"\\n Original series : \")\n",
    "print(series)\n",
    "\n",
    "# check missing values\n",
    "print(\"\\nMissing values : \")\n",
    "print(series.isna())\n",
    "\n",
    "# replace nan with 0\n",
    "filled_series = series.fillna(0)\n",
    "print(\"\\n series after filling NaN with 0 : \")\n",
    "print(filled_series)\n",
    "\n",
    "# missing values deletion\n",
    "dropped_series = series.dropna()\n",
    "print(\"\\n series after dropping missing values : \")\n",
    "print(dropped_series)"
   ]
  },
  {
   "cell_type": "code",
   "execution_count": null,
   "id": "16320ad2-e59a-438a-b05d-af50721bcb4c",
   "metadata": {},
   "outputs": [],
   "source": [
    "code to show the computation of statstics and access series attributes.\n",
    "100 200 150 300 250\n",
    "print original data, which is serialized\n",
    "stastics :\n",
    "mean\n",
    "sum\n",
    "max\n",
    "min\n",
    "Attributes :  \n",
    "index = ['a'........'e']\n",
    "values = [100.0.........250.0]"
   ]
  },
  {
   "cell_type": "code",
   "execution_count": 33,
   "id": "4be85cbd-1379-46b5-91bc-0a97a56cd4cf",
   "metadata": {},
   "outputs": [
    {
     "name": "stdout",
     "output_type": "stream",
     "text": [
      "Enter 5 random numbers, space seperated : \n"
     ]
    },
    {
     "name": "stdin",
     "output_type": "stream",
     "text": [
      " 9 5 1 8 3\n"
     ]
    },
    {
     "name": "stdout",
     "output_type": "stream",
     "text": [
      "\n",
      " Original series : \n",
      "a    9.0\n",
      "b    5.0\n",
      "c    1.0\n",
      "d    8.0\n",
      "e    3.0\n",
      "dtype: float64\n",
      "\n",
      " Statstics : \n",
      "Mean : 5.2\n",
      "Sum : 26.0\n",
      "Max : 9.0\n",
      "Min : 1.0\n",
      "\n",
      " Attributes : \n",
      "Index : ['a', 'b', 'c', 'd', 'e']\n",
      "Values : [9.0, 5.0, 1.0, 8.0, 3.0]\n",
      "DataType : float64\n"
     ]
    }
   ],
   "source": [
    "import pandas as pd\n",
    "\n",
    "print(\"Enter 5 random numbers, space seperated : \")\n",
    "numbers = input().strip().split()\n",
    "numbers = [float(num) for num in numbers]\n",
    "try:\n",
    "    if len(numbers) != 5:\n",
    "        raise ValueError(\"Please enter 5 numbers only!!!\")\n",
    "    series = pd.Series(numbers, index= ['a', 'b', 'c', 'd', 'e'])\n",
    "    print(\"\\n Original series : \")\n",
    "    print(series)\n",
    "    \n",
    "    # Statistics\n",
    "    print(\"\\n Statstics : \")\n",
    "    print(f\"Mean : {series.mean()}\")\n",
    "    print(f\"Sum : {series.sum()}\")\n",
    "    print(f\"Max : {series.max()}\")\n",
    "    print(f\"Min : {series.min()}\")\n",
    "\n",
    "    # Attributes\n",
    "    print(\"\\n Attributes : \")\n",
    "    print(f\"Index : {series.index.tolist()}\")\n",
    "    print(f\"Values : {series.values.tolist()}\")\n",
    "    print(f\"DataType : {series.dtype}\")\n",
    "except ValueError as e:\n",
    "    print(f\"Error : {e}\")"
   ]
  },
  {
   "cell_type": "code",
   "execution_count": 35,
   "id": "8b734ec4-1f9e-4d6b-873c-330bc86032ec",
   "metadata": {},
   "outputs": [
    {
     "name": "stdout",
     "output_type": "stream",
     "text": [
      "Enter 4 numbers, space seperated : \n"
     ]
    },
    {
     "name": "stdin",
     "output_type": "stream",
     "text": [
      " 7 4 1 6\n"
     ]
    },
    {
     "name": "stdout",
     "output_type": "stream",
     "text": [
      "\n",
      " Original Series : \n",
      "a    7.0\n",
      "b    4.0\n",
      "c    1.0\n",
      "d    6.0\n",
      "dtype: float64\n",
      "\n",
      " series after doubling series : \n",
      "a    14.0\n",
      "b     8.0\n",
      "c     2.0\n",
      "d    12.0\n",
      "dtype: float64\n",
      "\n",
      " series after adding 100:\n",
      "a    107.0\n",
      "b    104.0\n",
      "c    101.0\n",
      "d    106.0\n",
      "dtype: float64\n"
     ]
    }
   ],
   "source": [
    "import pandas as pd\n",
    "\n",
    "print(\"Enter 4 numbers, space seperated : \")\n",
    "numbers = input().strip().split()\n",
    "numbers = [float(num) for num in numbers]\n",
    "try:\n",
    "    if len(numbers) != 4:\n",
    "        raise ValueError(\"Give 4 numbers only !!!\")\n",
    "    series = pd.Series(numbers, index=['a', 'b', 'c', 'd'])\n",
    "    print(\"\\n Original Series : \")\n",
    "    print(series)\n",
    "    \n",
    "# doubling values vector operations\n",
    "    doubled = series*2\n",
    "    print(\"\\n series after doubling series : \")\n",
    "    print(doubled)\n",
    "    \n",
    "# adding 100 to all values vector operations\n",
    "    added = series+100\n",
    "    print(\"\\n series after adding 100:\")\n",
    "    print(added)\n",
    "except ValueError as e:\n",
    "    print(f\"Error : {e}\")"
   ]
  },
  {
   "cell_type": "code",
   "execution_count": null,
   "id": "fa381f6a-88ac-49d1-9987-df79bf458d00",
   "metadata": {},
   "outputs": [],
   "source": [
    "DataFrame Syntax : DataFrame(data)"
   ]
  },
  {
   "cell_type": "code",
   "execution_count": 7,
   "id": "828a9fd3-ef98-48aa-b6db-7c5abd687fe7",
   "metadata": {},
   "outputs": [
    {
     "name": "stdout",
     "output_type": "stream",
     "text": [
      "    Name  Age Branch\n",
      "0   Mark   22    ECE\n",
      "1  Steve   21    CIV\n",
      "2  Jenny   23   MECH\n"
     ]
    }
   ],
   "source": [
    "import pandas as pd\n",
    "\n",
    "data = {\n",
    "    'Name' : ['Mark', 'Steve', 'Jenny'], \n",
    "    'Age' : [22, 21, 23], \n",
    "    'Branch' : ['ECE', 'CIV', 'MECH']\n",
    "}\n",
    "dframe = pd.DataFrame(data)\n",
    "print(dframe)"
   ]
  },
  {
   "cell_type": "code",
   "execution_count": 15,
   "id": "e898b208-db4b-46cd-8320-e41c98a664b9",
   "metadata": {},
   "outputs": [
    {
     "name": "stdin",
     "output_type": "stream",
     "text": [
      "Enter number of profiles :  4\n"
     ]
    },
    {
     "name": "stdout",
     "output_type": "stream",
     "text": [
      "----Enter 1----\n"
     ]
    },
    {
     "name": "stdin",
     "output_type": "stream",
     "text": [
      "Enter Name :  Mark\n",
      "Enter Age :  22\n",
      "Enter Branch :  ECE\n"
     ]
    },
    {
     "name": "stdout",
     "output_type": "stream",
     "text": [
      "----Enter 2----\n"
     ]
    },
    {
     "name": "stdin",
     "output_type": "stream",
     "text": [
      "Enter Name :  Steve\n",
      "Enter Age :  21\n",
      "Enter Branch :  CIV\n"
     ]
    },
    {
     "name": "stdout",
     "output_type": "stream",
     "text": [
      "----Enter 3----\n"
     ]
    },
    {
     "name": "stdin",
     "output_type": "stream",
     "text": [
      "Enter Name :  Jenny\n",
      "Enter Age :  23\n",
      "Enter Branch :  MECH\n"
     ]
    },
    {
     "name": "stdout",
     "output_type": "stream",
     "text": [
      "----Enter 4----\n"
     ]
    },
    {
     "name": "stdin",
     "output_type": "stream",
     "text": [
      "Enter Name :  Stephen\n",
      "Enter Age :  19\n",
      "Enter Branch :  EEE\n"
     ]
    },
    {
     "name": "stdout",
     "output_type": "stream",
     "text": [
      "\n",
      " DataFrame created.....\n",
      "      Name Age Branch\n",
      "0     Mark  22    ECE\n",
      "1    Steve  21    CIV\n",
      "2    Jenny  23   MECH\n",
      "3  Stephen  19    EEE\n"
     ]
    }
   ],
   "source": [
    "n = int(input(\"Enter number of profiles : \"))\n",
    "names = []\n",
    "ages = []\n",
    "branches = []\n",
    "for i in range(n):\n",
    "    print (f\"----Enter {i+1}----\")\n",
    "    name = input(\"Enter Name : \")\n",
    "    age = input(\"Enter Age : \")\n",
    "    branch = input(\"Enter Branch : \")\n",
    "    names.append(name)\n",
    "    ages.append(age)\n",
    "    branches.append(branch)\n",
    "data = {'Name' : names, 'Age' : ages, 'Branch' : branches}\n",
    "df = pd.DataFrame(data)\n",
    "print(\"\\n DataFrame created.....\")\n",
    "print(df)"
   ]
  },
  {
   "cell_type": "code",
   "execution_count": 33,
   "id": "c82d9770-30ff-4561-92b1-236df13e6e0c",
   "metadata": {},
   "outputs": [
    {
     "name": "stdout",
     "output_type": "stream",
     "text": [
      "    Name  Age Branch\n",
      "0   Mark   22    ECE\n",
      "1  Steve   21    CIV\n",
      "2  Jenny   23   MECH\n"
     ]
    }
   ],
   "source": [
    "import pandas as pd\n",
    "\n",
    "data = {\n",
    "    'Name' : ['Mark', 'Steve', 'Jenny'], \n",
    "    'Age' : [22, 21, 23], \n",
    "    'Branch' : ['ECE', 'CIV', 'MECH']\n",
    "}\n",
    "dframe = pd.DataFrame(data)\n",
    "print(dframe)"
   ]
  },
  {
   "cell_type": "code",
   "execution_count": 35,
   "id": "b3976525-4f52-4c4b-9235-334c7a4d6f65",
   "metadata": {},
   "outputs": [
    {
     "name": "stdout",
     "output_type": "stream",
     "text": [
      "0     Mark\n",
      "1    Steve\n",
      "2    Jenny\n",
      "Name: Name, dtype: object\n"
     ]
    }
   ],
   "source": [
    "print(dframe['Name'])"
   ]
  },
  {
   "cell_type": "code",
   "execution_count": 37,
   "id": "9d57cd30-2740-4e64-ac93-22a667af5429",
   "metadata": {},
   "outputs": [
    {
     "name": "stdout",
     "output_type": "stream",
     "text": [
      "    Name Branch\n",
      "0   Mark    ECE\n",
      "1  Steve    CIV\n",
      "2  Jenny   MECH\n"
     ]
    }
   ],
   "source": [
    "print(dframe[['Name', 'Branch']])"
   ]
  },
  {
   "cell_type": "code",
   "execution_count": 39,
   "id": "e1ccee70-e528-4031-9918-060b85718050",
   "metadata": {},
   "outputs": [
    {
     "name": "stdout",
     "output_type": "stream",
     "text": [
      "Name      Jenny\n",
      "Age          23\n",
      "Branch     MECH\n",
      "Name: 2, dtype: object\n"
     ]
    }
   ],
   "source": [
    "print(dframe.iloc[2])"
   ]
  },
  {
   "cell_type": "code",
   "execution_count": 41,
   "id": "e9597d58-2174-4054-9f83-c659b1b18f3b",
   "metadata": {},
   "outputs": [
    {
     "name": "stdout",
     "output_type": "stream",
     "text": [
      "    Name  Age Branch  Stipend\n",
      "0   Mark   22    ECE    10000\n",
      "1  Steve   21    CIV    11000\n",
      "2  Jenny   23   MECH     9000\n"
     ]
    }
   ],
   "source": [
    "dframe['Stipend'] = [10000, 11000, 9000]\n",
    "print(dframe)"
   ]
  },
  {
   "cell_type": "code",
   "execution_count": 43,
   "id": "bb7a7781-0c25-4e6b-a94b-44c89eedebbc",
   "metadata": {},
   "outputs": [
    {
     "name": "stdout",
     "output_type": "stream",
     "text": [
      "    Name  Income  Age Branch  Stipend\n",
      "0   Mark   50000   22    ECE    10000\n",
      "1  Steve   49000   21    CIV    11000\n",
      "2  Jenny   45400   23   MECH     9000\n"
     ]
    }
   ],
   "source": [
    "Salary = [50000, 49000, 45400]\n",
    "dframe.insert(1, 'Income', Salary)\n",
    "print(dframe)"
   ]
  },
  {
   "cell_type": "code",
   "execution_count": 45,
   "id": "56c1a58d-9ae9-49e1-9bb3-3131c30ae29d",
   "metadata": {},
   "outputs": [
    {
     "name": "stdout",
     "output_type": "stream",
     "text": [
      "    Name  Income  Age Branch  Stipend\n",
      "0   Mark   50000   22    ECE    10000\n",
      "1  Steve   49000   21    CIV    11000\n",
      "2  Jenny   45400   25   MECH     9000\n"
     ]
    }
   ],
   "source": [
    "dframe.at[2, 'Age'] = 25\n",
    "print(dframe)"
   ]
  },
  {
   "cell_type": "code",
   "execution_count": null,
   "id": "04d52308-afcd-43b9-aa98-641bbb16932f",
   "metadata": {},
   "outputs": [],
   "source": [
    "df.head(n) first n rows\n",
    "df.tail(n) last n rows\n",
    "df.info() summary -df\n",
    "df.describe() stat summary\n",
    "df.shape() tuple rows columns \n",
    "df.dtypes() data type (column)\n",
    "df.column() column name"
   ]
  },
  {
   "cell_type": "code",
   "execution_count": 47,
   "id": "1dba73ca-c823-41d9-b634-a5d2f13729c6",
   "metadata": {},
   "outputs": [
    {
     "name": "stdout",
     "output_type": "stream",
     "text": [
      "Created data sucessfully...\n"
     ]
    }
   ],
   "source": [
    "import pandas as pd\n",
    "import numpy as np\n",
    "\n",
    "data = {\n",
    "    'Patient_ID' : ['P001', 'P002', 'P003', 'P004', 'P005', 'P006'], \n",
    "    'Name' : ['Vijay', 'Ajay', 'Kiran', 'Amith', 'Suresh', None],\n",
    "    'Age' : [34, 30, None, 60, 25, 50],\n",
    "    'Department' : ['Carona', 'Cancer', 'Neurology', 'Cardiology', 'Cancer', 'ICU'],\n",
    "    'Admission_Date' : ['2025-01-15', '2025-02-10', '2025-03-03', '2025-01-22', '2025-04-06', '2025-08-04'],\n",
    "    'Bill' : [7000.80, 76000.00, 10000.00, 200000.00, 80000.00, None]\n",
    "}\n",
    "df = pd.DataFrame(data)\n",
    "df.to_csv('hospital_data.csv', index=False)\n",
    "print(\"Created data sucessfully...\")"
   ]
  },
  {
   "cell_type": "code",
   "execution_count": 53,
   "id": "1e1fd996-ea18-4e98-a115-62f16c2a74f5",
   "metadata": {},
   "outputs": [
    {
     "name": "stdout",
     "output_type": "stream",
     "text": [
      "\n",
      " Hospital DataFrame : \n",
      "\n",
      "  Patient_ID    Name   Age  Department Admission_Date      Bill\n",
      "0       P001   Vijay  34.0      Carona     2025-01-15    7000.8\n",
      "1       P002    Ajay  30.0      Cancer     2025-02-10   76000.0\n",
      "2       P003   Kiran   NaN   Neurology     2025-03-03   10000.0\n",
      "3       P004   Amith  60.0  Cardiology     2025-01-22  200000.0\n",
      "4       P005  Suresh  25.0      Cancer     2025-04-06   80000.0\n",
      "5       P006     NaN  50.0         ICU     2025-08-04       NaN\n",
      "\n",
      " DataFrame INFO : \n",
      "\n",
      "<class 'pandas.core.frame.DataFrame'>\n",
      "RangeIndex: 6 entries, 0 to 5\n",
      "Data columns (total 6 columns):\n",
      " #   Column          Non-Null Count  Dtype  \n",
      "---  ------          --------------  -----  \n",
      " 0   Patient_ID      6 non-null      object \n",
      " 1   Name            5 non-null      object \n",
      " 2   Age             5 non-null      float64\n",
      " 3   Department      6 non-null      object \n",
      " 4   Admission_Date  6 non-null      object \n",
      " 5   Bill            5 non-null      float64\n",
      "dtypes: float64(2), object(4)\n",
      "memory usage: 420.0+ bytes\n",
      "None\n",
      "\n",
      " Summary Statistics : \n",
      "\n",
      "             Age           Bill\n",
      "count   5.000000       5.000000\n",
      "mean   39.800000   74600.160000\n",
      "std    14.669697   78260.928695\n",
      "min    25.000000    7000.800000\n",
      "25%    30.000000   10000.000000\n",
      "50%    34.000000   76000.000000\n",
      "75%    50.000000   80000.000000\n",
      "max    60.000000  200000.000000\n"
     ]
    }
   ],
   "source": [
    "import pandas as pd\n",
    "\n",
    "try:\n",
    "    df = pd.read_csv('hospital_data.csv')\n",
    "    print(\"\\n Hospital DataFrame : \\n\")\n",
    "    print(df)\n",
    "    \n",
    "    #Display basic info\n",
    "    print(\"\\n DataFrame INFO : \\n\")\n",
    "    print(df.info())\n",
    "    print(\"\\n Summary Statistics : \\n\")\n",
    "    print(df.describe())\n",
    "except FileNotFoundError:\n",
    "    print(\"Error : 'hospital_data.csv' not found.\")"
   ]
  },
  {
   "cell_type": "code",
   "execution_count": 55,
   "id": "9d7580af-e576-4789-99ea-ee90bc8bae02",
   "metadata": {},
   "outputs": [
    {
     "name": "stdout",
     "output_type": "stream",
     "text": [
      "\n",
      " Original hospital DataFrame :\n",
      "\n",
      "  Patient_ID    Name   Age  Department Admission_Date      Bill\n",
      "0       P001   Vijay  34.0      Carona     2025-01-15    7000.8\n",
      "1       P002    Ajay  30.0      Cancer     2025-02-10   76000.0\n",
      "2       P003   Kiran   NaN   Neurology     2025-03-03   10000.0\n",
      "3       P004   Amith  60.0  Cardiology     2025-01-22  200000.0\n",
      "4       P005  Suresh  25.0      Cancer     2025-04-06   80000.0\n",
      "5       P006     NaN  50.0         ICU     2025-08-04       NaN\n",
      "\n",
      " Missing Values :\n",
      "\n",
      "   Patient_ID   Name    Age  Department  Admission_Date   Bill\n",
      "0       False  False  False       False           False  False\n",
      "1       False  False  False       False           False  False\n",
      "2       False  False   True       False           False  False\n",
      "3       False  False  False       False           False  False\n",
      "4       False  False  False       False           False  False\n",
      "5       False   True  False       False           False   True\n",
      "\n",
      " Dataframe after filling by default :\n",
      "\n",
      "  Patient_ID     Name   Age  Department Admission_Date      Bill\n",
      "0       P001    Vijay  34.0      Carona     2025-01-15    7000.8\n",
      "1       P002     Ajay  30.0      Cancer     2025-02-10   76000.0\n",
      "2       P003    Kiran  39.8   Neurology     2025-03-03   10000.0\n",
      "3       P004    Amith  60.0  Cardiology     2025-01-22  200000.0\n",
      "4       P005   Suresh  25.0      Cancer     2025-04-06   80000.0\n",
      "5       P006  Unknown  50.0         ICU     2025-08-04       0.0\n"
     ]
    }
   ],
   "source": [
    "import pandas as pd\n",
    "\n",
    "try:\n",
    "    df = pd.read_csv('hospital_data.csv')\n",
    "    print(\"\\n Original hospital DataFrame :\\n\")\n",
    "    print(df)\n",
    "    \n",
    "# check missing values\n",
    "    print(\"\\n Missing Values :\\n\")\n",
    "    print(df.isna())\n",
    "    \n",
    "# filling name by unknown value by o\n",
    "    df_filled = df.copy()\n",
    "    df_filled['Name'] = df_filled['Name'].fillna('Unknown')\n",
    "    df_filled['Age'] = df_filled['Age'].fillna(df_filled['Age'].mean())\n",
    "    df_filled['Bill']= df_filled['Bill'].fillna(0)\n",
    "    print(\"\\n Dataframe after filling by default :\\n\")\n",
    "    print(df_filled)\n",
    "except FileNotFoundError:\n",
    "    print(\"Error : 'hospital_data.csv' not found.\")"
   ]
  },
  {
   "cell_type": "code",
   "execution_count": null,
   "id": "d2aa70db-645f-4347-8795-c56f7da598ca",
   "metadata": {},
   "outputs": [],
   "source": []
  }
 ],
 "metadata": {
  "kernelspec": {
   "display_name": "Python 3 (ipykernel)",
   "language": "python",
   "name": "python3"
  },
  "language_info": {
   "codemirror_mode": {
    "name": "ipython",
    "version": 3
   },
   "file_extension": ".py",
   "mimetype": "text/x-python",
   "name": "python",
   "nbconvert_exporter": "python",
   "pygments_lexer": "ipython3",
   "version": "3.12.7"
  }
 },
 "nbformat": 4,
 "nbformat_minor": 5
}
