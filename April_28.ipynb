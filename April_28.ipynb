{
 "cells": [
  {
   "cell_type": "code",
   "execution_count": 11,
   "id": "b75c9a57-5111-4dfe-ac87-ec80f5bff1cf",
   "metadata": {},
   "outputs": [
    {
     "name": "stdout",
     "output_type": "stream",
     "text": [
      "Hi! Welcome you all\n"
     ]
    }
   ],
   "source": [
    "def greetings(message):\n",
    "    return f\"Hi! {message}\"\n",
    "    \n",
    "print(greetings(\"Welcome you all\"))"
   ]
  },
  {
   "cell_type": "code",
   "execution_count": 13,
   "id": "c15b590e-de7f-43f8-9b1f-74868ac11ec8",
   "metadata": {},
   "outputs": [
    {
     "name": "stdout",
     "output_type": "stream",
     "text": [
      "20\n",
      "0\n"
     ]
    }
   ],
   "source": [
    "def num(x,y=10):\n",
    "    return x*y\n",
    "    \n",
    "print(num(2))\n",
    "print(num(7,0))"
   ]
  },
  {
   "cell_type": "raw",
   "id": "223ced5c-cc7e-493d-9dbb-c3460627689d",
   "metadata": {},
   "source": [
    "Call by value & call by reference"
   ]
  },
  {
   "cell_type": "code",
   "execution_count": 15,
   "id": "545d9c73-a641-4382-b962-bf120d27b648",
   "metadata": {},
   "outputs": [
    {
     "name": "stdout",
     "output_type": "stream",
     "text": [
      "10\n",
      "45\n"
     ]
    }
   ],
   "source": [
    "def add(*args):\n",
    "    return sum(args)\n",
    "\n",
    "print(add(1,2,3,4))\n",
    "print(add(5,6,7,8,9,10))"
   ]
  },
  {
   "cell_type": "code",
   "execution_count": 19,
   "id": "78d6d3fe-eb85-460f-94a6-7c1dd5f4a576",
   "metadata": {},
   "outputs": [
    {
     "name": "stdout",
     "output_type": "stream",
     "text": [
      "name : Ram\n",
      "age : 60\n",
      "city : Mumbai\n"
     ]
    }
   ],
   "source": [
    "def info(**kwargs):\n",
    "    for key,value in kwargs.items():\n",
    "        print(f\"{key} : {value}\")\n",
    "\n",
    "info(name=\"Ram\", age=60, city=\"Mumbai\")"
   ]
  },
  {
   "cell_type": "code",
   "execution_count": 21,
   "id": "de7d1ab6-b16e-468e-b255-a7b092d0899f",
   "metadata": {},
   "outputs": [
    {
     "name": "stdout",
     "output_type": "stream",
     "text": [
      "25\n",
      "6\n"
     ]
    }
   ],
   "source": [
    "square = lambda a:a*a\n",
    "add = lambda x,y:x+y\n",
    "print(square(5))\n",
    "print(add(2,4))"
   ]
  },
  {
   "cell_type": "code",
   "execution_count": 49,
   "id": "68b006d0-e1c4-4397-abee-df6e6d79daee",
   "metadata": {},
   "outputs": [
    {
     "name": "stdout",
     "output_type": "stream",
     "text": [
      "Min value is 1, \n",
      "Max Value is 5, and\n",
      "Average Value is 3.0\n"
     ]
    }
   ],
   "source": [
    "def multiple(*args):\n",
    "    return f\"Min value is {min(args)}, \\nMax Value is {max(args)}, and\\nAverage Value is {(sum(args))/(len(args))}\"\n",
    "\n",
    "print(multiple(1,2,3,4,5))"
   ]
  },
  {
   "cell_type": "raw",
   "id": "213ab788-07d5-4769-bad8-794af0a784a4",
   "metadata": {},
   "source": [
    "Recursion Types\n",
    "\n",
    "1. Direct Recursion\n",
    "2. Indirect Recursion\n",
    "3. Head Recursion/Non-Tail Recursion\n",
    "4. Tail Recursion\n",
    "5. Linear Recursion\n",
    "6. Binary Recursion\n",
    "7. Multiple Recursion\n",
    "8. Nested Recursion\n",
    "9. Mutual Recursion\n",
    "10. Divide and Conquer Recursion\n",
    "11. Tree Recursion\n",
    "12. Absolute Recursion/Static Recursion"
   ]
  },
  {
   "cell_type": "code",
   "execution_count": 57,
   "id": "85bb809b-e120-499b-a72a-2387134e567d",
   "metadata": {},
   "outputs": [
    {
     "name": "stdout",
     "output_type": "stream",
     "text": [
      "120\n"
     ]
    }
   ],
   "source": [
    "#Direct Recursion\n",
    "\n",
    "def fact(n):\n",
    "    if n==0 or n==1:\n",
    "        return 1\n",
    "    return n*fact(n-1)\n",
    "\n",
    "print(fact(5))"
   ]
  },
  {
   "cell_type": "code",
   "execution_count": 61,
   "id": "55fe0390-c14b-4ebc-8aed-ac0d9ba21143",
   "metadata": {},
   "outputs": [
    {
     "name": "stdout",
     "output_type": "stream",
     "text": [
      " 4 is True\n",
      " 4 is False\n",
      " 7 is False\n",
      " 7 is True\n"
     ]
    }
   ],
   "source": [
    "#Indirect Recursion\n",
    "\n",
    "def is_even(n):\n",
    "    if n==0:\n",
    "        return True\n",
    "    return is_odd(n-1)\n",
    "\n",
    "def is_odd(n):\n",
    "    if n==0:\n",
    "        return False\n",
    "    return is_even(n-1)\n",
    "\n",
    "print(f\" 4 is {is_even(4)}\")\n",
    "print(f\" 4 is {is_odd(4)}\")\n",
    "print(f\" 7 is {is_even(7)}\")\n",
    "print(f\" 7 is {is_odd(7)}\")"
   ]
  },
  {
   "cell_type": "code",
   "execution_count": 73,
   "id": "35eb841a-7c18-4565-ae98-a465f88b3501",
   "metadata": {},
   "outputs": [
    {
     "name": "stdout",
     "output_type": "stream",
     "text": [
      "True\n",
      "False\n",
      "True\n"
     ]
    }
   ],
   "source": [
    "#Indirect Recursion from leetcode\n",
    "\n",
    "def is_palindrome(s):\n",
    "    if len(s)<=1:\n",
    "        return True\n",
    "    return check_palindrome(s,0,len(s)-1)\n",
    "\n",
    "def check_palindrome(s, start, end):\n",
    "    if start>=end:\n",
    "        return True\n",
    "    if s[start] != s[end]:\n",
    "        return False\n",
    "    return is_palindrome(s[start+1:end])\n",
    "    \n",
    "print(is_palindrome(\"racecar\"))\n",
    "print(is_palindrome(\"hello\"))\n",
    "print(is_palindrome(\"level\"))"
   ]
  },
  {
   "cell_type": "code",
   "execution_count": 87,
   "id": "6282294a-ff0a-4e90-aadf-de965231d2cb",
   "metadata": {},
   "outputs": [
    {
     "name": "stdout",
     "output_type": "stream",
     "text": [
      "120\n"
     ]
    }
   ],
   "source": [
    "#Interviw Question : what is the functionality of Tail Recursion\n",
    "#ANS : customized optimization is done in python through Tail Recursion\n",
    "\n",
    "#Tail Recursion\n",
    "\n",
    "def ftail(n, acc=1):\n",
    "    if n==0 or n==1:\n",
    "        return acc\n",
    "    return ftail(n-1, n*acc)\n",
    "\n",
    "print(ftail(5))"
   ]
  },
  {
   "cell_type": "code",
   "execution_count": 91,
   "id": "03039a96-eb7d-43de-8e7b-6777ec59eac1",
   "metadata": {},
   "outputs": [
    {
     "name": "stdout",
     "output_type": "stream",
     "text": [
      "288\n",
      "12\n"
     ]
    }
   ],
   "source": [
    "#Nested Recursion\n",
    "#SUPER FACTORIAL\n",
    "\n",
    "def sfact(n):\n",
    "    if n<=0:\n",
    "        return 1\n",
    "    return fact(n)*sfact(n-1)\n",
    "\n",
    "def fact(n):\n",
    "    if n<=1:\n",
    "        return 1\n",
    "    return n*fact(n-1)\n",
    "\n",
    "print(sfact(4))\n",
    "print(sfact(3))"
   ]
  },
  {
   "cell_type": "raw",
   "id": "ec957f89-5780-4ba9-8323-45535e6bf0d1",
   "metadata": {},
   "source": [
    "Ackermann Function"
   ]
  },
  {
   "cell_type": "code",
   "execution_count": 98,
   "id": "8fcb7b93-c878-4cf5-98f2-358ebccd21df",
   "metadata": {},
   "outputs": [
    {
     "name": "stdout",
     "output_type": "stream",
     "text": [
      "65536\n",
      "27\n"
     ]
    }
   ],
   "source": [
    "#Like Tower of Hanoi -> Power Tower\n",
    "#(2,4) -> 2^(2^(2^2)) -> 2^(2^(4)) -> 2^(16) -> 65536\n",
    "\n",
    "def pt(a,n):\n",
    "    if n==1:\n",
    "        return a\n",
    "    return a**pt(a,n-1)\n",
    "\n",
    "print(pt(2,4))\n",
    "print(pt(3,2))"
   ]
  },
  {
   "cell_type": "code",
   "execution_count": null,
   "id": "8111c918-0ec0-4525-aa5d-4218d23d8c77",
   "metadata": {},
   "outputs": [],
   "source": []
  }
 ],
 "metadata": {
  "kernelspec": {
   "display_name": "Python 3 (ipykernel)",
   "language": "python",
   "name": "python3"
  },
  "language_info": {
   "codemirror_mode": {
    "name": "ipython",
    "version": 3
   },
   "file_extension": ".py",
   "mimetype": "text/x-python",
   "name": "python",
   "nbconvert_exporter": "python",
   "pygments_lexer": "ipython3",
   "version": "3.12.7"
  }
 },
 "nbformat": 4,
 "nbformat_minor": 5
}
