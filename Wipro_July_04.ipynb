{
 "cells": [
  {
   "cell_type": "code",
   "execution_count": null,
   "id": "da296a6c-2db9-49fa-b77e-9c478f950d0d",
   "metadata": {},
   "outputs": [],
   "source": [
    "types of erros : syntax, logical....\n",
    "\n",
    "built_in exceptions\n",
    "1. Exception - base class for all exception\n",
    "2. StopIteration - next() method does not point any object\n",
    "3. SystemExit - sys.exit() function raise\n",
    "4. StandardError\n",
    "5. ArithmeticError - math calc 10/0\n",
    "6. OverflowError - numeric type xceeding the limit of its size\n",
    "7. ZeroDivisionError 10/0\n",
    "8. AssertionError - Assert Statements\n",
    "9. EOFError - till end last statement, when no IO or return value occurs\n",
    "10. ImportError\n",
    "11. KeyboardInterrupt \n",
    "12. LookupError\n",
    "13. IndexError - list [1,2,3,4]\n",
    "14. NameError\n",
    "15. EnvironmentError - method consider & no value\n",
    "16. IOError - file IO read fail\n",
    "17. SystemError\n",
    "18. ValueError\n",
    "19. RuntimeError\n",
    "20. TypeError\n",
    "21. SyntaxError\n",
    "22. IndentationError\n",
    "23. NotImplementError - oops concept, inheritance(abstract)"
   ]
  },
  {
   "cell_type": "code",
   "execution_count": null,
   "id": "aacbcb49-b0b5-4a81-b72a-8fd646799597",
   "metadata": {},
   "outputs": [],
   "source": [
    "num  = int(input(\"Enter the numerator : \"))\n",
    "deno  = int(input(\"Enter the denominator : \"))\n",
    "try:\n",
    "    quo = num/deno\n",
    "    print(f\"Quotient is {quo}\")\n",
    "except ZeroDivisionError:\n",
    "    print(\"Denominator can't be zero\")"
   ]
  },
  {
   "cell_type": "code",
   "execution_count": null,
   "id": "95119989-7525-4ff6-88e0-bf6a6915e4f3",
   "metadata": {},
   "outputs": [],
   "source": [
    "Enter the numerator :  10\n",
    "Enter the denominator :  0\n",
    "Denominator can't be zero"
   ]
  },
  {
   "cell_type": "code",
   "execution_count": null,
   "id": "a1aea62f-fae1-4d42-998c-4e5f519af02f",
   "metadata": {},
   "outputs": [],
   "source": [
    "Enter the numerator :  10\n",
    "Enter the denominator :  5\n",
    "Quotient is 2.0"
   ]
  },
  {
   "cell_type": "code",
   "execution_count": null,
   "id": "6ddb0317-6692-4d85-9bb6-65f8075f933f",
   "metadata": {},
   "outputs": [],
   "source": [
    "try:\n",
    "    num = int(input(\"Enter the number : \"))\n",
    "    print(num*4)\n",
    "except KeyboardInterrupt:\n",
    "    print(\"Number should be entered\")\n",
    "except ValueError:\n",
    "    print(\"Please check before you enter the datatype\")\n",
    "print(\"ok byee\")"
   ]
  },
  {
   "cell_type": "code",
   "execution_count": null,
   "id": "5400731b-78ad-47e1-94be-aa6e59937671",
   "metadata": {},
   "outputs": [],
   "source": [
    "Enter the number :  10\n",
    "40\n",
    "ok byee"
   ]
  },
  {
   "cell_type": "code",
   "execution_count": null,
   "id": "7deef920-1745-49af-bbf9-9d6800c4c475",
   "metadata": {},
   "outputs": [],
   "source": [
    "Enter the number :  true\n",
    "Please check before you enter the datatype\n",
    "ok byee"
   ]
  },
  {
   "cell_type": "code",
   "execution_count": null,
   "id": "c6aa443a-568b-4a2f-acf2-f338c2fedede",
   "metadata": {},
   "outputs": [],
   "source": [
    "Enter the number : Number should be entered\n",
    "ok byee"
   ]
  },
  {
   "cell_type": "code",
   "execution_count": null,
   "id": "29efeef6-c821-40ea-8ad2-d4547293c46e",
   "metadata": {},
   "outputs": [],
   "source": [
    "try:\n",
    "    num = int(input(\"Enter the number : \"))\n",
    "    print(num*4)\n",
    "except (KeyboardInterrupt, ValueError, TypeError):\n",
    "    print(\"Number should be entered... Program Terminated\")\n",
    "print(\"ok byee\")"
   ]
  },
  {
   "cell_type": "code",
   "execution_count": null,
   "id": "b94c8126-e2d7-4074-b757-ae1419eb9281",
   "metadata": {},
   "outputs": [],
   "source": [
    "Enter the number : 3\n",
    "12\n",
    "ok byee"
   ]
  },
  {
   "cell_type": "code",
   "execution_count": null,
   "id": "a3499b2b-75af-4aaf-8d36-ff25b013a383",
   "metadata": {},
   "outputs": [],
   "source": [
    "Enter the number : Number should be entered... Program Terminated\n",
    "ok byee"
   ]
  },
  {
   "cell_type": "code",
   "execution_count": null,
   "id": "23ea299e-c452-4746-b394-d0451f802e0e",
   "metadata": {},
   "outputs": [],
   "source": [
    "#File1.txt\n",
    "Hello Good Morning!!!"
   ]
  },
  {
   "cell_type": "code",
   "execution_count": null,
   "id": "6a9564b6-600b-4585-81d7-cbb86869c94c",
   "metadata": {},
   "outputs": [],
   "source": [
    "try:\n",
    "    file = open('File1.txt')\n",
    "    str = file.readline()\n",
    "    print(str)\n",
    "except IOError:\n",
    "    print(\"Error occured during input take..\")\n",
    "else:\n",
    "    print(\"Succesully fetched the data....\")"
   ]
  },
  {
   "cell_type": "code",
   "execution_count": null,
   "id": "fc998a9e-a3e0-4552-9769-06612399c770",
   "metadata": {},
   "outputs": [],
   "source": [
    "Hello Good Morning!!!\n",
    "Succesully fetched the data...."
   ]
  },
  {
   "cell_type": "code",
   "execution_count": null,
   "id": "02eea375-d899-4c6b-bab8-e1a3708ed073",
   "metadata": {},
   "outputs": [],
   "source": [
    "try:\n",
    "    file = open('File.txt')\n",
    "    str = file.readline()\n",
    "    print(str)\n",
    "except IOError:\n",
    "    print(\"Error occured during input take..\")\n",
    "else:\n",
    "    print(\"Succesully fetched the data....\")"
   ]
  },
  {
   "cell_type": "code",
   "execution_count": null,
   "id": "20a819f4-0b5c-4f73-a721-e27d64551f31",
   "metadata": {},
   "outputs": [],
   "source": [
    "Error occured during input take.."
   ]
  },
  {
   "cell_type": "code",
   "execution_count": null,
   "id": "3da2748a-a806-4e47-b6a9-b4e0d2aeeed4",
   "metadata": {},
   "outputs": [],
   "source": [
    "#raise.py\n",
    "\n",
    "try:\n",
    "    num = 11\n",
    "    print(num)\n",
    "    raise ValueError\n",
    "except:\n",
    "    print(\"Exception Occured\")"
   ]
  },
  {
   "cell_type": "code",
   "execution_count": null,
   "id": "53f01e83-b703-496c-8e13-bc3801211c63",
   "metadata": {},
   "outputs": [],
   "source": [
    "11\n",
    "Exception Occured"
   ]
  },
  {
   "cell_type": "code",
   "execution_count": null,
   "id": "afafe020-876a-491c-bd59-678cb8ef9ef6",
   "metadata": {},
   "outputs": [],
   "source": [
    "try:\n",
    "    raise NameError\n",
    "except:\n",
    "    print(\"Re-Raising the Exception\")\n",
    "    raise"
   ]
  },
  {
   "cell_type": "code",
   "execution_count": null,
   "id": "9d1d3f98-c27e-4ec0-8899-05a33b93c8b1",
   "metadata": {},
   "outputs": [],
   "source": [
    "Re-Raising the Exception\n",
    "Traceback (most recent call last):\n",
    "  File \"e:\\Eighty\\raise.py\", line 2, in <module>\n",
    "    raise NameError\n",
    "NameError"
   ]
  },
  {
   "cell_type": "code",
   "execution_count": null,
   "id": "82a2ab64-eccb-4ece-a974-aa36fcdf713c",
   "metadata": {},
   "outputs": [],
   "source": [
    "try:\n",
    "    print(\"Raising the Exception\")\n",
    "    raise ValueError\n",
    "finally:\n",
    "    print(\"performing clean up in finally\")"
   ]
  },
  {
   "cell_type": "code",
   "execution_count": null,
   "id": "d94f898a-aef8-419b-9cbf-4dd0cb10da53",
   "metadata": {},
   "outputs": [],
   "source": [
    "Raising the Exception\n",
    "performing clean up in finally\n",
    "Traceback (most recent call last):\n",
    "  File \"e:\\Eighty\\raise.py\", line 3, in <module>\n",
    "    raise ValueError\n",
    "ValueError"
   ]
  },
  {
   "cell_type": "code",
   "execution_count": null,
   "id": "02e554cf-0254-45a8-9add-6bcfbb9e4c83",
   "metadata": {},
   "outputs": [],
   "source": [
    "try:\n",
    "    print(\"Raising the Exception\")\n",
    "    raise ValueError\n",
    "except:\n",
    "    print(\"Exception caught...\")\n",
    "finally:\n",
    "    print(\"performing clean up in finally\")"
   ]
  },
  {
   "cell_type": "code",
   "execution_count": null,
   "id": "af057224-2e8b-4916-a223-2d1cc281a09b",
   "metadata": {},
   "outputs": [],
   "source": [
    "Raising the Exception\n",
    "Exception caught...\n",
    "performing clean up in finally"
   ]
  },
  {
   "cell_type": "code",
   "execution_count": null,
   "id": "c6e4bb34-19f4-4bdf-9eff-10dbb94e8595",
   "metadata": {},
   "outputs": [],
   "source": [
    "c = int(input(\"Enter temperature in celsius : \"))\n",
    "f = (c*9/5)+32\n",
    "assert(f<=32), \"ITs Cold\"\n",
    "print(\"Fahrenheit : \",f)"
   ]
  },
  {
   "cell_type": "code",
   "execution_count": null,
   "id": "57c8d55b-3f8b-4944-9f59-b9f786601406",
   "metadata": {},
   "outputs": [],
   "source": [
    "Enter temperature in celsius : 37\n",
    "Traceback (most recent call last):\n",
    "  File \"e:\\Eighty\\raise.py\", line 3, in <module>\n",
    "    assert(f<=32), \"ITs Cold\"\n",
    "           ^^^^^\n",
    "AssertionError: ITs Cold"
   ]
  },
  {
   "cell_type": "code",
   "execution_count": null,
   "id": "81b6e489-cad8-4617-b5de-90f9175d1917",
   "metadata": {},
   "outputs": [],
   "source": [
    "Write a program which infinitely prints natural numbers. Raise a StopIteration exception after displaying first 20 numbers to except the program"
   ]
  },
  {
   "cell_type": "code",
   "execution_count": 5,
   "id": "5a0adab7-9600-4800-8356-38ba57041682",
   "metadata": {},
   "outputs": [
    {
     "name": "stdout",
     "output_type": "stream",
     "text": [
      "1 2 3 4 5 6 7 8 9 10 11 12 13 14 15 16 17 18 19 20 "
     ]
    }
   ],
   "source": [
    "def display(n):\n",
    "    while True:\n",
    "        try:\n",
    "            n+=1\n",
    "            if n==21:\n",
    "                raise StopIteration\n",
    "        except StopIteration:\n",
    "            break\n",
    "        else:\n",
    "            print(n, end=\" \")\n",
    "\n",
    "i = 0\n",
    "display(i)"
   ]
  },
  {
   "cell_type": "code",
   "execution_count": 7,
   "id": "ffd03bb5-fb85-47a7-8648-9e15481d9062",
   "metadata": {},
   "outputs": [
    {
     "name": "stdout",
     "output_type": "stream",
     "text": [
      "RandomError generated\n"
     ]
    }
   ],
   "source": [
    "import random\n",
    "\n",
    "class RandomError(Exception):\n",
    "    pass\n",
    "try:\n",
    "    num = random.random()\n",
    "    if num<0.1:\n",
    "        raise RandomError\n",
    "except RandomError as e:\n",
    "    print(\"RandomError generated\")\n",
    "else:\n",
    "    print(\"%.4f\"%num)"
   ]
  },
  {
   "cell_type": "code",
   "execution_count": null,
   "id": "257854f2-dcea-4cb4-999d-7543ecd6c797",
   "metadata": {},
   "outputs": [],
   "source": [
    "0.6257"
   ]
  },
  {
   "cell_type": "code",
   "execution_count": null,
   "id": "4451b98c-9fb1-4440-8990-a43319f448fe",
   "metadata": {},
   "outputs": [],
   "source": [
    "import calendar\n",
    "\n",
    "year = int(input(\"Enter a year number : \"))\n",
    "print(calendar.calendar(year))"
   ]
  },
  {
   "cell_type": "code",
   "execution_count": null,
   "id": "dada4d2d-7a1f-4240-a545-4a95b9663f3c",
   "metadata": {},
   "outputs": [],
   "source": [
    "Enter a year number : 2004\n",
    "                                  2004\n",
    "\n",
    "      January                   February                   March\n",
    "Mo Tu We Th Fr Sa Su      Mo Tu We Th Fr Sa Su      Mo Tu We Th Fr Sa Su\n",
    "          1  2  3  4                         1       1  2  3  4  5  6  7\n",
    " 5  6  7  8  9 10 11       2  3  4  5  6  7  8       8  9 10 11 12 13 14\n",
    "12 13 14 15 16 17 18       9 10 11 12 13 14 15      15 16 17 18 19 20 21\n",
    "19 20 21 22 23 24 25      16 17 18 19 20 21 22      22 23 24 25 26 27 28\n",
    "26 27 28 29 30 31         23 24 25 26 27 28 29      29 30 31\n",
    "\n",
    "       April                      May                       June\n",
    "Mo Tu We Th Fr Sa Su      Mo Tu We Th Fr Sa Su      Mo Tu We Th Fr Sa Su\n",
    "          1  2  3  4                      1  2          1  2  3  4  5  6\n",
    " 5  6  7  8  9 10 11       3  4  5  6  7  8  9       7  8  9 10 11 12 13\n",
    "12 13 14 15 16 17 18      10 11 12 13 14 15 16      14 15 16 17 18 19 20\n",
    "19 20 21 22 23 24 25      17 18 19 20 21 22 23      21 22 23 24 25 26 27\n",
    "26 27 28 29 30            24 25 26 27 28 29 30      28 29 30\n",
    "                          31\n",
    "\n",
    "        July                     August                  September\n",
    "Mo Tu We Th Fr Sa Su      Mo Tu We Th Fr Sa Su      Mo Tu We Th Fr Sa Su\n",
    "          1  2  3  4                         1             1  2  3  4  5\n",
    " 5  6  7  8  9 10 11       2  3  4  5  6  7  8       6  7  8  9 10 11 12\n",
    "12 13 14 15 16 17 18       9 10 11 12 13 14 15      13 14 15 16 17 18 19\n",
    "19 20 21 22 23 24 25      16 17 18 19 20 21 22      20 21 22 23 24 25 26\n",
    "26 27 28 29 30 31         23 24 25 26 27 28 29      27 28 29 30\n",
    "                          30 31\n",
    "\n",
    "      October                   November                  December\n",
    "Mo Tu We Th Fr Sa Su      Mo Tu We Th Fr Sa Su      Mo Tu We Th Fr Sa Su\n",
    "             1  2  3       1  2  3  4  5  6  7             1  2  3  4  5\n",
    " 4  5  6  7  8  9 10       8  9 10 11 12 13 14       6  7  8  9 10 11 12\n",
    "11 12 13 14 15 16 17      15 16 17 18 19 20 21      13 14 15 16 17 18 19\n",
    "18 19 20 21 22 23 24      22 23 24 25 26 27 28      20 21 22 23 24 25 26\n",
    "25 26 27 28 29 30 31      29 30                     27 28 29 30 31"
   ]
  },
  {
   "cell_type": "code",
   "execution_count": null,
   "id": "6239132c-a1c6-4f50-b17d-a00493e4b9f8",
   "metadata": {},
   "outputs": [],
   "source": [
    "from calendar import *\n",
    "\n",
    "year = int(input(\"Enter a year number : \"))\n",
    "month_ = int(input(\"Enter a month number : \"))\n",
    "str = month(year, month_)\n",
    "print(str)"
   ]
  },
  {
   "cell_type": "code",
   "execution_count": null,
   "id": "a58a793f-8442-4a54-b8dc-887b8a71a15d",
   "metadata": {},
   "outputs": [],
   "source": [
    "Enter a year number : 2004\n",
    "Enter a month number : 12\n",
    "   December 2004\n",
    "Mo Tu We Th Fr Sa Su\n",
    "       1  2  3  4  5\n",
    " 6  7  8  9 10 11 12\n",
    "13 14 15 16 17 18 19\n",
    "20 21 22 23 24 25 26\n",
    "27 28 29 30 31"
   ]
  },
  {
   "cell_type": "code",
   "execution_count": 9,
   "id": "b85a92b3-29ce-447d-943e-a3412589ecd6",
   "metadata": {},
   "outputs": [
    {
     "name": "stdin",
     "output_type": "stream",
     "text": [
      "Enter a year number :  2040\n"
     ]
    },
    {
     "name": "stdout",
     "output_type": "stream",
     "text": [
      "2040 is a leap year\n"
     ]
    }
   ],
   "source": [
    "from calendar import *\n",
    "\n",
    "year = int(input(\"Enter a year number : \"))\n",
    "if isleap(year):\n",
    "    print(year, \"is a leap year\")\n",
    "else:\n",
    "    print(year, \"is not a leap year\")"
   ]
  },
  {
   "cell_type": "code",
   "execution_count": null,
   "id": "45f1512a-436d-4a79-b108-73dd125730d0",
   "metadata": {},
   "outputs": [],
   "source": [
    "Write a program to print the next 10 day dates continuously"
   ]
  },
  {
   "cell_type": "code",
   "execution_count": 11,
   "id": "170586cd-667b-4091-8578-2c73adc3b0a2",
   "metadata": {},
   "outputs": [
    {
     "name": "stdout",
     "output_type": "stream",
     "text": [
      "2025-07-04\n",
      "2112-06-30\n",
      "2112-07-01\n",
      "2112-07-02\n",
      "2112-07-03\n",
      "2112-07-04\n",
      "2112-07-05\n",
      "2112-07-06\n",
      "2112-07-07\n",
      "2112-07-08\n"
     ]
    }
   ],
   "source": [
    "from datetime import *\n",
    "d = date.today()\n",
    "print(d)\n",
    "d = date(2112, 6, 29)\n",
    "for x in range(1,10):\n",
    "    nextdate = d+timedelta(days=x)\n",
    "    print(nextdate)"
   ]
  },
  {
   "cell_type": "code",
   "execution_count": 13,
   "id": "e2f25cb8-52a6-4bc6-b37c-4f42c99d7aa3",
   "metadata": {},
   "outputs": [
    {
     "name": "stdout",
     "output_type": "stream",
     "text": [
      "2025-07-04\n",
      "2025-07-05\n",
      "2025-07-06\n",
      "2025-07-07\n",
      "2025-07-08\n",
      "2025-07-09\n",
      "2025-07-10\n",
      "2025-07-11\n",
      "2025-07-12\n",
      "2025-07-13\n"
     ]
    }
   ],
   "source": [
    "from datetime import *\n",
    "d = date.today()\n",
    "print(d)\n",
    "for x in range(1,10):\n",
    "    nextdate = d+timedelta(days=x)\n",
    "    print(nextdate)"
   ]
  },
  {
   "cell_type": "code",
   "execution_count": 20,
   "id": "be47ddee-01b0-40e7-b7ea-b780a5d50520",
   "metadata": {},
   "outputs": [
    {
     "name": "stdout",
     "output_type": "stream",
     "text": [
      "1751610786.9296727\n"
     ]
    }
   ],
   "source": [
    "import time\n",
    "epoch = time.time()\n",
    "print(epoch)"
   ]
  },
  {
   "cell_type": "code",
   "execution_count": null,
   "id": "9df5ee51-c95a-4d00-84b9-d302211fbd44",
   "metadata": {},
   "outputs": [],
   "source": [
    "command line arguments"
   ]
  },
  {
   "cell_type": "code",
   "execution_count": null,
   "id": "f4d82004-5bfd-49e4-af2d-90c958d8c783",
   "metadata": {},
   "outputs": [],
   "source": [
    "import sys\n",
    "\n",
    "if len(sys.argv)<2:\n",
    "    print(\"Usage : python hi.py <name>\")\n",
    "else:\n",
    "    name = sys.argv[1]\n",
    "    print(f\"Student, {name}!\")"
   ]
  },
  {
   "cell_type": "code",
   "execution_count": null,
   "id": "7617a4f5-71b1-40fc-ad4e-78b8f4e8aa39",
   "metadata": {},
   "outputs": [],
   "source": [
    "Usage : python hi.py <name>\n",
    "PS E:\\Eighty> python raise.py Bhagath\n",
    "Student, Bhagath!"
   ]
  }
 ],
 "metadata": {
  "kernelspec": {
   "display_name": "Python 3 (ipykernel)",
   "language": "python",
   "name": "python3"
  },
  "language_info": {
   "codemirror_mode": {
    "name": "ipython",
    "version": 3
   },
   "file_extension": ".py",
   "mimetype": "text/x-python",
   "name": "python",
   "nbconvert_exporter": "python",
   "pygments_lexer": "ipython3",
   "version": "3.12.7"
  }
 },
 "nbformat": 4,
 "nbformat_minor": 5
}
