{
 "cells": [
  {
   "cell_type": "code",
   "execution_count": 1,
   "id": "b27bb0d3-ee0b-47f3-a947-a13f96dac131",
   "metadata": {},
   "outputs": [
    {
     "name": "stdout",
     "output_type": "stream",
     "text": [
      "      Name  Price\n",
      "0   apples     50\n",
      "1  oranges     30\n",
      "2     kiwi     80\n"
     ]
    }
   ],
   "source": [
    "import pandas as pd\n",
    "\n",
    "names = pd.Series(['apples', 'oranges', 'kiwi'])\n",
    "df = names.to_frame(name='Name')\n",
    "\n",
    "# add new coulmn\n",
    "df['Price'] = [50, 30, 80]\n",
    "print(df)"
   ]
  },
  {
   "cell_type": "code",
   "execution_count": 3,
   "id": "775dc1c2-bac1-49bc-be9b-702e2792869e",
   "metadata": {},
   "outputs": [
    {
     "name": "stdout",
     "output_type": "stream",
     "text": [
      "\n",
      " Original Hospital DataFrame :\n",
      "\n",
      "  Patient_ID    Name   Age  Department Admission_Date      Bill\n",
      "0       P001   Vijay  34.0      Carona     2025-01-15    7000.8\n",
      "1       P002    Ajay  30.0      Cancer     2025-02-10   76000.0\n",
      "2       P003   Kiran   NaN   Neurology     2025-03-03   10000.0\n",
      "3       P004   Amith  60.0  Cardiology     2025-01-22  200000.0\n",
      "4       P005  Suresh  25.0      Cancer     2025-04-06   80000.0\n",
      "5       P006     NaN  50.0         ICU     2025-08-04       NaN\n",
      "\n",
      " Average Medical Cost by Department :\n",
      "\n",
      "Department\n",
      "Cancer         78000.0\n",
      "Cardiology    200000.0\n",
      "Carona          7000.8\n",
      "ICU                NaN\n",
      "Neurology      10000.0\n",
      "Name: Bill, dtype: float64\n"
     ]
    }
   ],
   "source": [
    "import pandas as pd\n",
    "\n",
    "try:\n",
    "    df = pd.read_csv('hospital_data.csv')\n",
    "    print(\"\\n Original Hospital DataFrame :\\n\")\n",
    "    print(df)\n",
    "    \n",
    "# grouping by department\n",
    "    grouped = df.groupby('Department')['Bill'].mean()\n",
    "    print(\"\\n Average Medical Cost by Department :\\n\")\n",
    "    print(grouped)\n",
    "except FileNotFoundError:\n",
    "    print(\"Error: 'Hospital_data.csv' not found.\")"
   ]
  },
  {
   "cell_type": "code",
   "execution_count": 13,
   "id": "7e9330f8-6795-4593-a4f7-bf7d89fd2ad9",
   "metadata": {},
   "outputs": [
    {
     "name": "stdout",
     "output_type": "stream",
     "text": [
      "\n",
      " Original Hospital DataFrame :\n",
      "\n",
      "  Patient_ID    Name   Age  Department Admission_Date      Bill\n",
      "0       P001   Vijay  34.0      Carona     2025-01-15    7000.8\n",
      "1       P002    Ajay  30.0      Cancer     2025-02-10   76000.0\n",
      "2       P003   Kiran   NaN   Neurology     2025-03-03   10000.0\n",
      "3       P004   Amith  60.0  Cardiology     2025-01-22  200000.0\n",
      "4       P005  Suresh  25.0      Cancer     2025-04-06   80000.0\n",
      "5       P006     NaN  50.0         ICU     2025-08-04       NaN\n",
      "\n",
      " Sorted by Medical Bills (descending order) :\n",
      "\n",
      "  Patient_ID    Name   Age  Department Admission_Date      Bill  Discount  Total Amount\n",
      "3       P004   Amith  60.0  Cardiology     2025-01-22  200000.0  20000.00     180000.00\n",
      "4       P005  Suresh  25.0      Cancer     2025-04-06   80000.0   8000.00      72000.00\n",
      "1       P002    Ajay  30.0      Cancer     2025-02-10   76000.0   7600.00      68400.00\n",
      "2       P003   Kiran   NaN   Neurology     2025-03-03   10000.0   1000.00       9000.00\n",
      "0       P001   Vijay  34.0      Carona     2025-01-15    7000.8    700.08       6300.72\n",
      "5       P006     NaN  50.0         ICU     2025-08-04       NaN       NaN           NaN\n"
     ]
    }
   ],
   "source": [
    "import pandas as pd\n",
    "\n",
    "pd.set_option('display.width', 1000)\n",
    "pd.set_option('display.max_columns', None)\n",
    "\n",
    "try:\n",
    "    df = pd.read_csv('hospital_data.csv')\n",
    "    print(\"\\n Original Hospital DataFrame :\\n\")\n",
    "    print(df)\n",
    "\n",
    "    # add discount_cost column (10% discount)\n",
    "    df['Discount'] = df['Bill'] - df['Bill']*0.9\n",
    "    df['Total Amount'] = df['Bill']*0.9\n",
    "\n",
    "    # sorting by bill\n",
    "    sorted_df = df.sort_values('Bill', ascending=False)\n",
    "    print(\"\\n Sorted by Medical Bills (descending order) :\\n\")\n",
    "    print(sorted_df)\n",
    "\n",
    "except FileNotFoundError:\n",
    "    print(\"Error: 'Hospital_data.csv' not found.\")"
   ]
  },
  {
   "cell_type": "code",
   "execution_count": 15,
   "id": "e44810f2-522b-49d4-a059-a090af20c7be",
   "metadata": {},
   "outputs": [
    {
     "name": "stdout",
     "output_type": "stream",
     "text": [
      "\n",
      " Original Hospital DataFrame :\n",
      "\n",
      "  Patient_ID    Name   Age  Department Admission_Date      Bill\n",
      "0       P001   Vijay  34.0      Carona     2025-01-15    7000.8\n",
      "1       P002    Ajay  30.0      Cancer     2025-02-10   76000.0\n",
      "2       P003   Kiran   NaN   Neurology     2025-03-03   10000.0\n",
      "3       P004   Amith  60.0  Cardiology     2025-01-22  200000.0\n",
      "4       P005  Suresh  25.0      Cancer     2025-04-06   80000.0\n",
      "5       P006     NaN  50.0         ICU     2025-08-04       NaN\n",
      "\n",
      " Data Frame with status column :\n",
      "\n",
      "  Patient_ID    Name   Age  Department Admission_Date      Bill   Status\n",
      "0       P001   Vijay  34.0      Carona     2025-01-15    7000.8    Adult\n",
      "1       P002    Ajay  30.0      Cancer     2025-02-10   76000.0    Adult\n",
      "2       P003   Kiran   NaN   Neurology     2025-03-03   10000.0  unknown\n",
      "3       P004   Amith  60.0  Cardiology     2025-01-22  200000.0   Senior\n",
      "4       P005  Suresh  25.0      Cancer     2025-04-06   80000.0    Adult\n",
      "5       P006     NaN  50.0         ICU     2025-08-04       NaN   Senior\n",
      "\n",
      " Modified Dataframe saved to 'hospital_data_updated.csv'.\n"
     ]
    }
   ],
   "source": [
    "import pandas as pd\n",
    "\n",
    "try:\n",
    "    df = pd.read_csv('hospital_data.csv')\n",
    "    print(\"\\n Original Hospital DataFrame :\\n\")\n",
    "    print(df)\n",
    "\n",
    "# add a status column based on age\n",
    "    df['Status'] = df['Age'].apply(lambda x: 'Senior' if x>=50 else 'Adult' if x>=10 else 'unknown')\n",
    "    print(\"\\n Data Frame with status column :\\n\")\n",
    "    print(df)\n",
    "\n",
    "# saving to csv\n",
    "    df.to_csv('hospital_data_updated.csv', index=False)\n",
    "    print(\"\\n Modified Dataframe saved to 'hospital_data_updated.csv'.\")\n",
    "except FileNotFoundError:\n",
    "    print(\"Error: 'Hospital_data.csv' not found.\")"
   ]
  },
  {
   "cell_type": "code",
   "execution_count": 17,
   "id": "04c63573-ae7f-454d-8f81-9020607a9a97",
   "metadata": {},
   "outputs": [
    {
     "name": "stdout",
     "output_type": "stream",
     "text": [
      "\n",
      " Original Hospital Bill :\n",
      "\n",
      "0      7000.8\n",
      "1     76000.0\n",
      "2     10000.0\n",
      "3    200000.0\n",
      "4     80000.0\n",
      "5         NaN\n",
      "Name: Bill, dtype: float64\n",
      "\n",
      " Enter Patient_ID to update :  "
     ]
    },
    {
     "name": "stdin",
     "output_type": "stream",
     "text": [
      " P003\n"
     ]
    },
    {
     "name": "stdout",
     "output_type": "stream",
     "text": [
      "Enter new bill for P003 :  "
     ]
    },
    {
     "name": "stdin",
     "output_type": "stream",
     "text": [
      " 15000.55\n"
     ]
    },
    {
     "name": "stdout",
     "output_type": "stream",
     "text": [
      "\n",
      " Updated Medical Bill Series :\n",
      "\n",
      "0      7000.80\n",
      "1     76000.00\n",
      "2     15000.55\n",
      "3    200000.00\n",
      "4     80000.00\n",
      "5          NaN\n",
      "Name: Bill, dtype: float64\n",
      "Updated csv saved to 'hospital_data.csv'.\n"
     ]
    },
    {
     "name": "stderr",
     "output_type": "stream",
     "text": [
      "C:\\Users\\ComputerCenter3\\AppData\\Local\\Temp\\ipykernel_10564\\999497421.py:18: SettingWithCopyWarning: \n",
      "A value is trying to be set on a copy of a slice from a DataFrame\n",
      "\n",
      "See the caveats in the documentation: https://pandas.pydata.org/pandas-docs/stable/user_guide/indexing.html#returning-a-view-versus-a-copy\n",
      "  series[index] = new_cost\n"
     ]
    }
   ],
   "source": [
    "import pandas as pd\n",
    "\n",
    "try:\n",
    "    df = pd.read_csv('hospital_data.csv')\n",
    "    series = df['Bill']\n",
    "    print(\"\\n Original Hospital Bill :\\n\")\n",
    "    print(series)\n",
    "\n",
    "# user manual input\n",
    "    print(\"\\n Enter Patient_ID to update : \",end=\" \")\n",
    "    patient_id = input().strip()\n",
    "    print(f\"Enter new bill for {patient_id} : \",end=\" \")\n",
    "    new_cost = float(input())\n",
    "\n",
    "# update bill series and save\n",
    "    if patient_id in df['Patient_ID'].values:\n",
    "        index = df[df['Patient_ID'] == patient_id].index[0]\n",
    "        series[index] = new_cost\n",
    "        print(\"\\n Updated Medical Bill Series :\\n\")\n",
    "        print(series)\n",
    "        df['Bill'] = series\n",
    "        df.to_csv('hospital_data.csv', index=False)\n",
    "        print(\"Updated csv saved to 'hospital_data.csv'.\")\n",
    "    else:\n",
    "        print (f\"Error: patient_id {patient_id} not found. \")\n",
    "except FileNotFoundError:\n",
    "    print(\"Error: 'hospital_data.csv' not found.\")"
   ]
  },
  {
   "cell_type": "code",
   "execution_count": null,
   "id": "2744c245-31ed-4c25-afaf-cc4618bb1a50",
   "metadata": {},
   "outputs": [],
   "source": [
    "Data Cleaning :\n",
    "\n",
    "1. Handling missing data (NaN)\n",
    "isna()- identity missing value\n",
    "fillna()-specific value\n",
    "dropna()- delete missing value\n",
    "\n",
    "2. remove duplicate values\n",
    "duplicated()- checks duplicates\n",
    "drop_duplicates()\n",
    "\n",
    "3. correcting invalid data\n",
    "12/12/20255 dates, ages, cost(-ve)\n",
    "clip()\n",
    "\n",
    "4. standardizing / normalizing string data:\n",
    "str.lower(), str.upper(), str.strip(), str.replace()\n",
    "\n",
    "5. data convertion\n",
    "pd.to_numeric()\n",
    "pd.to_datetime()\n",
    "srrors='coerce"
   ]
  },
  {
   "cell_type": "code",
   "execution_count": 15,
   "id": "480e13a7-439f-419a-9cad-94c22324afdf",
   "metadata": {},
   "outputs": [
    {
     "name": "stdout",
     "output_type": "stream",
     "text": [
      "\n",
      " original Name Series :\n",
      "\n",
      "0     vijay\n",
      "1      ajay\n",
      "2     kiran\n",
      "3     amith\n",
      "4    suresh\n",
      "5       NaN\n",
      "Name: Name, dtype: object\n",
      "\n",
      "Name series after standardizing with (titlecase, strripped space) :\n",
      "\n",
      "0     Vijay\n",
      "1      Ajay\n",
      "2     Kiran\n",
      "3     Amith\n",
      "4    Suresh\n",
      "5       NaN\n",
      "Name: Name, dtype: object\n",
      "\n",
      "Data saved to csv file\n"
     ]
    }
   ],
   "source": [
    "import pandas as pd\n",
    "\n",
    "try:\n",
    "    df = pd.read_csv('hospital_data.csv')\n",
    "    series = df['Name']\n",
    "    print(\"\\n original Name Series :\\n\")\n",
    "    print(series)\n",
    "    clean_series = series.str.title().str.strip()\n",
    "    print(\"\\nName series after standardizing with (titlecase, strripped space) :\\n\")\n",
    "    print(clean_series)\n",
    "    \n",
    "#saving to csv dataframe\n",
    "    df['Name'] = clean_series\n",
    "    df.to_csv('hospital_data.csv', index=False)\n",
    "    print(\"\\nData saved to csv file\")\n",
    "except FileNotFoundError:\n",
    "    print(\"Error: 'hospital_data.csv' not found.\")"
   ]
  },
  {
   "cell_type": "code",
   "execution_count": 50,
   "id": "812d07fa-bd0b-4363-8e23-c24408030397",
   "metadata": {},
   "outputs": [
    {
     "name": "stdout",
     "output_type": "stream",
     "text": [
      "\n",
      " Original age series :\n",
      "\n",
      "0     NaN\n",
      "1     NaN\n",
      "2     NaN\n",
      "3    60.0\n",
      "4    25.0\n",
      "5     NaN\n",
      "Name: Age, dtype: float64\n",
      "\n",
      " Age series after replacing invalid ages with NaN :\n",
      "\n",
      "0     NaN\n",
      "1     NaN\n",
      "2     NaN\n",
      "3    60.0\n",
      "4    25.0\n",
      "5     NaN\n",
      "Name: Age, dtype: float64\n",
      "\n",
      " updated csv saved to 'hospital_data.csv'.\n"
     ]
    }
   ],
   "source": [
    "import pandas as pd\n",
    "import numpy as np\n",
    "\n",
    "try:\n",
    "    df = pd.read_csv('hospital_data.csv')\n",
    "    series = df['Age']\n",
    "    print(\"\\n Original age series :\\n\")\n",
    "    print(series)\n",
    "    \n",
    "# replace invalid ages <0 or >120 with NaN\n",
    "    clean_series = series.where((series>=0) & (series<=120), np.nan)\n",
    "    print(\"\\n Age series after replacing invalid ages with NaN :\\n\")\n",
    "    print(clean_series)\n",
    "    df['Age'] = clean_series\n",
    "    df.to_csv('hospital_data.csv', index=False)\n",
    "    print(\"\\n updated csv saved to 'hospital_data.csv'.\")\n",
    "except FileNotFoundError:\n",
    "    print(\"Error: 'hospital_data.csv' not found.\")"
   ]
  },
  {
   "cell_type": "code",
   "execution_count": 58,
   "id": "7eb6fd7c-fa71-431e-a311-870bec8ffe8d",
   "metadata": {},
   "outputs": [
    {
     "name": "stdout",
     "output_type": "stream",
     "text": [
      "\n",
      " Original Admission_Date series :\n",
      "\n",
      "0    2025-01-15\n",
      "1    2025-02-10\n",
      "2    2025-03-03\n",
      "3    2025-01-22\n",
      "4    2025-04-06\n",
      "5    2025-08-04\n",
      "Name: Admission_Date, dtype: object\n",
      "\n",
      " Admission Date series after converting to datetime : \n",
      "\n",
      "0   2025-01-15\n",
      "1   2025-02-10\n",
      "2   2025-03-03\n",
      "3   2025-01-22\n",
      "4   2025-04-06\n",
      "5   2025-08-04\n",
      "Name: Admission_Date, dtype: datetime64[ns]\n",
      "\n",
      " Updated CSV saved to 'hospital_data.csv'\n"
     ]
    }
   ],
   "source": [
    "import pandas as pd\n",
    "\n",
    "try:\n",
    "    df = pd.read_csv('hospital_data.csv')\n",
    "    series = df['Admission_Date']\n",
    "    print(\"\\n Original Admission_Date series :\\n\")\n",
    "    print(series)\n",
    "    \n",
    "# convert string to datetime\n",
    "    date_series = pd.to_datetime(series, format='%Y-%m-%d')\n",
    "    print(\"\\n Admission Date series after converting to datetime : \\n\")\n",
    "    print(date_series)\n",
    "    \n",
    "# update and save the dataframe\n",
    "    df['Admission_Date' ]= date_series\n",
    "    df.to_csv('hospital_data.csv', index=False)\n",
    "    print(\"\\n Updated CSV saved to 'hospital_data.csv'\")\n",
    "except FileNotFoundError:\n",
    "    print(\"Error: 'hospital_data.csv' not found.\")"
   ]
  },
  {
   "cell_type": "code",
   "execution_count": 62,
   "id": "883e9e3e-a931-4ae7-848c-efa2751a14f7",
   "metadata": {},
   "outputs": [
    {
     "name": "stdout",
     "output_type": "stream",
     "text": [
      "\n",
      " Original Admission_Date series\n",
      "0    2025-01-15\n",
      "1    2025-02-10\n",
      "2    2025-03-03\n",
      "3    2025-01-22\n",
      "4    2025-04-06\n",
      "5    2025-08-04\n",
      "Name: Admission_Date, dtype: object\n",
      "\n",
      " Convert Admission dateformat from y/m/d to d/m/y:\n"
     ]
    },
    {
     "name": "stdin",
     "output_type": "stream",
     "text": [
      " yes\n"
     ]
    },
    {
     "name": "stdout",
     "output_type": "stream",
     "text": [
      "\n",
      " Admission date series after convertion to DD-MM-YYYY:\n",
      "0    15-01-2025\n",
      "1    10-02-2025\n",
      "2    03-03-2025\n",
      "3    22-01-2025\n",
      "4    06-04-2025\n",
      "5    04-08-2025\n",
      "Name: Admission_Date, dtype: object\n",
      "\n",
      " Updated CSV saved to 'hospital_data.csv'\n"
     ]
    }
   ],
   "source": [
    "import pandas as pd\n",
    "\n",
    "try:\n",
    "    df = pd.read_csv('hospital_data.csv')\n",
    "    series= df['Admission_Date']\n",
    "    print(\"\\n Original Admission_Date series\")\n",
    "    print(series)\n",
    "    print(\"\\n Convert Admission dateformat from y/m/d to d/m/y:\")\n",
    "    confirm = input().strip().lower()\n",
    "    if confirm == 'yes':\n",
    "        date_series= pd.to_datetime(series, format='%Y-%m-%d')\n",
    "        f_series= date_series.dt.strftime('%d-%m-%Y')\n",
    "        print(\"\\n Admission date series after convertion to DD-MM-YYYY:\")\n",
    "        print(f_series)\n",
    "# update and save the dataframe\n",
    "        df['Admission_Date' ]= f_series\n",
    "        df.to_csv('hospital_data.csv', index=False)\n",
    "        print(\"\\n Updated CSV saved to 'hospital_data.csv'\")\n",
    "    else:\n",
    "        print(\"\\n Updated format conversion cancelled.\")\n",
    "except FileNotFoundError:\n",
    "    print(\"Error: 'hospital_data.csv' not found.\")"
   ]
  },
  {
   "cell_type": "code",
   "execution_count": null,
   "id": "c7694e6c-4597-4b23-9e0e-93d182850642",
   "metadata": {},
   "outputs": [],
   "source": []
  }
 ],
 "metadata": {
  "kernelspec": {
   "display_name": "Python 3 (ipykernel)",
   "language": "python",
   "name": "python3"
  },
  "language_info": {
   "codemirror_mode": {
    "name": "ipython",
    "version": 3
   },
   "file_extension": ".py",
   "mimetype": "text/x-python",
   "name": "python",
   "nbconvert_exporter": "python",
   "pygments_lexer": "ipython3",
   "version": "3.12.7"
  }
 },
 "nbformat": 4,
 "nbformat_minor": 5
}
