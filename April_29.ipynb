{
 "cells": [
  {
   "cell_type": "code",
   "execution_count": null,
   "id": "c2b21dca-9b19-48c2-b89d-ddd50001584d",
   "metadata": {},
   "outputs": [],
   "source": [
    "#Instrutor, Constructor, Instance"
   ]
  },
  {
   "cell_type": "code",
   "execution_count": 11,
   "id": "264cd4fe-ed8a-439e-884e-8686e6596b11",
   "metadata": {},
   "outputs": [
    {
     "name": "stdout",
     "output_type": "stream",
     "text": [
      "29-04-2025\n",
      "Fourth Day of CPT Class\n"
     ]
    }
   ],
   "source": [
    "class new():\n",
    "    var = \"29-04-2025\"\n",
    "    def fun(sel):\n",
    "        print(\"Fourth Day of CPT Class\")\n",
    "obj = new()\n",
    "print(obj.var)\n",
    "obj.fun()"
   ]
  },
  {
   "cell_type": "code",
   "execution_count": 17,
   "id": "68094e22-29e7-4eb5-9392-8c0409c89ad4",
   "metadata": {},
   "outputs": [
    {
     "name": "stdout",
     "output_type": "stream",
     "text": [
      "Hi! I'm in class method\n",
      "The value is 27\n"
     ]
    }
   ],
   "source": [
    "#class constructor -> using __init__(method)\n",
    "\n",
    "class demo():\n",
    "    def __init__(self, val):\n",
    "        print(\"Hi! I'm in class method\")\n",
    "        self.val=val\n",
    "        print(f\"The value is {val}\")\n",
    "obj=demo(27)"
   ]
  },
  {
   "cell_type": "code",
   "execution_count": 21,
   "id": "69a02de4-2cea-423a-8eb9-cd9b8240357a",
   "metadata": {},
   "outputs": [
    {
     "name": "stdout",
     "output_type": "stream",
     "text": [
      "The Object variable is 27\n",
      "The Class variable is 1\n",
      "The Object variable is 54\n",
      "The Class variable is 2\n"
     ]
    }
   ],
   "source": [
    "class joy():\n",
    "    cv=0\n",
    "    def __init__(self, val):\n",
    "        joy.cv+=1\n",
    "        self.val=val\n",
    "        print(f\"The Object variable is {val}\")\n",
    "        print(f\"The Class variable is {joy.cv}\")\n",
    "obj=joy(27)\n",
    "obj=joy(54)"
   ]
  },
  {
   "cell_type": "code",
   "execution_count": 25,
   "id": "db029b2f-1d52-4ab9-803c-6b570e102f04",
   "metadata": {},
   "outputs": [
    {
     "name": "stdout",
     "output_type": "stream",
     "text": [
      "51 Is Odd\n"
     ]
    }
   ],
   "source": [
    "'''\n",
    "Code to illustrate the modification of an instance variable to check whether the passing attribute is even or odd, by creating a class number and function to check even or odd\n",
    "'''\n",
    "\n",
    "class number:\n",
    "    even=0\n",
    "    def check(self, num):\n",
    "        if num%2==0:\n",
    "            self.even=1\n",
    "    def eo(self, num):\n",
    "        self.check(num)\n",
    "        if self.even==1:\n",
    "            print(num, \"Is Even\")\n",
    "        else:\n",
    "            print(num, \"Is Odd\")\n",
    "obj = number()\n",
    "obj.eo(51)"
   ]
  },
  {
   "cell_type": "code",
   "execution_count": 29,
   "id": "1e0eb7ae-4024-4e00-8718-f32a86f122b9",
   "metadata": {},
   "outputs": [
    {
     "name": "stdout",
     "output_type": "stream",
     "text": [
      "52 Is Even\n"
     ]
    }
   ],
   "source": [
    "class number:\n",
    "    even=0\n",
    "    def check(self, num):\n",
    "        if num%2==0:\n",
    "            self.even=1\n",
    "        self.eo(num)\n",
    "    def eo(self, num):\n",
    "        if self.even==1:\n",
    "            print(num, \"Is Even\")\n",
    "        else:\n",
    "            print(num, \"Is Odd\")\n",
    "obj = number()\n",
    "obj.check(52)"
   ]
  },
  {
   "cell_type": "code",
   "execution_count": 33,
   "id": "e040a653-2c7e-435a-9f00-32865b1c7cc4",
   "metadata": {},
   "outputs": [
    {
     "name": "stdout",
     "output_type": "stream",
     "text": [
      "Even Numbers : [32, 54]\n",
      "Odd Numbers : [21, 43, 65]\n"
     ]
    }
   ],
   "source": [
    "'''\n",
    "Seggregate the even and odd parameters in a list and print even list and odd list seperately using a class 'number'\n",
    "n1 = number(21)\n",
    "n2 = number(32)\n",
    "n3 = number(43)\n",
    "n4 = number(54)\n",
    "n5 = number(65)\n",
    "Output : \n",
    "Even Numbers : [32,54]\n",
    "Odd Numbers : [21,43,65]\n",
    "'''\n",
    "\n",
    "class number:\n",
    "    evens=[]\n",
    "    odds=[]\n",
    "    def __init__(self , num):\n",
    "        self.num=num\n",
    "        if num%2==0:\n",
    "            number.evens.append(num)\n",
    "        else:\n",
    "            number.odds.append(num)\n",
    "\n",
    "n1 = number(21)\n",
    "n2 = number(32)\n",
    "n3 = number(43)\n",
    "n4 = number(54)\n",
    "n5 = number(65)\n",
    "print(f\"Even Numbers : {number.evens}\")\n",
    "print(f\"Odd Numbers : {number.odds}\")"
   ]
  },
  {
   "cell_type": "code",
   "execution_count": 41,
   "id": "7b58c33a-7655-4aef-b7f5-2ce41e0b1ab5",
   "metadata": {},
   "outputs": [
    {
     "name": "stdout",
     "output_type": "stream",
     "text": [
      "The Object variable is 27\n",
      "The Class variable is 1\n",
      "The Object variable is 54\n",
      "The Class variable is 2\n",
      "The Object variable is 81\n",
      "The Class variable is 3\n",
      "The Object with 81 is going out of scope\n",
      "The Object with 27 is going out of scope\n",
      "The Object with 54 is going out of scope\n",
      "The Object with 81 is going out of scope\n"
     ]
    }
   ],
   "source": [
    "#delete method -> __del__()\n",
    "\n",
    "class joy():\n",
    "    cv=0\n",
    "    def __init__(self, val):\n",
    "        joy.cv+=1\n",
    "        self.val=val\n",
    "        print(f\"The Object variable is {val}\")\n",
    "        print(f\"The Class variable is {joy.cv}\")\n",
    "    def __del__(self):\n",
    "        joy.cv-=1\n",
    "        print(f\"The Object with {self.val} is going out of scope\")\n",
    "        \n",
    "obj1=joy(27)\n",
    "obj2=joy(54)\n",
    "obj3=joy(81)\n",
    "del obj1\n",
    "del obj2\n",
    "del obj3"
   ]
  },
  {
   "cell_type": "code",
   "execution_count": 1,
   "id": "7d933ee5-6fed-429e-b60b-26b398adb286",
   "metadata": {},
   "outputs": [
    {
     "name": "stdout",
     "output_type": "stream",
     "text": [
      "The value stored in object is :  10\n",
      "The length of name stored in object :  6\n",
      "Second value is less than first\n"
     ]
    }
   ],
   "source": [
    "'''\n",
    "__repr__\n",
    "__cmp__\n",
    "__len__\n",
    "''' \n",
    "\n",
    "class abc():\n",
    "    def __init__(self,name,var):\n",
    "        self.name=name\n",
    "        self.var=var\n",
    "    def __repr__(self):\n",
    "        return repr(self.var)\n",
    "    def __len__(self):\n",
    "        return len(self.name)\n",
    "    def __cmp__(self,obj):\n",
    "        return self.var-obj.var\n",
    "obj = abc(\"abcdef\",10)\n",
    "print(\"The value stored in object is : \",repr(obj))\n",
    "print(\"The length of name stored in object : \",len(obj))\n",
    "obj1=abc(\"ghijkl\",1)\n",
    "val=obj.__cmp__(obj1)\n",
    "if val==0:\n",
    "    print(\"Both values are equal\")\n",
    "elif val==1:\n",
    "    print(\"First value is lesss than second\")\n",
    "else:\n",
    "    print(\"Second value is less than first\")"
   ]
  },
  {
   "cell_type": "code",
   "execution_count": null,
   "id": "57587265-0b12-4eff-91c4-b8ebcb9f5589",
   "metadata": {},
   "outputs": [],
   "source": [
    "'''\n",
    "Basics\n",
    "1. __call__() -> instance can be directly called\n",
    "2. __lt__(), __le__(), __gt__(), __ge__(), __eq__(), __ne__()\n",
    "3. __hash__() -> decide obj/set/dict/tuple\n",
    "4. __iter__()\n",
    "5. __getitem__(), __setitem__()\n",
    "'''"
   ]
  },
  {
   "cell_type": "code",
   "execution_count": 5,
   "id": "3d5acb49-080d-44f4-9c75-3efaf9c9de45",
   "metadata": {},
   "outputs": [
    {
     "name": "stdout",
     "output_type": "stream",
     "text": [
      "<__main__.numbers object at 0x000002A6A0FEB260>\n",
      "[1, 2, 3, 10, 5, 6, 7, 8, 9]\n"
     ]
    }
   ],
   "source": [
    "class numbers:\n",
    "    def __init__(self, mylist):\n",
    "        self.mylist=mylist\n",
    "    def __getitem__(self, index):\n",
    "        return self.mylist[index]\n",
    "    def __setitem__(self, index, val):\n",
    "        self.mylist[index]=val\n",
    "numlist=numbers([1,2,3,4,5,6,7,8,9])\n",
    "print(numlist)\n",
    "numlist[3] = 10\n",
    "print(numlist.mylist)"
   ]
  },
  {
   "cell_type": "code",
   "execution_count": null,
   "id": "3d4ecf55-75aa-4239-8cd9-2ac90b87d61d",
   "metadata": {},
   "outputs": [],
   "source": []
  }
 ],
 "metadata": {
  "kernelspec": {
   "display_name": "Python 3 (ipykernel)",
   "language": "python",
   "name": "python3"
  },
  "language_info": {
   "codemirror_mode": {
    "name": "ipython",
    "version": 3
   },
   "file_extension": ".py",
   "mimetype": "text/x-python",
   "name": "python",
   "nbconvert_exporter": "python",
   "pygments_lexer": "ipython3",
   "version": "3.12.7"
  }
 },
 "nbformat": 4,
 "nbformat_minor": 5
}
