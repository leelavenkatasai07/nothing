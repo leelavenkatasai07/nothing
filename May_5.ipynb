{
 "cells": [
  {
   "cell_type": "code",
   "execution_count": 5,
   "id": "38559c33-93ef-42aa-bfd1-116f04b8861d",
   "metadata": {},
   "outputs": [
    {
     "name": "stdout",
     "output_type": "stream",
     "text": [
      "Public Method\n",
      "from class method, var = 100\n"
     ]
    }
   ],
   "source": [
    "#private method\n",
    "class abc():\n",
    "    def __init__(self, var):\n",
    "        print(\"Public Method\") \n",
    "        self.__var = var\n",
    "    def __display(self):\n",
    "        print(f\"from class method, var = {self.__var}\")\n",
    "\n",
    "obj = abc(100)\n",
    "obj._abc__display()"
   ]
  },
  {
   "cell_type": "code",
   "execution_count": 7,
   "id": "f2c450d4-5d0d-4444-99a4-12e19543ee0c",
   "metadata": {},
   "outputs": [
    {
     "name": "stdout",
     "output_type": "stream",
     "text": [
      "var is : 15\n"
     ]
    }
   ],
   "source": [
    "# A method calling another method in the same class\n",
    "\n",
    "class abc():\n",
    "    def __init__(self, var):\n",
    "        self.var = var\n",
    "    def display(self):\n",
    "        print(f\"var is : {self.var}\")\n",
    "    def add_value(self):\n",
    "        self.var +=5\n",
    "        self.display()\n",
    "obj = abc(10)\n",
    "obj.add_value()"
   ]
  },
  {
   "cell_type": "code",
   "execution_count": 16,
   "id": "448282c1-83f6-4977-b451-d1663543e869",
   "metadata": {},
   "outputs": [
    {
     "name": "stdout",
     "output_type": "stream",
     "text": [
      "Var is : 10\n",
      "Var is : 100\n"
     ]
    }
   ],
   "source": [
    "# class method, which calls a function defined in global namespace\n",
    "def hi(x):\n",
    "    return x*10\n",
    "\n",
    "class fun():\n",
    "    def __init__(self, var):\n",
    "        self.var = var\n",
    "    def display(self):\n",
    "        print(f\"Var is : {self.var}\")\n",
    "    def modify(self):\n",
    "        self.var = hi(self.var)\n",
    "        \n",
    "obj = fun(10)\n",
    "obj.display()\n",
    "obj.modify()\n",
    "obj.display()"
   ]
  },
  {
   "cell_type": "code",
   "execution_count": 32,
   "id": "064b6632-d4c0-4c40-876c-70307a8079f6",
   "metadata": {},
   "outputs": [
    {
     "name": "stdout",
     "output_type": "stream",
     "text": [
      "Var is : 10\n",
      "obj has attribute var True\n",
      "After setting value, The var is 55\n",
      "New Variable count is created with value 10\n",
      "After deleting : False\n"
     ]
    },
    {
     "ename": "AttributeError",
     "evalue": "'fun' object has no attribute 'var'",
     "output_type": "error",
     "traceback": [
      "\u001b[1;31m---------------------------------------------------------------------------\u001b[0m",
      "\u001b[1;31mAttributeError\u001b[0m                            Traceback (most recent call last)",
      "Cell \u001b[1;32mIn[32], line 21\u001b[0m\n\u001b[0;32m     19\u001b[0m \u001b[38;5;28mdelattr\u001b[39m(obj, \u001b[38;5;124m'\u001b[39m\u001b[38;5;124mvar\u001b[39m\u001b[38;5;124m'\u001b[39m)\n\u001b[0;32m     20\u001b[0m \u001b[38;5;28mprint\u001b[39m(\u001b[38;5;124mf\u001b[39m\u001b[38;5;124m\"\u001b[39m\u001b[38;5;124mAfter deleting : \u001b[39m\u001b[38;5;132;01m{\u001b[39;00m\u001b[38;5;28mhasattr\u001b[39m(obj,\u001b[38;5;250m \u001b[39m\u001b[38;5;124m'\u001b[39m\u001b[38;5;124mvar\u001b[39m\u001b[38;5;124m'\u001b[39m)\u001b[38;5;132;01m}\u001b[39;00m\u001b[38;5;124m\"\u001b[39m)\n\u001b[1;32m---> 21\u001b[0m \u001b[38;5;28mprint\u001b[39m(\u001b[38;5;124mf\u001b[39m\u001b[38;5;124m\"\u001b[39m\u001b[38;5;124mAfter deleting : \u001b[39m\u001b[38;5;132;01m{\u001b[39;00mobj\u001b[38;5;241m.\u001b[39mvar\u001b[38;5;132;01m}\u001b[39;00m\u001b[38;5;124m\"\u001b[39m)\n",
      "\u001b[1;31mAttributeError\u001b[0m: 'fun' object has no attribute 'var'"
     ]
    }
   ],
   "source": [
    "'''\n",
    "BUILTIN Functions -> get, set, delete (all 3 are attributes)\n",
    "getattr(), setattr(), & deleteattr()\n",
    "'''\n",
    "class fun():\n",
    "    def __init__(self, var):\n",
    "        self.var = var\n",
    "    def display(self):\n",
    "        print(f\"Var is : {self.var}\")\n",
    "        \n",
    "obj = fun(10)\n",
    "obj.display()\n",
    "print(f\"obj has attribute var {hasattr(obj, 'var')}\")\n",
    "getattr(obj, 'var')\n",
    "setattr(obj, 'var', 55)\n",
    "print(f\"After setting value, The var is {obj.var}\")\n",
    "setattr(obj, 'count', 10)\n",
    "print(f\"New Variable count is created with value {obj.count}\")\n",
    "delattr(obj, 'var')\n",
    "print(f\"After deleting : {hasattr(obj, 'var')}\")\n",
    "print(f\"After deleting : {obj.var}\")"
   ]
  },
  {
   "cell_type": "code",
   "execution_count": 40,
   "id": "9a05052f-8b83-409e-84a6-da829f6ef27f",
   "metadata": {},
   "outputs": [
    {
     "name": "stdout",
     "output_type": "stream",
     "text": [
      "var1 : 10\n",
      "var2 : 12.345\n",
      "object.__dict__ : {'v1': 10, 'v2': 12.345}\n",
      "object.__doc__ : None\n",
      "class.__name__ : fun\n",
      "object.__module__ : __main__\n",
      "class.__bases__ : (<class 'object'>,)\n"
     ]
    }
   ],
   "source": [
    "'''\n",
    "BUILT-IN class attributes\n",
    "1.  .__doc__  -> when string doc is not specified n return attr\n",
    "2.  .__dict__  -> namespace accessed attributes\n",
    "3.  .__name__  -> returns class attr's name\n",
    "4.  .__module__\n",
    "5.  .__bases__  -> inheritance\n",
    "'''\n",
    "class fun():\n",
    "    def __init__(self, v1, v2):\n",
    "        self.v1 = v1\n",
    "        self.v2 = v2\n",
    "    def display(self):\n",
    "        print(f\"var1 : {self.v1}\")\n",
    "        print(f\"var2 : {self.v2}\")\n",
    "\n",
    "obj = fun(10, 12.345)\n",
    "obj.display()\n",
    "print(f\"object.__dict__ : {obj.__dict__}\")\n",
    "print(f\"object.__doc__ : {obj.__doc__}\")\n",
    "print(f\"class.__name__ : {fun.__name__}\")\n",
    "print(f\"object.__module__ : {obj.__module__}\")\n",
    "print(f\"class.__bases__ : {fun.__bases__}\")"
   ]
  },
  {
   "cell_type": "code",
   "execution_count": null,
   "id": "4534a91d-16a7-432d-854c-2c20f33b3100",
   "metadata": {},
   "outputs": [],
   "source": [
    "'''\n",
    "tinyurl.com/nri-dailytest\n",
    "tinyurl.com/cg-training-materials\n",
    "tinyurl.com/cgt-feedback1\n",
    "'''"
   ]
  },
  {
   "cell_type": "code",
   "execution_count": 45,
   "id": "f5353688-5628-4377-9667-df30caa8f1bd",
   "metadata": {},
   "outputs": [
    {
     "name": "stdin",
     "output_type": "stream",
     "text": [
      "Enter First Student Name :  Vijay\n",
      "Enter Vijay's marks in subject  1 :  88\n",
      "Enter Vijay's marks in subject  2 :  88\n",
      "Enter Vijay's marks in subject  3 :  90\n",
      "Enter Second Student Name :  Anil\n",
      "Enter Anil's marks in subject  1 :  77\n",
      "Enter Anil's marks in subject  2 :  78\n",
      "Enter Anil's marks in subject  3 :  90\n"
     ]
    },
    {
     "name": "stdout",
     "output_type": "stream",
     "text": [
      " Vijay got [88, 88, 90]\n",
      " Anil got [77, 78, 90]\n"
     ]
    }
   ],
   "source": [
    "'''\n",
    "program that uses class as student to store the name and marks of the student,\n",
    "use a list to store the marks of 3 subjects.\n",
    "Constraints :\n",
    "1. take class as student\n",
    "2. create a constructor for the student name\n",
    "3. create a function for marks, to be entered manually with in that class function and add the marks to the list\n",
    "4. display the student name and the marks he/she got\n",
    "5. pass the object's attributes of two student names\n",
    "Test Cases :\n",
    "obj1 : \"Vijay\"\n",
    "obj2 : \"Anil\"\n",
    "\n",
    "Output : Vijay got [88,88,90]\n",
    "         Anil got [77,78,90]\n",
    "'''\n",
    "class student():\n",
    "    def __init__(self, name):\n",
    "        self.name = name\n",
    "        self.marks = []\n",
    "    def enter_marks(self):\n",
    "        for i in range(3):\n",
    "            m = int(input(f\"Enter {self.name}'s marks in subject  {i+1} : \"))\n",
    "            self.marks.append(m)\n",
    "    def display(self):\n",
    "        print(f\" {self.name} got {self.marks}\")\n",
    "\n",
    "obj1 = student(str(input(\"Enter First Student Name : \")))\n",
    "obj1.enter_marks()\n",
    "obj2 = student(str(input(\"Enter Second Student Name : \")))\n",
    "obj2.enter_marks()\n",
    "obj1.display()\n",
    "obj2.display()"
   ]
  },
  {
   "cell_type": "code",
   "execution_count": 51,
   "id": "9844dbb0-9ea4-4e1a-9010-e4d69c241010",
   "metadata": {},
   "outputs": [
    {
     "name": "stdout",
     "output_type": "stream",
     "text": [
      "The Area of given circle is 176.7144375\n",
      "The Circumference of given circle is 47.12385\n"
     ]
    }
   ],
   "source": [
    "'''\n",
    "Program that has a class circle, use a class variable to define the value of constant pi.\n",
    "Use this class variable to calculate the area and circumference of circle with specified readius\n",
    "Constraints :\n",
    "-> pi with the class variable as 3.14159\n",
    "-> radius = 7.5\n",
    "-> return the area and circumference values to main program by creating function with in the class respectively\n",
    "'''\n",
    "\n",
    "class circle():\n",
    "    def __init__(self, radius):\n",
    "        self.radius = radius\n",
    "        circle.pi = 3.14159\n",
    "    def area(self):\n",
    "        return circle.pi*(pow((self.radius),2))\n",
    "    def circumference(self):\n",
    "        return 2*circle.pi*self.radius\n",
    "        \n",
    "obj = circle(7.5)\n",
    "print(f\"The Area of given circle is {obj.area()}\")\n",
    "print(f\"The Circumference of given circle is {obj.circumference()}\")"
   ]
  },
  {
   "cell_type": "code",
   "execution_count": null,
   "id": "cc0d398a-c4eb-4631-b6d0-661085b75c1a",
   "metadata": {},
   "outputs": [],
   "source": []
  }
 ],
 "metadata": {
  "kernelspec": {
   "display_name": "Python 3 (ipykernel)",
   "language": "python",
   "name": "python3"
  },
  "language_info": {
   "codemirror_mode": {
    "name": "ipython",
    "version": 3
   },
   "file_extension": ".py",
   "mimetype": "text/x-python",
   "name": "python",
   "nbconvert_exporter": "python",
   "pygments_lexer": "ipython3",
   "version": "3.12.7"
  }
 },
 "nbformat": 4,
 "nbformat_minor": 5
}
