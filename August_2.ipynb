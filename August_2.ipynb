{
 "cells": [
  {
   "cell_type": "code",
   "execution_count": null,
   "id": "ab758e87-a408-4950-a221-c8acd0c2bb57",
   "metadata": {},
   "outputs": [],
   "source": [
    "vertical and horizontal - vstack and hstack \n",
    "code to take two arrays a and b, integrate a and b vertically and horizontzlly"
   ]
  },
  {
   "cell_type": "code",
   "execution_count": 7,
   "id": "954a5d22-78ba-42cf-a529-92530a65d1dc",
   "metadata": {},
   "outputs": [
    {
     "name": "stdin",
     "output_type": "stream",
     "text": [
      "Enter 3 numbers for array a, space seperated:  1 3 5\n",
      "Enter 3 numbers for array b, space seperated:  7 9 11\n"
     ]
    },
    {
     "name": "stdout",
     "output_type": "stream",
     "text": [
      "\n",
      " Vertical stack : \n",
      " [[ 1  3  5]\n",
      " [ 7  9 11]]\n",
      "\n",
      " Horizontal stack : \n",
      " [ 1  3  5  7  9 11]\n",
      "\n",
      "Element 5 access :  9\n",
      "\n",
      "Element 5 access :  9\n"
     ]
    }
   ],
   "source": [
    "import numpy as np\n",
    "a = list(map(int, input(\"Enter 3 numbers for array a, space seperated: \").split()))\n",
    "b = list(map(int, input(\"Enter 3 numbers for array b, space seperated: \").split()))\n",
    "a = np.array(a)\n",
    "b = np.array(b)\n",
    "print(\"\\n Vertical stack : \\n\", np.vstack((a,b)))\n",
    "print(\"\\n Horizontal stack : \\n\", np.hstack((a,b)))\n",
    "v = np.vstack((a,b))\n",
    "print(\"\\nElement 5 access : \",v[1,1])\n",
    "print(\"\\nElement 5 access : \",v[1][1])"
   ]
  },
  {
   "cell_type": "code",
   "execution_count": null,
   "id": "77552a7c-a87a-4ae2-8ed4-1d848c7bde37",
   "metadata": {},
   "outputs": [],
   "source": [
    "code to extract all the odd numbers from user input and print them in a list using array of numpy\n",
    "input : 1 2 3 4 5 9 8 7 6\n",
    "output : [1,3,5,9,7]"
   ]
  },
  {
   "cell_type": "code",
   "execution_count": 17,
   "id": "d5b3098d-d641-4db6-823e-a64de3f1487c",
   "metadata": {},
   "outputs": [
    {
     "name": "stdin",
     "output_type": "stream",
     "text": [
      "Enter numbers with space seperated :  1 2 3 4 5 9 8 7 6\n"
     ]
    },
    {
     "name": "stdout",
     "output_type": "stream",
     "text": [
      "Odd numbers list :  [1 3 5 9 7]\n"
     ]
    }
   ],
   "source": [
    "arr = np.array(list(map(int, input(\"Enter numbers with space seperated : \").split())))\n",
    "odd_nums = arr[arr%2 != 0]\n",
    "print(\"Odd numbers list : \", odd_nums)"
   ]
  },
  {
   "cell_type": "code",
   "execution_count": null,
   "id": "73da0c59-27e0-4471-981a-92a9ac40a145",
   "metadata": {},
   "outputs": [],
   "source": [
    "input : 1 2 3 4 5 \n",
    "output : [-1, 2, -1, 4, -1]"
   ]
  },
  {
   "cell_type": "code",
   "execution_count": 25,
   "id": "8781cbe5-f30c-4be0-840e-f445e18deb77",
   "metadata": {},
   "outputs": [
    {
     "name": "stdin",
     "output_type": "stream",
     "text": [
      "Enter numbers with space seperated :  1 2 3 4 5 \n"
     ]
    },
    {
     "name": "stdout",
     "output_type": "stream",
     "text": [
      "List :  [-1  2 -1  4 -1]\n"
     ]
    }
   ],
   "source": [
    "arr = np.array(list(map(int, input(\"Enter numbers with space seperated : \").split())))\n",
    "arr[arr%2 != 0] = -1\n",
    "print(\"List : \", arr)"
   ]
  },
  {
   "cell_type": "code",
   "execution_count": null,
   "id": "686ddac5-2dc1-40e3-bd54-75880716fcbf",
   "metadata": {},
   "outputs": [],
   "source": [
    "input : 1 2 3 4 5 \n",
    "output : [True, 2, True, 4, True]"
   ]
  },
  {
   "cell_type": "code",
   "execution_count": 39,
   "id": "5b60cd9d-27d0-45cc-9977-3110d13031b5",
   "metadata": {},
   "outputs": [
    {
     "name": "stdin",
     "output_type": "stream",
     "text": [
      "Enter numbers with space seperated :  1 2 3 4 5 \n"
     ]
    },
    {
     "name": "stdout",
     "output_type": "stream",
     "text": [
      "List :  [True 2 True 4 True]\n"
     ]
    }
   ],
   "source": [
    "arr = np.array(list(map(int, input(\"Enter numbers with space seperated : \").split())), dtype = object)\n",
    "arr[arr%2 != 0] = True\n",
    "print(\"List : \", arr)"
   ]
  },
  {
   "cell_type": "code",
   "execution_count": null,
   "id": "53980e6e-d5e0-4031-945d-e6c097cd700e",
   "metadata": {},
   "outputs": [],
   "source": [
    "input : 1 2 3 4 5 \n",
    "output : [1, 'even', 3, 'even', 5]"
   ]
  },
  {
   "cell_type": "code",
   "execution_count": 49,
   "id": "93589133-371c-4585-a3dc-4a2fcc70f5f3",
   "metadata": {},
   "outputs": [
    {
     "name": "stdin",
     "output_type": "stream",
     "text": [
      "Enter numbers with space seperated :  1 2 3 4 5 \n"
     ]
    },
    {
     "name": "stdout",
     "output_type": "stream",
     "text": [
      "List :  [1 'even' 3 'even' 5]\n"
     ]
    }
   ],
   "source": [
    "arr = np.array(list(map(int, input(\"Enter numbers with space seperated : \").split())), dtype = object)\n",
    "arr[arr%2 == 0] = 'even'\n",
    "print(\"List : \", arr)"
   ]
  },
  {
   "cell_type": "code",
   "execution_count": null,
   "id": "746aa098-3670-45fd-a2a2-54bebea53f28",
   "metadata": {},
   "outputs": [],
   "source": [
    "input : 2 3 5 6 7\n",
    "output : [False, True, False, True, False]\n",
    "multiples of 3 should be given True remaining elements False"
   ]
  },
  {
   "cell_type": "code",
   "execution_count": 57,
   "id": "1c25fe38-8aec-4283-8aec-08cbfc5c4aac",
   "metadata": {},
   "outputs": [
    {
     "name": "stdin",
     "output_type": "stream",
     "text": [
      "Enter numbers with space seperated :  2 3 5 6 7\n"
     ]
    },
    {
     "name": "stdout",
     "output_type": "stream",
     "text": [
      "List :  [False  True False  True False]\n"
     ]
    }
   ],
   "source": [
    "arr = np.array(list(map(int, input(\"Enter numbers with space seperated : \").split())))\n",
    "mask = arr%3 == 0\n",
    "print(\"List : \", mask)"
   ]
  },
  {
   "cell_type": "code",
   "execution_count": 81,
   "id": "c365841e-8f5f-4699-8085-01290e28d285",
   "metadata": {},
   "outputs": [
    {
     "name": "stdout",
     "output_type": "stream",
     "text": [
      "2-D Array : \n",
      " [[1 2 3]\n",
      " [4 5 6]]\n",
      "Element at [1,1] :  5\n",
      "First row :  [1 2 3]\n",
      "First row first element sliced : \n",
      " [[2 3]\n",
      " [5 6]]\n",
      "Modify : \n",
      " [[100   2   3]\n",
      " [  4   5   6]]\n"
     ]
    }
   ],
   "source": [
    "arr=np.array([[1,2,3], [4,5,6]])\n",
    "print(\"2-D Array : \\n\",arr)\n",
    "print(\"Element at [1,1] : \", arr[1,1])\n",
    "print(\"First row : \", arr[0, :])\n",
    "print(\"First row first element sliced : \\n\", arr[:, 1:])\n",
    "arr[0,0] = 100\n",
    "print(\"Modify : \\n\", arr)"
   ]
  },
  {
   "cell_type": "code",
   "execution_count": 85,
   "id": "ff67aaca-ceed-43d5-95a2-85743610d33e",
   "metadata": {},
   "outputs": [
    {
     "name": "stdout",
     "output_type": "stream",
     "text": [
      "Mean Ignoring NaN: 2.75\n",
      "Sum: nan\n",
      "std Ignoring NaN: 1.479019945774904\n"
     ]
    }
   ],
   "source": [
    "arr = np.array([1,2,3, np.nan, 5])\n",
    "print(\"Mean Ignoring NaN:\", np.nanmean(arr)) \n",
    "print(\"Sum:\", np.sum(arr))\n",
    "# Sqrt1.N Ei = 1 to N(x~i=u)**2\n",
    "print(\"std Ignoring NaN:\", np.std(arr[~np.isnan(arr)]))"
   ]
  },
  {
   "cell_type": "code",
   "execution_count": 87,
   "id": "cf4ccda4-b8c9-431a-9c04-c9baf3bfcd2f",
   "metadata": {},
   "outputs": [
    {
     "name": "stdout",
     "output_type": "stream",
     "text": [
      "replace Nan with 0 :  [1. 0. 3. 4. 5.]\n"
     ]
    }
   ],
   "source": [
    "arr = np.array ([1, np.nan, 3, 4, 5])\n",
    "print(\"replace Nan with 0 : \", np.where(np.isnan(arr), 0, arr))"
   ]
  },
  {
   "cell_type": "code",
   "execution_count": 117,
   "id": "7021be7f-c268-487d-a7b5-5e1dde390927",
   "metadata": {},
   "outputs": [
    {
     "name": "stdout",
     "output_type": "stream",
     "text": [
      "[1 2 9]\n",
      "[1. 2. 3. 4.]\n",
      "['1.5' '2.9' '9.8']\n",
      "[False  True  True False]\n",
      "[1 1 0 1]\n",
      "[1.5+0.j 2.9+0.j 9.8+0.j]\n",
      "[1 2 3 4]\n",
      "['57414-10-25' '32062-12-13']\n"
     ]
    }
   ],
   "source": [
    "# universal functions ufuncs()\n",
    "\n",
    "arr = np.array([1.5,2.9,9.8])\n",
    "print(arr.astype(np.int32))\n",
    "\n",
    "arr = np.array([1,2,3,4])\n",
    "print(arr.astype(np.float64))\n",
    "\n",
    "arr = np.array([1.5,2.9,9.8])\n",
    "print(arr.astype(str))\n",
    "\n",
    "arr = np.array([0, 1, 7, 0])\n",
    "print(arr.astype(bool))\n",
    "\n",
    "arr = np.array([True,True,False,True])\n",
    "print(arr.astype(np.int32))\n",
    "\n",
    "arr = np.array([1.5,2.9,9.8])\n",
    "print(arr.astype(np.complex128))\n",
    "\n",
    "arr = np.array([1,2,3,4])\n",
    "print(arr.astype(np.int8))\n",
    "\n",
    "arr = np.array([20250802, 10991224])\n",
    "print(arr.astype('datetime64[D]'))"
   ]
  },
  {
   "cell_type": "code",
   "execution_count": null,
   "id": "23fd7bbb-3b4b-4534-b4e5-e9deb34b50bf",
   "metadata": {},
   "outputs": [],
   "source": []
  }
 ],
 "metadata": {
  "kernelspec": {
   "display_name": "Python 3 (ipykernel)",
   "language": "python",
   "name": "python3"
  },
  "language_info": {
   "codemirror_mode": {
    "name": "ipython",
    "version": 3
   },
   "file_extension": ".py",
   "mimetype": "text/x-python",
   "name": "python",
   "nbconvert_exporter": "python",
   "pygments_lexer": "ipython3",
   "version": "3.12.7"
  }
 },
 "nbformat": 4,
 "nbformat_minor": 5
}
