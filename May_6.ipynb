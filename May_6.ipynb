{
 "cells": [
  {
   "cell_type": "code",
   "execution_count": 3,
   "id": "aa933161-5a99-41c6-8abb-675e72791482",
   "metadata": {},
   "outputs": [
    {
     "name": "stdout",
     "output_type": "stream",
     "text": [
      "Base Class-2\n",
      "Base Class-1\n",
      "Derived Class from both classes\n"
     ]
    }
   ],
   "source": [
    "# Multiple Inheritance\n",
    "\n",
    "class base1(object):\n",
    "    def __init__(self):\n",
    "        super(base1, self).__init__()\n",
    "        print(\"Base Class-1\")\n",
    "class base2(object):\n",
    "    def __init__(self):\n",
    "        super(base2, self).__init__()\n",
    "        print(\"Base Class-2\")\n",
    "class derived(base1, base2):\n",
    "    def __init__(self):\n",
    "        super(derived, self).__init__()\n",
    "        print(\"Derived Class from both classes\")\n",
    "d = derived()"
   ]
  },
  {
   "cell_type": "code",
   "execution_count": 11,
   "id": "bfd1b94c-9106-49cf-b4b7-df717c583947",
   "metadata": {},
   "outputs": [
    {
     "name": "stdin",
     "output_type": "stream",
     "text": [
      "Enter the value of a :  5\n",
      "Enter the value of b :  6\n"
     ]
    },
    {
     "name": "stdout",
     "output_type": "stream",
     "text": [
      "Addition class is also Intialized by receiving a, b from obj\n",
      "Multiplication class is also Intialized by receiving a, b from obj\n",
      "Calc Class Intialized\n",
      "Sum : 11\n",
      "Product : 30\n"
     ]
    }
   ],
   "source": [
    "# Intialize classes addition, multiplication in a calculator\n",
    "'''\n",
    "pass the values from main program to the superclass, where the subclass addition and multiplication were triggered and return the outputs respectively.\n",
    "1. Take derived class calc\n",
    "2. from derived class, call subclasses add & mul\n",
    "3. return the values after math to the subject\n",
    "4. manual values of both numbers within the obj\n",
    "'''\n",
    "class addition:\n",
    "    def __init__(self, a, b):\n",
    "        self.a = a\n",
    "        self.b = b\n",
    "        print(\"Addition class is also Intialized by receiving a, b from obj\")\n",
    "    def add(self):\n",
    "        return self.a + self.b\n",
    "class multiplication:\n",
    "    def __init__(self, a, b):\n",
    "        self.a = a\n",
    "        self.b = b\n",
    "        print(\"Multiplication class is also Intialized by receiving a, b from obj\")\n",
    "    def mul(self):\n",
    "        return self.a * self.b\n",
    "class calc(addition, multiplication):\n",
    "    def __init__(self, a, b):\n",
    "        addition.__init__(self, a, b)\n",
    "        multiplication.__init__(self, a, b)\n",
    "        print(\"Calc Class Intialized\")\n",
    "x = int(input(\"Enter the value of a : \"))\n",
    "y = int(input(\"Enter the value of b : \"))\n",
    "c = calc(x,y)\n",
    "print(f\"Sum : {c.add()}\\nProduct : {c.mul()}\")"
   ]
  },
  {
   "cell_type": "code",
   "execution_count": 15,
   "id": "001fa0e4-b830-439d-9ede-d61c13ae64ce",
   "metadata": {},
   "outputs": [
    {
     "name": "stdin",
     "output_type": "stream",
     "text": [
      "Enter the value of a :  5\n"
     ]
    },
    {
     "name": "stdout",
     "output_type": "stream",
     "text": [
      "Square class is also Intialized by receiving a from obj\n",
      "Cube class is also Intialized by receiving a from obj\n",
      "Calc Class Intialized\n",
      "Square of 5 : 25\n",
      "Cube of 5 : 125\n",
      "Sum of Square 5 & Cube 5 : 150\n"
     ]
    }
   ],
   "source": [
    "# Intialize classes Square, Cube in a calculator\n",
    "'''\n",
    "pass the values from main program to the superclass, where the subclass square and cube were triggered and return the outputs respectively.\n",
    "1. Take derived class calc\n",
    "2. from derived class, call subclasses sq & cu\n",
    "3. return the values after math to the subject\n",
    "4. manual values of both numbers within the obj\n",
    "'''\n",
    "class square:\n",
    "    def __init__(self, a):\n",
    "        self.a = a\n",
    "        print(\"Square class is also Intialized by receiving a from obj\")\n",
    "    def sq(self):\n",
    "        return pow(self.a,2)\n",
    "class cube:\n",
    "    def __init__(self, a):\n",
    "        self.a = a\n",
    "        print(\"Cube class is also Intialized by receiving a from obj\")\n",
    "    def cu(self):\n",
    "        return pow(self.a,3)\n",
    "class calc(square, cube):\n",
    "    def __init__(self, a):\n",
    "        square.__init__(self, a)\n",
    "        cube.__init__(self, a)\n",
    "        print(\"Calc Class Intialized\")\n",
    "x = int(input(\"Enter the value of a : \"))\n",
    "c = calc(x)\n",
    "print(f\"Square of {x} : {c.sq()}\\nCube of {x} : {c.cu()}\\nSum of Square {x} & Cube {x} : {c.sq()+c.cu()}\")"
   ]
  },
  {
   "cell_type": "code",
   "execution_count": 19,
   "id": "231613fa-b37a-4a9d-a2ab-f890ee55334e",
   "metadata": {},
   "outputs": [
    {
     "name": "stdout",
     "output_type": "stream",
     "text": [
      "Name.....\n",
      "PHD\n",
      "Experience..... 15 years\n"
     ]
    }
   ],
   "source": [
    "# Multi-level Inheritance\n",
    "\n",
    "class person:\n",
    "    def name(self):\n",
    "        print(\"Name.....\")\n",
    "class teacher(person):\n",
    "    def qualification(self):\n",
    "        print(\"PHD\")\n",
    "class hod(teacher):\n",
    "    def exp(self):\n",
    "        print(\"Experience..... 15 years\")\n",
    "head = hod()\n",
    "head.name()\n",
    "head.qualification()\n",
    "head.exp()\n",
    "\n",
    "# person -> teacher -> hod"
   ]
  },
  {
   "cell_type": "code",
   "execution_count": 21,
   "id": "86665b00-4adf-4f38-8895-0d179ce2a839",
   "metadata": {},
   "outputs": [
    {
     "name": "stdout",
     "output_type": "stream",
     "text": [
      "Number Intialized\n",
      "Square : 16\n",
      "Cube : 64\n"
     ]
    }
   ],
   "source": [
    "# Multi-level Inheritance cubes and squares of an obj\n",
    "\n",
    "class num:\n",
    "    def __init__(self, n):\n",
    "        self.n = n\n",
    "        print(\"Number Intialized\")\n",
    "class sq(num):\n",
    "    def square(self):\n",
    "        return self.n**2\n",
    "class cu(sq):\n",
    "    def cube(self):\n",
    "        return self.n**3\n",
    "calc = cu(4)\n",
    "print(f\"Square : {calc.square()}\\nCube : {calc.cube()}\")"
   ]
  },
  {
   "cell_type": "code",
   "execution_count": 27,
   "id": "6f63c844-efec-4b2d-9445-245befcfbae8",
   "metadata": {},
   "outputs": [
    {
     "name": "stdout",
     "output_type": "stream",
     "text": [
      "Double : 8\n",
      "Triple : 12\n"
     ]
    }
   ],
   "source": [
    "# Hierarchy Inheritance\n",
    "\n",
    "class number:\n",
    "    def __init__(self, num):\n",
    "        self.num = num\n",
    "    def get_number(self):\n",
    "        return self.num\n",
    "class double(number):\n",
    "    def result(self):\n",
    "        return self.get_number()*2\n",
    "class triple(number):\n",
    "    def result(self):\n",
    "        return self.get_number()*3\n",
    "d = double(4)\n",
    "print(f\"Double : {d.result()}\")\n",
    "t = triple(4)\n",
    "print(f\"Triple : {t.result()}\")"
   ]
  },
  {
   "cell_type": "code",
   "execution_count": null,
   "id": "cf977dbd-a932-4e77-80ab-a5a9365880d2",
   "metadata": {},
   "outputs": [],
   "source": [
    "# AZURE AZ 900\n",
    "# AZURE PL 900"
   ]
  },
  {
   "cell_type": "code",
   "execution_count": 35,
   "id": "e6422e85-8fad-4c87-9258-4e9668a23793",
   "metadata": {},
   "outputs": [
    {
     "name": "stdout",
     "output_type": "stream",
     "text": [
      "Sweet Vitamin-A Yellow\n",
      "Sour & Sweet Vitamin-C Orange\n"
     ]
    }
   ],
   "source": [
    "# Abstract Class\n",
    "\n",
    "class fruit:\n",
    "    def taste(self):\n",
    "        raise NotImplementedError()\n",
    "    def vitamin(self):\n",
    "        raise NotImplementedError()\n",
    "    def color(self):\n",
    "        raise NotImplementedError()\n",
    "class mango(fruit):\n",
    "    def taste(self):\n",
    "        return \"Sweet\"\n",
    "    def vitamin(self):\n",
    "        return \"Vitamin-A\"\n",
    "    def color(self):\n",
    "        return \"Yellow\"\n",
    "class orange(mango):\n",
    "    def taste(self):\n",
    "        return \"Sour & Sweet\"\n",
    "    def vitamin(self):\n",
    "        return \"Vitamin-C\"\n",
    "    def color(self):\n",
    "        return \"Orange\"\n",
    "\n",
    "Alphanso = mango()\n",
    "print(Alphanso.taste(),Alphanso.vitamin(),Alphanso.color())\n",
    "org = orange()\n",
    "print(org.taste(),org.vitamin(),org.color())"
   ]
  },
  {
   "cell_type": "code",
   "execution_count": null,
   "id": "8d9be52b-7033-4b71-8610-eb49d2ec6b7f",
   "metadata": {},
   "outputs": [],
   "source": []
  }
 ],
 "metadata": {
  "kernelspec": {
   "display_name": "Python 3 (ipykernel)",
   "language": "python",
   "name": "python3"
  },
  "language_info": {
   "codemirror_mode": {
    "name": "ipython",
    "version": 3
   },
   "file_extension": ".py",
   "mimetype": "text/x-python",
   "name": "python",
   "nbconvert_exporter": "python",
   "pygments_lexer": "ipython3",
   "version": "3.12.7"
  }
 },
 "nbformat": 4,
 "nbformat_minor": 5
}
