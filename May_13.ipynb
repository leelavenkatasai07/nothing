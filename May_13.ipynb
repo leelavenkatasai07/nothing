{
 "cells": [
  {
   "cell_type": "code",
   "execution_count": null,
   "id": "ec78db7b-1541-4f08-87e4-555f8f56751b",
   "metadata": {},
   "outputs": [],
   "source": [
    "https://meet.google.com/jux-jyzp-kqs"
   ]
  },
  {
   "cell_type": "code",
   "execution_count": 3,
   "id": "ba9190bc-0a8d-463a-b3a1-236518aa50ad",
   "metadata": {},
   "outputs": [
    {
     "name": "stdout",
     "output_type": "stream",
     "text": [
      "Hello Venkat\n",
      "Hello Leela\n"
     ]
    }
   ],
   "source": [
    "# Overloading Sample\n",
    "\n",
    "def joy(name = 'Venkat'):\n",
    "    print(f\"Hello {name}\")\n",
    "\n",
    "joy()\n",
    "joy('Leela')"
   ]
  },
  {
   "cell_type": "code",
   "execution_count": 7,
   "id": "1f51774b-c77d-4d5b-90de-e352240e0389",
   "metadata": {},
   "outputs": [
    {
     "name": "stdout",
     "output_type": "stream",
     "text": [
      "15\n"
     ]
    }
   ],
   "source": [
    "# Multiple arg overloading\n",
    "\n",
    "def abc(*args):\n",
    "    return sum(args)\n",
    "print(abc(1,2,3,4,5))"
   ]
  },
  {
   "cell_type": "code",
   "execution_count": 9,
   "id": "dd826694-4656-467e-ad08-795b792d77c9",
   "metadata": {},
   "outputs": [
    {
     "name": "stdout",
     "output_type": "stream",
     "text": [
      "No Data Exist\n",
      "Name : Venkat\n",
      "Name : Lee, Age : 20\n"
     ]
    },
    {
     "data": {
      "text/plain": [
       "<__main__.student at 0x20a48056e70>"
      ]
     },
     "execution_count": 9,
     "metadata": {},
     "output_type": "execute_result"
    }
   ],
   "source": [
    "# Simple Overloading using class with construtor\n",
    "\n",
    "class student:\n",
    "    def __init__(self, name=None, age=None):\n",
    "        if name and age:\n",
    "            print(f\"Name : {name}, Age : {age}\")\n",
    "        elif name:\n",
    "            print(f\"Name : {name}\")\n",
    "        else:\n",
    "            print(\"No Data Exist\")\n",
    "student()\n",
    "student('Venkat')\n",
    "student('Lee',20)"
   ]
  },
  {
   "cell_type": "code",
   "execution_count": 11,
   "id": "1cf667e1-0748-4e71-9465-55bacda9bbf8",
   "metadata": {},
   "outputs": [
    {
     "name": "stdout",
     "output_type": "stream",
     "text": [
      "True\n",
      "False\n"
     ]
    }
   ],
   "source": [
    "# isinstance\n",
    "\n",
    "n = 88\n",
    "print(isinstance(n, int))\n",
    "print(isinstance(n, float))"
   ]
  },
  {
   "cell_type": "code",
   "execution_count": 13,
   "id": "7a4c7d61-15a1-4f85-907e-4a2d1c90a5cd",
   "metadata": {},
   "outputs": [
    {
     "name": "stdout",
     "output_type": "stream",
     "text": [
      "True\n",
      "True\n"
     ]
    }
   ],
   "source": [
    "class pet:\n",
    "    pass\n",
    "class dog(pet):\n",
    "    pass\n",
    "d = dog()\n",
    "print(isinstance(d, dog))\n",
    "print(isinstance(d, pet))"
   ]
  },
  {
   "cell_type": "code",
   "execution_count": 15,
   "id": "cc9088ca-dcec-4670-8b1c-55807a0e06d3",
   "metadata": {},
   "outputs": [
    {
     "name": "stdout",
     "output_type": "stream",
     "text": [
      "12 , 14\n"
     ]
    }
   ],
   "source": [
    "# overloading with operators \n",
    "\n",
    "class val:\n",
    "    def __init__(self, x, y):\n",
    "        self.x = x\n",
    "        self.y = y\n",
    "    def __add__(self, ol):\n",
    "        return val(self.x + ol.x, self.y+ol.y)\n",
    "    def __str__(self):\n",
    "        return f\"{self.x} , {self.y}\"\n",
    "a = val(5,6)\n",
    "b = val(7,8)\n",
    "print(a+b)"
   ]
  },
  {
   "cell_type": "code",
   "execution_count": 17,
   "id": "063773c9-d959-44da-aee4-49f33ff449ab",
   "metadata": {},
   "outputs": [
    {
     "name": "stdout",
     "output_type": "stream",
     "text": [
      "Result : 4 + 6i\n"
     ]
    }
   ],
   "source": [
    "'''\n",
    "code for adding two complex numbers where imaginary numbers and Real numbers to be evaluated seperately with _add_() method and raise and error exception with this value where unsupportive data type is encountered \n",
    "a = 1 + 2i \n",
    "b = 3 + 4i \n",
    "output: 4 + 6i\n",
    "'''\n",
    "\n",
    "class complex:\n",
    "    def __init__(self, r=0, i=0):\n",
    "        self.r = r\n",
    "        self.i = i\n",
    "    def __add__(self, ol):\n",
    "        if isinstance(ol, complex):\n",
    "            return complex(self.r+ol.r, self.i+ol.i)\n",
    "        else:\n",
    "            raise TypeError(\"Unsupported Operand-Type\")\n",
    "    def __str__(self):\n",
    "        return f\"{self.r} + {self.i}i\"\n",
    "a = complex(1,2)\n",
    "b = complex(3,4)\n",
    "print(f\"Result : {a+b}\")"
   ]
  },
  {
   "cell_type": "code",
   "execution_count": 29,
   "id": "c22d016b-ba4a-4f76-85c0-c90e1c833b00",
   "metadata": {},
   "outputs": [
    {
     "name": "stdout",
     "output_type": "stream",
     "text": [
      "result: 4 + 6i\n"
     ]
    }
   ],
   "source": [
    "class complex:\n",
    "    def __init__(self1, r=0, i=0): \n",
    "        self1.r = r\n",
    "        self1.i = i\n",
    "    def __add__(self1, self2): \n",
    "        if isinstance(self1, complex) and isinstance(self2, complex):\n",
    "            return complex(self1.r + self2.r, self1.i + self2.i)\n",
    "        else:\n",
    "            raise TypeError(\"Unsupported operand-type\")\n",
    "    def __str__(self1): \n",
    "        return f\"{self1.r} + {self1.i}i\"  \n",
    "a = complex(1, 2)\n",
    "b = complex(3, 4)\n",
    "print(\"result:\", a + b) "
   ]
  },
  {
   "cell_type": "code",
   "execution_count": 19,
   "id": "edb2cc67-a3d3-418b-8e65-b9cba0d30347",
   "metadata": {},
   "outputs": [
    {
     "name": "stdout",
     "output_type": "stream",
     "text": [
      "animal sounds\n",
      "the pet barks\n"
     ]
    }
   ],
   "source": [
    "# overriding redefined the child which is already exist\n",
    "\n",
    "class pet:\n",
    "    def sound(self):\n",
    "        print('animal sounds')\n",
    "class dog(pet):\n",
    "    def sound(self):\n",
    "        print('the pet barks')\n",
    "a=pet()\n",
    "a.sound()\n",
    "d=dog()\n",
    "d.sound()"
   ]
  },
  {
   "cell_type": "code",
   "execution_count": 21,
   "id": "0decc16f-e5fa-432d-91d9-98d9861b3cb7",
   "metadata": {},
   "outputs": [
    {
     "name": "stdout",
     "output_type": "stream",
     "text": [
      "animal sounds\n"
     ]
    }
   ],
   "source": [
    "class pet:\n",
    "    def sound(self):\n",
    "        print('animal sounds')\n",
    "class dog(pet):\n",
    "    def sound(self):\n",
    "        super().sound() # calling parent method\n",
    "        print('the pet barks')\n",
    "a=pet()\n",
    "a.sound()"
   ]
  },
  {
   "cell_type": "code",
   "execution_count": 25,
   "id": "f280ee13-a60e-45ac-afec-d98f775d68e9",
   "metadata": {},
   "outputs": [
    {
     "name": "stdout",
     "output_type": "stream",
     "text": [
      "Student Constructor\n",
      "Person Constructor\n"
     ]
    }
   ],
   "source": [
    "# constructor overriding\n",
    "\n",
    "class student:\n",
    "    def __init__(self, name):\n",
    "        self.name = name\n",
    "        print(\"Student Constructor\")\n",
    "class person(student):\n",
    "    def __init__(self, name, grade):\n",
    "        super().__init__(name)\n",
    "        self.grade = grade\n",
    "        print(\"Person Constructor\")\n",
    "s = person('Venkat', 'C')"
   ]
  },
  {
   "cell_type": "code",
   "execution_count": 1,
   "id": "68743044-9d80-4471-8fcc-bec3194110a7",
   "metadata": {},
   "outputs": [
    {
     "name": "stdout",
     "output_type": "stream",
     "text": [
      "Barks....\n",
      "Meows..\n",
      "Animal sound\n"
     ]
    }
   ],
   "source": [
    "# Method overriding by polymorphism eval\n",
    "\n",
    "class Pet:  \n",
    "    def sound(self):\n",
    "        print(\"Animal sound\")\n",
    "class Dog: \n",
    "    def sound(self):\n",
    "        print(\"Barks....\")\n",
    "class Cat:  \n",
    "    def sound(self):\n",
    "        print(\"Meows..\")\n",
    "pets = [Dog(), Cat(), Pet()]   \n",
    "for p in pets:\n",
    "    p.sound() "
   ]
  },
  {
   "cell_type": "code",
   "execution_count": 7,
   "id": "605b3307-740f-4510-8279-eb5005666f08",
   "metadata": {},
   "outputs": [
    {
     "name": "stdin",
     "output_type": "stream",
     "text": [
      "Enter thr radius :  5\n",
      "Enter the side :  4\n"
     ]
    },
    {
     "name": "stdout",
     "output_type": "stream",
     "text": [
      "16\n",
      "78.53981633974483\n"
     ]
    }
   ],
   "source": [
    "'''\n",
    "code for overriding different parameters in parent method by calculating the area of a circle and square from a parent class shape pass side 4 for square and raidus 5 for circle.\n",
    "'''\n",
    "from math import pi\n",
    "\n",
    "class Shape:\n",
    "    def area(self):\n",
    "        return \"Area Calc is not defined\"\n",
    "class Square(Shape):\n",
    "    def __init__(self, side):\n",
    "        self.side = side\n",
    "    def area(self):\n",
    "        return self.side * self.side\n",
    "class Circle(Shape):\n",
    "    def __init__(self, radius):\n",
    "        self.radius = radius\n",
    "    def area(self):\n",
    "        return pi * (self.radius**2)\n",
    "r = int(input(\"Enter thr radius : \"))\n",
    "s = int(input(\"Enter the side : \"))\n",
    "\n",
    "square = Square(s)\n",
    "circle = Circle(r)\n",
    "print(square.area())\n",
    "print(circle.area())\n"
   ]
  },
  {
   "cell_type": "code",
   "execution_count": null,
   "id": "aca06a10-8c4b-4cf9-817a-4df4ad6a1b01",
   "metadata": {},
   "outputs": [],
   "source": []
  }
 ],
 "metadata": {
  "kernelspec": {
   "display_name": "Python 3 (ipykernel)",
   "language": "python",
   "name": "python3"
  },
  "language_info": {
   "codemirror_mode": {
    "name": "ipython",
    "version": 3
   },
   "file_extension": ".py",
   "mimetype": "text/x-python",
   "name": "python",
   "nbconvert_exporter": "python",
   "pygments_lexer": "ipython3",
   "version": "3.12.7"
  }
 },
 "nbformat": 4,
 "nbformat_minor": 5
}
