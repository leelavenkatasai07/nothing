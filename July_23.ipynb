{
 "cells": [
  {
   "cell_type": "code",
   "execution_count": null,
   "id": "efd2481c-3665-4cb6-9fa2-5fe4ecf5b9fe",
   "metadata": {},
   "outputs": [],
   "source": [
    "RE Module\n",
    "import re\n",
    "Functions\n",
    "1. re.findall()\n",
    "2. re.match() \n",
    "3. re.search()\n",
    "4. re.sub()\n",
    "5. re.compile()\n",
    "6. re.split()\n",
    "7. re.finditer()\n",
    "\n",
    "cases in regex:\n",
    "re.IGNORECASE / re.I\n",
    "re.MULTILINE / re.M\n",
    "re.DOTALL / re.D\n",
    "re.VERBOSE / re.V\n",
    "\n",
    "metachars-\n",
    "^- start of string\n",
    "$- end of string\n",
    "*- 0 and occurences\n",
    "+- 1 and occurences\n",
    "?- combination of 0's occurences and 1's occurences (*+)\n",
    "[]- set of characters\n",
    "()- grouping\n",
    "\\ escape\n",
    ". newline"
   ]
  },
  {
   "cell_type": "code",
   "execution_count": null,
   "id": "dc27def2-24d8-4614-bcfb-933cdc683f8f",
   "metadata": {},
   "outputs": [],
   "source": [
    "code to take a text data and fetch to match the given data\n",
    "syntax: re.match(searched_element, text)"
   ]
  },
  {
   "cell_type": "code",
   "execution_count": 25,
   "id": "a1c78fef-ab7b-47f8-825f-0949a9acd23d",
   "metadata": {},
   "outputs": [
    {
     "name": "stdout",
     "output_type": "stream",
     "text": [
      "Match found for <re.Match object; span=(0, 2), match='hi'>\n"
     ]
    }
   ],
   "source": [
    "import re\n",
    "\n",
    "text = 'hi students how are you!!!'\n",
    "se = r'hi'\n",
    "output = re.match(se, text) #re.match() checks only the beginning of the string.\n",
    "if output:\n",
    "    print(f\"Match found for {output}\")\n",
    "else:\n",
    "    print(\"No Match Found\")"
   ]
  },
  {
   "cell_type": "code",
   "execution_count": 29,
   "id": "c54ca0c7-5c94-49c8-b319-44c1b6245e7b",
   "metadata": {},
   "outputs": [
    {
     "name": "stdout",
     "output_type": "stream",
     "text": [
      "Match found for <re.Match object; span=(16, 19), match='are'>\n"
     ]
    }
   ],
   "source": [
    "import re\n",
    "\n",
    "text = 'hi students how are you!!!'\n",
    "se = r'are'\n",
    "output = re.search(se, text) #If you want to check for a word anywhere in the string, you could use re.search() instead.\n",
    "if output:\n",
    "    print(f\"Match found for {output}\")\n",
    "else:\n",
    "    print(\"No Match Found\")"
   ]
  },
  {
   "cell_type": "code",
   "execution_count": 27,
   "id": "94b817c9-83a6-4d0d-9dd6-87ea0c120bb9",
   "metadata": {},
   "outputs": [
    {
     "name": "stdout",
     "output_type": "stream",
     "text": [
      "Match found for 'hi'\n"
     ]
    }
   ],
   "source": [
    "import re\n",
    "\n",
    "text = 'hi students how are you!!!'\n",
    "se = r'hi'\n",
    "output = re.match(se, text)\n",
    "if output:\n",
    "    print(f\"Match found for '{output.group()}'\") #.group() will return the matched string\n",
    "else:\n",
    "    print(\"No Match Found\")"
   ]
  },
  {
   "cell_type": "code",
   "execution_count": 21,
   "id": "011eee7a-1375-42a5-9da1-12fb390bf17f",
   "metadata": {},
   "outputs": [
    {
     "name": "stdout",
     "output_type": "stream",
     "text": [
      "Match found for 'are'\n"
     ]
    }
   ],
   "source": [
    "import re\n",
    "\n",
    "text = 'hi students how are you!!!'\n",
    "se = r'are'\n",
    "output = re.search(se, text)\n",
    "if output:\n",
    "    print(f\"Match found for '{output.group()}'\")\n",
    "else:\n",
    "    print(\"No Match Found\")"
   ]
  },
  {
   "cell_type": "code",
   "execution_count": 33,
   "id": "584eda97-c395-43a4-a0c0-a5c25dd68aaa",
   "metadata": {},
   "outputs": [
    {
     "name": "stdout",
     "output_type": "stream",
     "text": [
      "456\n"
     ]
    }
   ],
   "source": [
    "import re\n",
    "\n",
    "text = 'My number is 456'\n",
    "match = re.search(r'\\d+', text)\n",
    "print(match.group())"
   ]
  },
  {
   "cell_type": "code",
   "execution_count": 37,
   "id": "fb2702d1-30a8-4280-8306-dedb7579f6bf",
   "metadata": {},
   "outputs": [
    {
     "name": "stdin",
     "output_type": "stream",
     "text": [
      "Enter a sentence with a number :  My name is gold and my number is 73 and my colleague is 80\n"
     ]
    },
    {
     "name": "stdout",
     "output_type": "stream",
     "text": [
      "Number found 73\n"
     ]
    }
   ],
   "source": [
    "import re\n",
    "\n",
    "text = input(\"Enter a sentence with a number : \")\n",
    "match = re.search(r'\\d+', text)\n",
    "if match:\n",
    "    print(f\"Number found\", match.group())\n",
    "else:\n",
    "    print(\"No match\")"
   ]
  },
  {
   "cell_type": "code",
   "execution_count": 43,
   "id": "58142166-6795-4a98-8f1d-3899638aa834",
   "metadata": {},
   "outputs": [
    {
     "name": "stdin",
     "output_type": "stream",
     "text": [
      "Enter a sentence with a number :  My name is doctor 9 and my number is 80 and my colleague is 73\n"
     ]
    },
    {
     "name": "stdout",
     "output_type": "stream",
     "text": [
      "Second number found 80\n"
     ]
    }
   ],
   "source": [
    "import re\n",
    "\n",
    "text = input(\"Enter a sentence with a number : \")\n",
    "matches = list(re.finditer(r'\\d+', text))\n",
    "if len(matches) >= 2:\n",
    "    print(\"Second number found\", matches[1].group())\n",
    "elif len(matches) == 1:\n",
    "    print(\"Only one number found\", matches[0].group())\n",
    "else:\n",
    "    print(\"No match \")"
   ]
  },
  {
   "cell_type": "code",
   "execution_count": 45,
   "id": "7d40ac73-810c-43bf-a955-ec3393ef99fa",
   "metadata": {},
   "outputs": [
    {
     "name": "stdin",
     "output_type": "stream",
     "text": [
      "Enter a scentence with a number :  My name is bava and my number is C9 and my colleague's are 94,D1 and 07\n",
      "which number you want to extract :  4\n"
     ]
    },
    {
     "name": "stdout",
     "output_type": "stream",
     "text": [
      "4th number is :  07\n"
     ]
    }
   ],
   "source": [
    "import re\n",
    "\n",
    "text = input(\"Enter a scentence with a number : \")\n",
    "n = int(input(\"which number you want to extract : \"))\n",
    "matches = re.findall(r'\\d+', text)\n",
    "if len(matches) >= n:\n",
    "    print(f\"{n}th number is : \", matches[n-1])\n",
    "else:\n",
    "    print(\"Not found\")"
   ]
  },
  {
   "cell_type": "code",
   "execution_count": null,
   "id": "2c9f7aed-653c-445b-a089-41328bf2a102",
   "metadata": {},
   "outputs": [],
   "source": [
    "vkomarapu@gmail.com\n",
    "vKomarapu@gmail.com\n",
    "v_komarapu@gmail.com\n",
    "vkomarapu111@gmail.com\n",
    "v.komarapu@gmail.com\n",
    "v+komarapu@gmail.com\n",
    "v$komarapu@gmail.com"
   ]
  },
  {
   "cell_type": "code",
   "execution_count": 69,
   "id": "d124b48c-d1e1-430f-87d2-4682b890da01",
   "metadata": {},
   "outputs": [
    {
     "name": "stdin",
     "output_type": "stream",
     "text": [
      "Enter your email:  vkomarapu@gmail.com\n"
     ]
    },
    {
     "name": "stdout",
     "output_type": "stream",
     "text": [
      "Valid\n"
     ]
    }
   ],
   "source": [
    "import re\n",
    "\n",
    "email = input(\"Enter your email: \")\n",
    "pattern = r'^[a-zA-Z0-9_]+@[a-zA-Z0-9_]+\\.[a-zA-Z]{2,}$'\n",
    "if re.match(pattern, email):\n",
    "    print(\"Valid\")\n",
    "else:\n",
    "    print(\"Invalid\")"
   ]
  },
  {
   "cell_type": "code",
   "execution_count": 73,
   "id": "0d75348f-0059-4592-b5cd-2200ff398593",
   "metadata": {},
   "outputs": [
    {
     "name": "stdin",
     "output_type": "stream",
     "text": [
      "Enter your phone number:  9493276368\n"
     ]
    },
    {
     "name": "stdout",
     "output_type": "stream",
     "text": [
      "Valid\n"
     ]
    }
   ],
   "source": [
    "import re\n",
    "\n",
    "phone = input(\"Enter your phone number: \")\n",
    "pattern = r'^[6-9]\\d{9}$'\n",
    "if re.match(pattern, phone):\n",
    "    print(\"Valid\")\n",
    "else:\n",
    "    print(\"Invalid\")"
   ]
  },
  {
   "cell_type": "code",
   "execution_count": 77,
   "id": "5c42359a-d9cc-47d6-b6e8-082c72f44451",
   "metadata": {},
   "outputs": [
    {
     "name": "stdin",
     "output_type": "stream",
     "text": [
      "Enter your phone number:  +91-9514753698\n"
     ]
    },
    {
     "name": "stdout",
     "output_type": "stream",
     "text": [
      "Valid\n"
     ]
    }
   ],
   "source": [
    "import re\n",
    "\n",
    "phone = input(\"Enter your phone number: \")\n",
    "pattern = r'^(\\+91[- ]?)?[6-9][0-9]{9}$'\n",
    "if re.match(pattern, phone):\n",
    "    print(\"Valid\")\n",
    "else:\n",
    "    print(\"Invalid\")"
   ]
  },
  {
   "cell_type": "code",
   "execution_count": 81,
   "id": "c80e3438-4db1-4975-b865-41da29c5bd94",
   "metadata": {},
   "outputs": [
    {
     "name": "stdin",
     "output_type": "stream",
     "text": [
      "enter your phno +91 9514753698\n"
     ]
    },
    {
     "name": "stdout",
     "output_type": "stream",
     "text": [
      "valid\n"
     ]
    }
   ],
   "source": [
    "import re\n",
    "\n",
    "phone = input('enter your phno')\n",
    "pattern = r'^\\+91[\\s-][6-9]\\d{9}$'\n",
    "if re.match(pattern, phone):\n",
    "    print('valid')\n",
    "else:\n",
    "    print('Invalid')"
   ]
  },
  {
   "cell_type": "code",
   "execution_count": null,
   "id": "2afb17c8-da9e-4358-8ce9-0d8bd89a8126",
   "metadata": {},
   "outputs": [],
   "source": []
  }
 ],
 "metadata": {
  "kernelspec": {
   "display_name": "Python 3 (ipykernel)",
   "language": "python",
   "name": "python3"
  },
  "language_info": {
   "codemirror_mode": {
    "name": "ipython",
    "version": 3
   },
   "file_extension": ".py",
   "mimetype": "text/x-python",
   "name": "python",
   "nbconvert_exporter": "python",
   "pygments_lexer": "ipython3",
   "version": "3.12.7"
  }
 },
 "nbformat": 4,
 "nbformat_minor": 5
}
