{
 "cells": [
  {
   "cell_type": "code",
   "execution_count": null,
   "id": "a6006e22-0564-4e9c-96fd-4a527b718202",
   "metadata": {},
   "outputs": [],
   "source": [
    "# json module\n",
    "\n",
    "import json\n",
    "name = input(\"Enter your name : \")\n",
    "age = int(input(\"enter your age : \"))\n",
    "data = {'name': name , 'age' : age}\n",
    "stringiy_json = json.dumps(data)\n",
    "print(\"Serialized data of JSON\",stringiy_json)"
   ]
  },
  {
   "cell_type": "code",
   "execution_count": null,
   "id": "83da047c-cce2-415d-a47d-b3b3b5116722",
   "metadata": {},
   "outputs": [],
   "source": [
    "Enter your name : broo\n",
    "enter your age : 16\n",
    "Serialized data of JSON {\"name\": \"broo\", \"age\": 16}"
   ]
  },
  {
   "cell_type": "code",
   "execution_count": null,
   "id": "b096c1c7-c58b-49c4-a404-82b9006809fe",
   "metadata": {},
   "outputs": [],
   "source": [
    "# import.py\n",
    "\n",
    "import json\n",
    "name = input(\"Enter your name : \")\n",
    "age = int(input(\"enter your age : \"))\n",
    "user = {'name': name , 'age' : age}\n",
    "with open(\"user.json\",\"w\") as f:\n",
    "    json.dump(user, f)\n",
    "print(\"Data written to json folder\")\n",
    "with open(\"user.json\",\"r\") as f:\n",
    "    loaded = json.load(f)\n",
    "print(\"Data reading from json file\",loaded)"
   ]
  },
  {
   "cell_type": "code",
   "execution_count": null,
   "id": "fd32ca44-ef2d-43ed-be18-d20ed5579cb5",
   "metadata": {},
   "outputs": [],
   "source": [
    "Enter your name : surya\n",
    "enter your age : 17\n",
    "Data written to json folder\n",
    "Data reading from json file {'name': 'surya', 'age': 17}"
   ]
  },
  {
   "cell_type": "code",
   "execution_count": null,
   "id": "e9575396-bbec-48da-91b6-795fa55ba762",
   "metadata": {},
   "outputs": [],
   "source": [
    "# user.json\n",
    "\n",
    "{'name': 'surya', 'age': 17}"
   ]
  },
  {
   "cell_type": "code",
   "execution_count": null,
   "id": "66ced737-f1c7-4a36-adca-3cfdc2581b6b",
   "metadata": {},
   "outputs": [],
   "source": [
    "# csvModule.py\n",
    "\n",
    "import csv\n",
    "\n",
    "with open(\"people.csv\", \"w\", newline=\"\") as file:\n",
    "    writer = csv.writer(file)\n",
    "    writer.writerow([\"name\",\"age\"])\n",
    "    for _ in range(2):\n",
    "        name = input(\"Enter your name : \")\n",
    "        age = int(input(\"enter your age : \"))\n",
    "        writer.writerow([name, age])\n",
    "print(\"Data written on csv file\")"
   ]
  },
  {
   "cell_type": "code",
   "execution_count": null,
   "id": "f88bb9ce-a57c-4592-a37c-c43e096b2d0b",
   "metadata": {},
   "outputs": [],
   "source": [
    "Enter your name : Bala\n",
    "enter your age : 18\n",
    "Enter your name : Subramanyam\n",
    "enter your age : 19\n",
    "Data written on csv file"
   ]
  },
  {
   "cell_type": "code",
   "execution_count": null,
   "id": "187da9dc-005c-413f-8dea-0db466684a54",
   "metadata": {},
   "outputs": [],
   "source": [
    "# people.csv\n",
    "\n",
    "name,age\n",
    "Bala,18\n",
    "Subramanyam,19"
   ]
  },
  {
   "cell_type": "code",
   "execution_count": null,
   "id": "2f1cfa93-e41b-4ac8-9947-42d864e483a3",
   "metadata": {},
   "outputs": [],
   "source": [
    "# load.py\n",
    "\n",
    "import csv\n",
    "with open(\"people.csv\", \"r\") as file:\n",
    "    reader = csv.reader(file)\n",
    "    for row in reader:\n",
    "        print(row)"
   ]
  },
  {
   "cell_type": "code",
   "execution_count": null,
   "id": "ce40d6d9-809d-4f7f-abc7-9fb3e4a63fb1",
   "metadata": {},
   "outputs": [],
   "source": [
    "['name', 'age']\n",
    "['Bala', '18']\n",
    "['Subramanyam', '19']"
   ]
  },
  {
   "cell_type": "code",
   "execution_count": null,
   "id": "e9db427c-190b-45e0-a435-f2bd2edd8864",
   "metadata": {},
   "outputs": [],
   "source": [
    "# os.py\n",
    "\n",
    "import os\n",
    "folder = input(\"Enter folder name to create : \")\n",
    "if not os.path.exists(folder):\n",
    "    os.mkdir(folder)\n",
    "    print(f\"Folder '{folder}' created\")\n",
    "else:\n",
    "    print(\"Folder already exists\")"
   ]
  },
  {
   "cell_type": "code",
   "execution_count": null,
   "id": "1f839d6d-ad7c-4303-af5d-33969cd80c14",
   "metadata": {},
   "outputs": [],
   "source": [
    "Enter folder name to create : sample\n",
    "Folder 'sample' created\n",
    "Enter folder name to create : sample\n",
    "Folder already exists"
   ]
  },
  {
   "cell_type": "code",
   "execution_count": null,
   "id": "ef1fafb5-693d-4c27-9c8c-a83fcf411c16",
   "metadata": {},
   "outputs": [],
   "source": [
    "# iter.py\n",
    "\n",
    "import itertools\n",
    "data = input(\"Enter Characters : \")\n",
    "permute = list(itertools.permutations(data))\n",
    "print(\"All Permutations\")\n",
    "for p in permute:\n",
    "    print(' '.join(p))"
   ]
  },
  {
   "cell_type": "code",
   "execution_count": null,
   "id": "f6e06e57-0513-445d-8eca-0124cad86b53",
   "metadata": {},
   "outputs": [],
   "source": [
    "Enter Characters : sky\n",
    "All Permutations\n",
    "s k y\n",
    "s y k\n",
    "k s y\n",
    "k y s\n",
    "y s k\n",
    "y k s"
   ]
  },
  {
   "cell_type": "code",
   "execution_count": null,
   "id": "5a6c2139-304f-4eb5-b3a3-155b78fae8d4",
   "metadata": {},
   "outputs": [],
   "source": [
    "# collection.py\n",
    "\n",
    "from collections import Counter\n",
    "text = input(\"Enter a text : \")\n",
    "counter = Counter(text)\n",
    "print(\"Characters frequencies : \",dict(counter))"
   ]
  },
  {
   "cell_type": "code",
   "execution_count": null,
   "id": "ef534360-231b-454b-9421-c6eed411f942",
   "metadata": {},
   "outputs": [],
   "source": [
    "Enter a text : codegnan \n",
    "Characters frequencies :  {'c': 1, 'o': 1, 'd': 1, 'e': 1, 'g': 1, 'n': 2, 'a': 1}"
   ]
  },
  {
   "cell_type": "code",
   "execution_count": null,
   "id": "748bcbc3-01cd-4bc7-ba95-a52095427777",
   "metadata": {},
   "outputs": [],
   "source": [
    "char - len(char)/1\n",
    "\n",
    "request package -\n",
    "1. web api interaction\n",
    "2. http get, put, post delete request\n",
    "3. handle json requests, status .... "
   ]
  },
  {
   "cell_type": "code",
   "execution_count": null,
   "id": "c17bc5b5-d9fb-49c6-973e-5624a0084091",
   "metadata": {},
   "outputs": [],
   "source": [
    "# req.py\n",
    "\n",
    "import requests\n",
    "\n",
    "response = requests.get(\"https://jsonplaceholder.typicode.com/posts/1\")\n",
    "print(response)\n",
    "print(\"Status Code : \",response.status_code)\n",
    "print(\"Response JSON\",response.json())"
   ]
  },
  {
   "cell_type": "code",
   "execution_count": null,
   "id": "be4d503f-8c78-4bdd-ab6a-b7a6620479eb",
   "metadata": {},
   "outputs": [],
   "source": [
    "<Response [200]>\n",
    "Status Code :  200\n",
    "Response JSON {'userId': 1, 'id': 1, 'title': 'sunt aut facere repellat provident occaecati excepturi optio reprehenderit', 'body': 'quia et suscipit\\nsuscipit recusandae consequuntur expedita et cum\\nreprehenderit molestiae ut ut quas totam\\nnostrum rerum est autem sunt rem eveniet architecto'}"
   ]
  },
  {
   "cell_type": "code",
   "execution_count": null,
   "id": "d09b335d-83cf-4d81-b354-2e5e4e374b35",
   "metadata": {},
   "outputs": [],
   "source": [
    "# postreq.py\n",
    "\n",
    "import requests\n",
    "\n",
    "url = \"https://jsonplaceholder.typicode.com/posts\"\n",
    "data = {\n",
    "    \"title\" : \"Hi Students\",\n",
    "    \"body\" : \"Wipro geeks\",\n",
    "    \"userID\" : 1\n",
    "}\n",
    "response = requests.post(url, json=data)\n",
    "print(\"status code\",response.status_code)\n",
    "print(\"Response JSON\",response.json())"
   ]
  },
  {
   "cell_type": "code",
   "execution_count": null,
   "id": "d8507ce3-53ea-442a-ad0e-f125add6aee1",
   "metadata": {},
   "outputs": [],
   "source": [
    "status code 201\n",
    "Response JSON {'title': 'Hi Students', 'body': 'Wipro geeks', 'userID': 1, 'id': 101}"
   ]
  },
  {
   "cell_type": "code",
   "execution_count": null,
   "id": "4d7c766e-6daf-4af2-bc57-38a32344bff8",
   "metadata": {},
   "outputs": [],
   "source": []
  }
 ],
 "metadata": {
  "kernelspec": {
   "display_name": "Python 3 (ipykernel)",
   "language": "python",
   "name": "python3"
  },
  "language_info": {
   "codemirror_mode": {
    "name": "ipython",
    "version": 3
   },
   "file_extension": ".py",
   "mimetype": "text/x-python",
   "name": "python",
   "nbconvert_exporter": "python",
   "pygments_lexer": "ipython3",
   "version": "3.13.5"
  }
 },
 "nbformat": 4,
 "nbformat_minor": 5
}
