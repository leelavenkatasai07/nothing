{
 "cells": [
  {
   "cell_type": "code",
   "execution_count": null,
   "id": "6a936ac0-36b8-4a08-b5cb-a907711b4cb3",
   "metadata": {},
   "outputs": [],
   "source": [
    "Design an algorithm to accept 10 integer elements for an array and print the sum of all the elements"
   ]
  },
  {
   "cell_type": "code",
   "execution_count": 5,
   "id": "ce0dbf0e-193b-44fd-925c-630e2590116c",
   "metadata": {},
   "outputs": [
    {
     "name": "stdin",
     "output_type": "stream",
     "text": [
      "Enter the length of the list :  10\n",
      " 2\n",
      " 3\n",
      " 4\n",
      " 5\n",
      " 1\n",
      " 0\n",
      " 5\n",
      " 8\n",
      " 10\n",
      " 2\n"
     ]
    },
    {
     "name": "stdout",
     "output_type": "stream",
     "text": [
      "The sum is 40\n"
     ]
    }
   ],
   "source": [
    "print(f\"The sum is {sum([int(input()) for i in range(int(input('Enter the length of the list : ')))])}\")"
   ]
  },
  {
   "cell_type": "code",
   "execution_count": 7,
   "id": "4416cb44-9988-433e-b961-a7f80d762a4c",
   "metadata": {},
   "outputs": [
    {
     "name": "stdin",
     "output_type": "stream",
     "text": [
      " 2 3 4 5 1 0 5 8 10 2\n"
     ]
    },
    {
     "name": "stdout",
     "output_type": "stream",
     "text": [
      "The sum is 40\n"
     ]
    }
   ],
   "source": [
    "print(f\"The sum is {sum(list(map(int,input().split())))}\")"
   ]
  },
  {
   "cell_type": "code",
   "execution_count": null,
   "id": "3ff0f38d-62dc-460d-a1c8-e73bf67afc28",
   "metadata": {},
   "outputs": [],
   "source": [
    "Design an algorithm to accept 20 integer elements for an array and print the maximum 3 and minimum 3 elements from the array.\n",
    "Note: Sorting of array elements are not expected as part of this activity."
   ]
  },
  {
   "cell_type": "code",
   "execution_count": 15,
   "id": "bd6e405f-f7ec-46df-be55-fe4059f6a318",
   "metadata": {},
   "outputs": [
    {
     "name": "stdin",
     "output_type": "stream",
     "text": [
      " 256 0 116 7 201 2 254 45 9 10 11 27 51 80 88 18 19 20\n"
     ]
    },
    {
     "name": "stdout",
     "output_type": "stream",
     "text": [
      "The Maximum 3 Elements in the list [256, 0, 116, 7, 201, 2, 254, 45, 9, 10, 11, 27, 51, 80, 88, 18, 19, 20] is :  256 254 201 \n",
      "The Minimum 3 Elements in the list [0, 116, 7, 2, 45, 9, 10, 11, 27, 51, 80, 88, 18, 19, 20] is :  0 2 7 "
     ]
    }
   ],
   "source": [
    "lis = list(map(int,input().split()))\n",
    "li = lis\n",
    "print(f\"The Maximum 3 Elements in the list {lis} is : \",end=\" \")\n",
    "for i in range(3):\n",
    "    x = max(lis)\n",
    "    print(x,end=\" \")\n",
    "    lis.remove(x)\n",
    "print(f\"\\nThe Minimum 3 Elements in the list {li} is : \",end=\" \")\n",
    "for i in range(3):\n",
    "    x = min(li)\n",
    "    print(x,end=\" \")\n",
    "    li.remove(x)"
   ]
  },
  {
   "cell_type": "code",
   "execution_count": null,
   "id": "e1545d55-abcb-4146-a3c8-ecde6ab393ac",
   "metadata": {},
   "outputs": [],
   "source": [
    "Design an algorithm to accept 10 integer elements for an array and then rearrange the elements in the array in reverse order. \n",
    "The reversed array must be displayed as output."
   ]
  },
  {
   "cell_type": "code",
   "execution_count": 19,
   "id": "99138f6d-4d84-461b-8e42-02fb7eec9ea8",
   "metadata": {},
   "outputs": [
    {
     "name": "stdin",
     "output_type": "stream",
     "text": [
      " 2 4 3 1 0 5 9 8 10 7\n"
     ]
    },
    {
     "name": "stdout",
     "output_type": "stream",
     "text": [
      "[10, 9, 8, 7, 5, 4, 3, 2, 1, 0]\n"
     ]
    }
   ],
   "source": [
    "print(f\"{(sorted(list(map(int,input().split()))))[::-1]}\")"
   ]
  },
  {
   "cell_type": "code",
   "execution_count": 21,
   "id": "c3d0e026-c73e-42b5-9007-81ef48030b29",
   "metadata": {},
   "outputs": [
    {
     "name": "stdin",
     "output_type": "stream",
     "text": [
      " 2 4 3 1 0 5 9 8 10 7\n"
     ]
    },
    {
     "name": "stdout",
     "output_type": "stream",
     "text": [
      "[7, 10, 8, 9, 5, 0, 1, 3, 4, 2]\n"
     ]
    }
   ],
   "source": [
    "print(f\"{((list(map(int,input().split()))))[::-1]}\")"
   ]
  },
  {
   "cell_type": "code",
   "execution_count": 23,
   "id": "3dbba8ad-98ce-48df-b672-fa0e1d6eba49",
   "metadata": {},
   "outputs": [
    {
     "name": "stdin",
     "output_type": "stream",
     "text": [
      "Enter 10 numbers:  2 4 3 1 0 5 9 8 10 7\n"
     ]
    },
    {
     "name": "stdout",
     "output_type": "stream",
     "text": [
      "7 10 8 9 5 0 1 3 4 2\n"
     ]
    }
   ],
   "source": [
    "arr = list(map(int, input(\"Enter 10 numbers: \").split()))\n",
    "reversed_arr = arr[::-1]\n",
    "print(*reversed_arr)"
   ]
  },
  {
   "cell_type": "code",
   "execution_count": 35,
   "id": "f3d274e8-d2a3-4b59-bed5-af1a9bdb5825",
   "metadata": {},
   "outputs": [
    {
     "name": "stdin",
     "output_type": "stream",
     "text": [
      "Enter 10 numbers:  2 4 3 1 0 5 9 8 10 7\n"
     ]
    },
    {
     "name": "stdout",
     "output_type": "stream",
     "text": [
      "7 10 8 9 5 0 1 3 4 2\n"
     ]
    }
   ],
   "source": [
    "arr = list(map(str, input(\"Enter 10 numbers: \").split()))\n",
    "print(*reversed(arr))"
   ]
  },
  {
   "cell_type": "code",
   "execution_count": 43,
   "id": "f584bc94-37aa-409e-a973-648c1016aed0",
   "metadata": {},
   "outputs": [
    {
     "name": "stdin",
     "output_type": "stream",
     "text": [
      "Enter 10 numbers:  2 4 3 1 0 5 9 8 10 7\n"
     ]
    },
    {
     "name": "stdout",
     "output_type": "stream",
     "text": [
      "7 10 8 9 5 0 1 3 4 2\n",
      "[7, 10, 8, 9, 5, 0, 1, 3, 4, 2]\n"
     ]
    }
   ],
   "source": [
    "arr = list(map(int, input(\"Enter 10 numbers: \").split()))\n",
    "for i in range(len(arr)):\n",
    "    x = arr.pop()\n",
    "    arr.insert(i,x)\n",
    "print(*arr)\n",
    "print(arr)"
   ]
  },
  {
   "cell_type": "code",
   "execution_count": 47,
   "id": "a92c42f4-8e9a-4f2a-bfea-9b13a1826a11",
   "metadata": {},
   "outputs": [
    {
     "name": "stdin",
     "output_type": "stream",
     "text": [
      "Enter 10 numbers:  2 4 3 1 0 5 9 8 10 7\n"
     ]
    },
    {
     "name": "stdout",
     "output_type": "stream",
     "text": [
      "7 10 8 9 5 0 1 3 4 2 "
     ]
    }
   ],
   "source": [
    "arr = list(map(int, input(\"Enter 10 numbers: \").split()))\n",
    "for i in range(len(arr)-1,-1,-1):\n",
    "    print(arr[i],end=\" \")"
   ]
  },
  {
   "cell_type": "code",
   "execution_count": null,
   "id": "9e20e104-89ca-4925-92a9-7ca49d3dfe93",
   "metadata": {},
   "outputs": [],
   "source": [
    "Design an algorithm which accepts a set of N (consider N to be 30) students examination marks (in the range of 0 to 100). \n",
    "Then make a count of the number of students that obtain each possible mark (i.e.; count of how many students scored 0, \n",
    "count of how many students scored 1,.... till count of how many students scored 100)"
   ]
  },
  {
   "cell_type": "code",
   "execution_count": null,
   "id": "07ea1412-3d8e-4888-9345-3982be61412e",
   "metadata": {},
   "outputs": [],
   "source": []
  },
  {
   "cell_type": "code",
   "execution_count": null,
   "id": "61aeedb5-eede-4e7f-901d-87547c2353fd",
   "metadata": {},
   "outputs": [],
   "source": [
    "Modify the algorithm written in Activity 4 in order to get count of students in a specific range of marks as defined below.\n",
    "Range of marks:\n",
    "0 to 10%\n",
    "11% to 20%\n",
    ":\n",
    ":\n",
    ":\n",
    "91% to 100%"
   ]
  }
 ],
 "metadata": {
  "kernelspec": {
   "display_name": "Python 3 (ipykernel)",
   "language": "python",
   "name": "python3"
  },
  "language_info": {
   "codemirror_mode": {
    "name": "ipython",
    "version": 3
   },
   "file_extension": ".py",
   "mimetype": "text/x-python",
   "name": "python",
   "nbconvert_exporter": "python",
   "pygments_lexer": "ipython3",
   "version": "3.12.7"
  }
 },
 "nbformat": 4,
 "nbformat_minor": 5
}
