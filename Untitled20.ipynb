{
 "cells": [
  {
   "cell_type": "code",
   "execution_count": null,
   "id": "ec522bbb-9c9d-4346-a6a5-13613ad1142d",
   "metadata": {},
   "outputs": [],
   "source": [
    "IO operation /handling\n",
    "ASCII testfiles - reading writing append char-\n",
    "file which opens \n",
    "rb - opens file in binary format\n",
    "r+ - opens both reading/writing\n",
    "rb+  opens both reading/writing binary format\n",
    "w - opens writing format\n",
    "creates a file on that name when destination is not provided\n",
    "wb = binary format / write\n",
    "w+ = reading/writing \n",
    "wb+ \n",
    "a - append opens a file to append the data\n",
    "ab - append binary data\n",
    "ab+ -reading and appending of binary data\n",
    "a+ - reading and append\n",
    "\n",
    "file obj attributes\n",
    "fileobj.closed- ret- return true if the file is closed and false otherwise\n",
    "fileobj.mode- opening access\n",
    "fileobj.name- returns the file name\n"
   ]
  },
  {
   "cell_type": "code",
   "execution_count": null,
   "id": "51e1175d-26f9-46fc-b69f-7d63ee32c0b7",
   "metadata": {},
   "outputs": [],
   "source": [
    "a=int(input('enter a:'))\n",
    "b=int(input('enter b:'))\n",
    "c=int(input('enter c:'))\n",
    "a=a+b+c\n",
    "b=a-(b+c)\n",
    "c=a-(b+c)\n",
    "a=a-(b+c)\n",
    "print(a)\n",
    "print(b)\n",
    "print(c)"
   ]
  },
  {
   "cell_type": "code",
   "execution_count": null,
   "id": "04dedc1b-81ee-4a9e-aa8c-624e0e5ecd2e",
   "metadata": {},
   "outputs": [],
   "source": [
    "li=list(map(int,input().split()))\n",
    "c1=0\n",
    "c2=0\n",
    "for i in li:\n",
    "    if i<=-0:\n",
    "        c1+=1\n",
    "    else:\n",
    "        c2+=1\n",
    "print('positive',c1)\n",
    "print('negative',c2)"
   ]
  },
  {
   "cell_type": "code",
   "execution_count": null,
   "id": "ef1d37a3-5400-4d73-b551-ff5aa132b379",
   "metadata": {},
   "outputs": [],
   "source": [
    "a=int(input())\n",
    "b=int(input())\n",
    "c=a+b\n",
    "if c%2==0:\n",
    "    print('even')\n",
    "else:\n",
    "    print('odd')"
   ]
  },
  {
   "cell_type": "code",
   "execution_count": null,
   "id": "69fe72f5-63f5-4951-8277-0f28a184cc50",
   "metadata": {},
   "outputs": [],
   "source": [
    "\n",
    "for i in range (1,101,2):\n",
    "   print(i) "
   ]
  },
  {
   "cell_type": "code",
   "execution_count": null,
   "id": "46a16702-bb75-4e26-b4f6-86b922c971f2",
   "metadata": {},
   "outputs": [],
   "source": [
    "for i in range (0,100,2):\n",
    "   print(i) "
   ]
  },
  {
   "cell_type": "code",
   "execution_count": null,
   "id": "f8a3c93a-9a9d-4633-9451-9013a2fbdeaf",
   "metadata": {},
   "outputs": [],
   "source": [
    "a=int(input())\n",
    "while(a!=-1):\n",
    "    print(a)\n",
    "    a=a-1\n",
    "    "
   ]
  },
  {
   "cell_type": "code",
   "execution_count": null,
   "id": "7740399a-9e24-45d5-a247-d085df2f29b6",
   "metadata": {},
   "outputs": [],
   "source": [
    "a=int(input())\n",
    "while(a!=0 and a>=-1):\n",
    "    print(a)\n",
    "    a=a-3\n",
    "    "
   ]
  },
  {
   "cell_type": "code",
   "execution_count": 3,
   "id": "6159090a-98bc-4d90-9a02-814a614145a3",
   "metadata": {},
   "outputs": [
    {
     "name": "stdout",
     "output_type": "stream",
     "text": [
      "1\n",
      "12\n",
      "123\n",
      "1234\n",
      "12345\n",
      "123456\n",
      "1234567\n",
      "12345678\n",
      "123456789\n"
     ]
    }
   ],
   "source": [
    "for i in range (1,10):\n",
    "    for j in range(1,i+1):\n",
    "        print(j,end='')\n",
    "    print()"
   ]
  },
  {
   "cell_type": "code",
   "execution_count": 44,
   "id": "2016181d-a33e-4591-b6ca-104ca67c8451",
   "metadata": {},
   "outputs": [
    {
     "name": "stdin",
     "output_type": "stream",
     "text": [
      " 10\n"
     ]
    },
    {
     "name": "stdout",
     "output_type": "stream",
     "text": [
      "         *\n",
      "        **\n",
      "       ***\n",
      "      ****\n",
      "     *****\n",
      "    ******\n",
      "   *******\n",
      "  ********\n",
      " *********\n",
      "**********\n"
     ]
    }
   ],
   "source": [
    "a=int(input())\n",
    "for i in range(1,a+1):\n",
    "    print(' '*(a-i),end='')\n",
    "    print('*'*i,end='')\n",
    "    print()"
   ]
  },
  {
   "cell_type": "code",
   "execution_count": 46,
   "id": "3e283cf2-bcae-45cf-a814-8dde56775659",
   "metadata": {},
   "outputs": [
    {
     "name": "stdin",
     "output_type": "stream",
     "text": [
      " 10\n"
     ]
    },
    {
     "name": "stdout",
     "output_type": "stream",
     "text": [
      "*\n",
      "**\n",
      "***\n",
      "****\n",
      "*****\n",
      "******\n",
      "*******\n",
      "********\n",
      "*********\n",
      "**********\n"
     ]
    }
   ],
   "source": [
    "a=int(input())\n",
    "for i in range(1,a+1):\n",
    "    print('*'*i,end='')\n",
    "    print()"
   ]
  },
  {
   "cell_type": "code",
   "execution_count": 40,
   "id": "861f91ea-84cc-41f3-b254-109313a2616d",
   "metadata": {},
   "outputs": [
    {
     "name": "stdin",
     "output_type": "stream",
     "text": [
      " 10\n"
     ]
    },
    {
     "name": "stdout",
     "output_type": "stream",
     "text": [
      "**********\n",
      "*********\n",
      "********\n",
      "*******\n",
      "******\n",
      "*****\n",
      "****\n",
      "***\n",
      "**\n",
      "*\n",
      "\n"
     ]
    }
   ],
   "source": [
    "a=int(input())\n",
    "for i in range(a,-1,-1):\n",
    "    print('*'*i,end='')\n",
    "    print()"
   ]
  },
  {
   "cell_type": "code",
   "execution_count": 42,
   "id": "b254d730-eac7-4cfd-a11a-7f7e977f918c",
   "metadata": {},
   "outputs": [
    {
     "name": "stdin",
     "output_type": "stream",
     "text": [
      " 10\n"
     ]
    },
    {
     "name": "stdout",
     "output_type": "stream",
     "text": [
      "**********\n",
      " *********\n",
      "  ********\n",
      "   *******\n",
      "    ******\n",
      "     *****\n",
      "      ****\n",
      "       ***\n",
      "        **\n",
      "         *\n",
      "          \n"
     ]
    }
   ],
   "source": [
    "a=int(input())\n",
    "for i in range(a,-1,-1):\n",
    "    print(' '*(a-i),end='')\n",
    "    print('*'*i,end='')\n",
    "    print()"
   ]
  },
  {
   "cell_type": "code",
   "execution_count": 41,
   "id": "11cff709-ab0e-438a-8bc8-fc437ebc0aaa",
   "metadata": {},
   "outputs": [
    {
     "name": "stdout",
     "output_type": "stream",
     "text": [
      "         1\n",
      "        121\n",
      "       12321\n",
      "      1234321\n",
      "     123454321\n",
      "    12345654321\n",
      "   1234567654321\n",
      "  123456787654321\n",
      " 12345678987654321\n"
     ]
    }
   ],
   "source": [
    "for i in range(1,a):\n",
    "    print(' '*(a-i),end='')\n",
    "    print((((10**i)-1)//9)**2)"
   ]
  },
  {
   "cell_type": "code",
   "execution_count": 35,
   "id": "6eea2142-ea32-4eaf-a7fe-f421e55d7761",
   "metadata": {},
   "outputs": [
    {
     "name": "stdin",
     "output_type": "stream",
     "text": [
      " 10\n"
     ]
    },
    {
     "name": "stdout",
     "output_type": "stream",
     "text": [
      "         1\n",
      "        121\n",
      "       12321\n",
      "      1234321\n",
      "     123454321\n",
      "    12345654321\n",
      "   1234567654321\n",
      "  123456787654321\n",
      " 12345678987654321\n",
      "  123456787654321\n",
      "   1234567654321\n",
      "    12345654321\n",
      "     123454321\n",
      "      1234321\n",
      "       12321\n",
      "        121\n",
      "         1\n"
     ]
    }
   ],
   "source": [
    "a=int(input())\n",
    "for i in range(1,a-1):\n",
    "    print(' '*(a-i),end='')\n",
    "    print((((10**i)-1)//9)**2)\n",
    "for i in range(1,a):\n",
    "    print(' '*(i),end='')\n",
    "    print((((10**(a-i)-1)//9)**2))"
   ]
  }
 ],
 "metadata": {
  "kernelspec": {
   "display_name": "Python 3 (ipykernel)",
   "language": "python",
   "name": "python3"
  },
  "language_info": {
   "codemirror_mode": {
    "name": "ipython",
    "version": 3
   },
   "file_extension": ".py",
   "mimetype": "text/x-python",
   "name": "python",
   "nbconvert_exporter": "python",
   "pygments_lexer": "ipython3",
   "version": "3.12.7"
  }
 },
 "nbformat": 4,
 "nbformat_minor": 5
}
