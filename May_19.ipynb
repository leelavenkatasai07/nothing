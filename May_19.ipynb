{
 "cells": [
  {
   "cell_type": "code",
   "execution_count": null,
   "id": "ab0a97d6-27e8-4db3-a108-435dcba79000",
   "metadata": {},
   "outputs": [],
   "source": [
    "'''\n",
    "Errors and Exceptions\n",
    "\n",
    "-> Types of Errors and Exceptions\n",
    "-> try block\n",
    "-> except block\n",
    "-> finally block\n",
    "-> rasing exception\n",
    "-> built-in functions\n",
    "'''"
   ]
  },
  {
   "cell_type": "code",
   "execution_count": 3,
   "id": "551951db-6771-49e0-a2b5-1ffff42d08f6",
   "metadata": {},
   "outputs": [
    {
     "ename": "ZeroDivisionError",
     "evalue": "integer division or modulo by zero",
     "output_type": "error",
     "traceback": [
      "\u001b[1;31m---------------------------------------------------------------------------\u001b[0m",
      "\u001b[1;31mZeroDivisionError\u001b[0m                         Traceback (most recent call last)",
      "Cell \u001b[1;32mIn[3], line 1\u001b[0m\n\u001b[1;32m----> 1\u001b[0m \u001b[38;5;28mprint\u001b[39m(\u001b[38;5;241m1\u001b[39m\u001b[38;5;241m/\u001b[39m\u001b[38;5;241m/\u001b[39m\u001b[38;5;241m0\u001b[39m)\n",
      "\u001b[1;31mZeroDivisionError\u001b[0m: integer division or modulo by zero"
     ]
    }
   ],
   "source": [
    "print(1//0)"
   ]
  },
  {
   "cell_type": "code",
   "execution_count": 5,
   "id": "4825b090-069b-4b06-9053-3b2e81db6d3d",
   "metadata": {},
   "outputs": [
    {
     "ename": "NameError",
     "evalue": "name 'lee' is not defined",
     "output_type": "error",
     "traceback": [
      "\u001b[1;31m---------------------------------------------------------------------------\u001b[0m",
      "\u001b[1;31mNameError\u001b[0m                                 Traceback (most recent call last)",
      "Cell \u001b[1;32mIn[5], line 1\u001b[0m\n\u001b[1;32m----> 1\u001b[0m \u001b[38;5;28mprint\u001b[39m(lee\u001b[38;5;241m+\u001b[39m\u001b[38;5;241m88\u001b[39m)\n",
      "\u001b[1;31mNameError\u001b[0m: name 'lee' is not defined"
     ]
    }
   ],
   "source": [
    "print(lee+88)"
   ]
  },
  {
   "cell_type": "code",
   "execution_count": 9,
   "id": "221a5026-5ccb-4839-88a8-6e9e761fec30",
   "metadata": {},
   "outputs": [
    {
     "ename": "TypeError",
     "evalue": "can only concatenate str (not \"int\") to str",
     "output_type": "error",
     "traceback": [
      "\u001b[1;31m---------------------------------------------------------------------------\u001b[0m",
      "\u001b[1;31mTypeError\u001b[0m                                 Traceback (most recent call last)",
      "Cell \u001b[1;32mIn[9], line 1\u001b[0m\n\u001b[1;32m----> 1\u001b[0m \u001b[38;5;28mprint\u001b[39m(\u001b[38;5;124m'\u001b[39m\u001b[38;5;124mlee\u001b[39m\u001b[38;5;124m'\u001b[39m\u001b[38;5;241m+\u001b[39m\u001b[38;5;241m88\u001b[39m)\n",
      "\u001b[1;31mTypeError\u001b[0m: can only concatenate str (not \"int\") to str"
     ]
    }
   ],
   "source": [
    "print('lee'+88)"
   ]
  },
  {
   "cell_type": "code",
   "execution_count": 11,
   "id": "d6546eac-e43c-4cc4-9ac0-95c11a01512c",
   "metadata": {},
   "outputs": [
    {
     "name": "stdin",
     "output_type": "stream",
     "text": [
      "Enter the numerator :  2\n",
      "Enter the denominator :  0\n"
     ]
    },
    {
     "name": "stdout",
     "output_type": "stream",
     "text": [
      "Denominator cannot be Zero\n"
     ]
    }
   ],
   "source": [
    "# Handling Zero Division Error\n",
    "\n",
    "num = int(input(\"Enter the numerator : \"))\n",
    "den = int(input(\"Enter the denominator : \"))\n",
    "try:\n",
    "    result = num/den\n",
    "    print(f\"Quotient : {result}\")\n",
    "except ZeroDivisionError:\n",
    "    print(\"Denominator cannot be Zero\")"
   ]
  },
  {
   "cell_type": "code",
   "execution_count": 27,
   "id": "dadd7d4d-f65e-4685-ad6d-af3fdef048d9",
   "metadata": {},
   "outputs": [
    {
     "name": "stdin",
     "output_type": "stream",
     "text": [
      "Enter the number :  z\n"
     ]
    },
    {
     "name": "stdout",
     "output_type": "stream",
     "text": [
      "Please check before you enter... the program\n",
      "See you\n"
     ]
    }
   ],
   "source": [
    "# Multiple Exception Handling\n",
    "\n",
    "try:\n",
    "    num = int(input(\"Enter the number : \"))\n",
    "    print(num**2)\n",
    "except KeyboardInterrupt:\n",
    "    print(\"You have to enter a number.... not string\")\n",
    "except ValueError:\n",
    "    print(\"Please check before you enter... the program\")\n",
    "print(\"See you\")"
   ]
  },
  {
   "cell_type": "code",
   "execution_count": 25,
   "id": "4784f9b3-884e-41bb-b1dd-bbf5b4b3fd10",
   "metadata": {},
   "outputs": [
    {
     "name": "stdin",
     "output_type": "stream",
     "text": [
      "Enter the number :  e\n"
     ]
    },
    {
     "name": "stdout",
     "output_type": "stream",
     "text": [
      "Please check before you enter... the program\n",
      "See you\n"
     ]
    }
   ],
   "source": [
    "# Multiple Exception ina a Single Block Handling\n",
    "\n",
    "try:\n",
    "    num = int(input(\"Enter the number : \"))\n",
    "    print(num**2)\n",
    "except (KeyboardInterrupt, ValueError, TypeError):\n",
    "    print(\"Please check before you enter... the program\")\n",
    "print(\"See you\")"
   ]
  },
  {
   "cell_type": "code",
   "execution_count": 31,
   "id": "ee3a4002-21ce-40db-9271-26eedea92f22",
   "metadata": {},
   "outputs": [
    {
     "name": "stdin",
     "output_type": "stream",
     "text": [
      "Enter the numerator :  2\n",
      "Enter the denominator :  0\n"
     ]
    },
    {
     "name": "stdout",
     "output_type": "stream",
     "text": [
      "Type of Error is : division by zero\n"
     ]
    }
   ],
   "source": [
    "num = int(input(\"Enter the numerator : \"))\n",
    "den = int(input(\"Enter the denominator : \"))\n",
    "try:\n",
    "    result = num/den\n",
    "    print(f\"Quotient : {result}\")\n",
    "except Exception as e:\n",
    "    print(f\"Type of Error is : {e}\")"
   ]
  },
  {
   "cell_type": "code",
   "execution_count": 37,
   "id": "bcd87fce-2568-4b9e-8d8b-137c489e57c4",
   "metadata": {},
   "outputs": [
    {
     "name": "stdout",
     "output_type": "stream",
     "text": [
      "4\n",
      "Executing perfectly... exception raised manually\n"
     ]
    }
   ],
   "source": [
    "# Raise an Exception\n",
    "\n",
    "try:\n",
    "    num = 4\n",
    "    print(num)\n",
    "    raise ValueError\n",
    "except:\n",
    "    print(\"Executing perfectly... exception raised manually\")"
   ]
  },
  {
   "cell_type": "code",
   "execution_count": 39,
   "id": "19584d1a-66e2-4826-ae9f-aaba8f012b07",
   "metadata": {},
   "outputs": [
    {
     "name": "stdout",
     "output_type": "stream",
     "text": [
      "re-raise\n"
     ]
    },
    {
     "ename": "NameError",
     "evalue": "",
     "output_type": "error",
     "traceback": [
      "\u001b[1;31m---------------------------------------------------------------------------\u001b[0m",
      "\u001b[1;31mNameError\u001b[0m                                 Traceback (most recent call last)",
      "Cell \u001b[1;32mIn[39], line 4\u001b[0m\n\u001b[0;32m      1\u001b[0m \u001b[38;5;66;03m# re-raise error\u001b[39;00m\n\u001b[0;32m      3\u001b[0m \u001b[38;5;28;01mtry\u001b[39;00m:\n\u001b[1;32m----> 4\u001b[0m     \u001b[38;5;28;01mraise\u001b[39;00m \u001b[38;5;167;01mNameError\u001b[39;00m\n\u001b[0;32m      5\u001b[0m \u001b[38;5;28;01mexcept\u001b[39;00m:\n\u001b[0;32m      6\u001b[0m     \u001b[38;5;28mprint\u001b[39m(\u001b[38;5;124m\"\u001b[39m\u001b[38;5;124mre-raise\u001b[39m\u001b[38;5;124m\"\u001b[39m)\n",
      "\u001b[1;31mNameError\u001b[0m: "
     ]
    }
   ],
   "source": [
    "# re-raise error\n",
    "\n",
    "try:\n",
    "    raise NameError\n",
    "except:\n",
    "    print(\"re-raise\")\n",
    "    raise"
   ]
  },
  {
   "cell_type": "code",
   "execution_count": 49,
   "id": "bd8a74e7-7b28-4581-ac63-40f4f0ce759c",
   "metadata": {},
   "outputs": [
    {
     "name": "stdout",
     "output_type": "stream",
     "text": [
      "<class 'Exception'>\n",
      "('Today', '19th May,2025')\n",
      "('Today', '19th May,2025')\n",
      "First Assigned is Today\n",
      "Second Assigned is 19th May,2025\n"
     ]
    }
   ],
   "source": [
    "# Instance using in Exceptions\n",
    "\n",
    "try:\n",
    "    raise Exception('Today','19th May,2025')\n",
    "except Exception as errorobj:\n",
    "    print(type(errorobj))\n",
    "    print(errorobj)\n",
    "    print(errorobj.args)\n",
    "    x,y = errorobj.args\n",
    "    print(f\"First Assigned is {x}\")\n",
    "    print(f\"Second Assigned is {y}\")"
   ]
  },
  {
   "cell_type": "code",
   "execution_count": 53,
   "id": "eb34e2cf-471c-419b-a208-62b885bb2fbf",
   "metadata": {},
   "outputs": [
    {
     "name": "stdin",
     "output_type": "stream",
     "text": [
      "Enter the numerator :  3\n",
      "Enter the denominator :  0\n"
     ]
    },
    {
     "name": "stdout",
     "output_type": "stream",
     "text": [
      "Non-processed\n"
     ]
    }
   ],
   "source": [
    "def div(n, d):\n",
    "    try:\n",
    "        q=n/d\n",
    "        print(q)\n",
    "    except ZeroDivisionError:\n",
    "        print(\"Non-processed\")\n",
    "num = int(input(\"Enter the numerator : \"))\n",
    "den = int(input(\"Enter the denominator : \"))\n",
    "div(num, den)"
   ]
  },
  {
   "cell_type": "code",
   "execution_count": null,
   "id": "7ed2cb35-2d5e-4f0a-9a57-e4e92e36fae9",
   "metadata": {},
   "outputs": [],
   "source": [
    "'''\n",
    "> Exception - base class/ all exceptions\n",
    "> SystemExit - sys.exit()\n",
    "> StandardError - except sys.exit()/ StopIteration\n",
    "> OverflowError - numeric type errors exceeds limit\n",
    "> ArithmeticError - base class for all calc\n",
    "> IOError - import file error\n",
    "> FloatingPointError\n",
    "> AssertionError\n",
    "> AttributeError\n",
    "> ImportError\n",
    "> KeyError\n",
    "> EnvironmentError\n",
    "> IndexError\n",
    "> StopIterationError\n",
    "> EOFError\n",
    "> LookupError\n",
    "> SyntaxError\n",
    "> SystemError\n",
    "> IndentationError\n",
    "'''"
   ]
  },
  {
   "cell_type": "code",
   "execution_count": null,
   "id": "86864fcf-e328-4c7b-bdcf-0147f3b9cd36",
   "metadata": {},
   "outputs": [],
   "source": [
    "'''\n",
    "code to create a sub-class of exception class to handle errors \n",
    "'''"
   ]
  },
  {
   "cell_type": "code",
   "execution_count": 59,
   "id": "4aa03cc1-3378-40ef-8812-d496220f68e8",
   "metadata": {},
   "outputs": [
    {
     "name": "stdout",
     "output_type": "stream",
     "text": [
      "Returned String is 88\n",
      "<class 'int'>\n"
     ]
    }
   ],
   "source": [
    "class myError(Exception):\n",
    "    def __init__(self, value):\n",
    "        self.value = value\n",
    "    def __str__(self):\n",
    "        return repr(self.value)\n",
    "\n",
    "try:\n",
    "    raise myError(88)\n",
    "except myError as e:\n",
    "    print(f\"Returned String is {e.value}\")\n",
    "    print(type(e.value))"
   ]
  },
  {
   "cell_type": "code",
   "execution_count": 61,
   "id": "371db699-b3a4-4428-8a55-67e1ac8bad33",
   "metadata": {},
   "outputs": [
    {
     "name": "stdout",
     "output_type": "stream",
     "text": [
      "raise exception\n",
      "Performing Cleanup by finally\n"
     ]
    },
    {
     "ename": "ValueError",
     "evalue": "",
     "output_type": "error",
     "traceback": [
      "\u001b[1;31m---------------------------------------------------------------------------\u001b[0m",
      "\u001b[1;31mValueError\u001b[0m                                Traceback (most recent call last)",
      "Cell \u001b[1;32mIn[61], line 3\u001b[0m\n\u001b[0;32m      1\u001b[0m \u001b[38;5;28;01mtry\u001b[39;00m:\n\u001b[0;32m      2\u001b[0m     \u001b[38;5;28mprint\u001b[39m(\u001b[38;5;124m'\u001b[39m\u001b[38;5;124mraise exception\u001b[39m\u001b[38;5;124m'\u001b[39m)\n\u001b[1;32m----> 3\u001b[0m     \u001b[38;5;28;01mraise\u001b[39;00m \u001b[38;5;167;01mValueError\u001b[39;00m\n\u001b[0;32m      4\u001b[0m \u001b[38;5;28;01mfinally\u001b[39;00m:\n\u001b[0;32m      5\u001b[0m     \u001b[38;5;28mprint\u001b[39m(\u001b[38;5;124m\"\u001b[39m\u001b[38;5;124mPerforming Cleanup by finally\u001b[39m\u001b[38;5;124m\"\u001b[39m)\n",
      "\u001b[1;31mValueError\u001b[0m: "
     ]
    }
   ],
   "source": [
    "try:\n",
    "    print('raise exception')\n",
    "    raise ValueError\n",
    "finally:\n",
    "    print(\"Performing Cleanup by finally\")"
   ]
  },
  {
   "cell_type": "code",
   "execution_count": 63,
   "id": "c5b5422f-78a7-4624-9c15-c6e5505c9f2a",
   "metadata": {},
   "outputs": [
    {
     "name": "stdout",
     "output_type": "stream",
     "text": [
      "abc\n",
      "123\n",
      "abc123\n"
     ]
    }
   ],
   "source": [
    "try:\n",
    "    print('abc')\n",
    "    raise ValueError\n",
    "except:\n",
    "    print('123')\n",
    "finally:\n",
    "    print('abc123')"
   ]
  },
  {
   "cell_type": "code",
   "execution_count": 67,
   "id": "f6ace8d4-46ac-4a08-93e3-8217d912e7e6",
   "metadata": {},
   "outputs": [
    {
     "name": "stdout",
     "output_type": "stream",
     "text": [
      "\n",
      "\t ------- Calculator Menu ------- \n",
      "\n",
      "1. Addition(+)\n",
      "2. Subtraction(-)\n",
      "3. Multiplication(*)\n",
      "4. Division(/)\n",
      "5. Modulo(%)\n",
      "6. Exponent(**)\n",
      "7. Floor_Divide(//)\n",
      "\n"
     ]
    },
    {
     "name": "stdin",
     "output_type": "stream",
     "text": [
      "Select an operation (1-8) :  1\n",
      "Enter 1st number :  2\n",
      "Enter 2nd number :  3\n"
     ]
    },
    {
     "name": "stdout",
     "output_type": "stream",
     "text": [
      "Result : 5.0\n",
      "\n",
      "\t ------- Calculator Menu ------- \n",
      "\n",
      "1. Addition(+)\n",
      "2. Subtraction(-)\n",
      "3. Multiplication(*)\n",
      "4. Division(/)\n",
      "5. Modulo(%)\n",
      "6. Exponent(**)\n",
      "7. Floor_Divide(//)\n",
      "\n"
     ]
    },
    {
     "name": "stdin",
     "output_type": "stream",
     "text": [
      "Select an operation (1-8) :  2\n",
      "Enter 1st number :  4\n",
      "Enter 2nd number :  1\n"
     ]
    },
    {
     "name": "stdout",
     "output_type": "stream",
     "text": [
      "Result : 3.0\n",
      "\n",
      "\t ------- Calculator Menu ------- \n",
      "\n",
      "1. Addition(+)\n",
      "2. Subtraction(-)\n",
      "3. Multiplication(*)\n",
      "4. Division(/)\n",
      "5. Modulo(%)\n",
      "6. Exponent(**)\n",
      "7. Floor_Divide(//)\n",
      "\n"
     ]
    },
    {
     "name": "stdin",
     "output_type": "stream",
     "text": [
      "Select an operation (1-8) :  3\n",
      "Enter 1st number :  5\n",
      "Enter 2nd number :  4\n"
     ]
    },
    {
     "name": "stdout",
     "output_type": "stream",
     "text": [
      "Result : 20.0\n",
      "\n",
      "\t ------- Calculator Menu ------- \n",
      "\n",
      "1. Addition(+)\n",
      "2. Subtraction(-)\n",
      "3. Multiplication(*)\n",
      "4. Division(/)\n",
      "5. Modulo(%)\n",
      "6. Exponent(**)\n",
      "7. Floor_Divide(//)\n",
      "\n"
     ]
    },
    {
     "name": "stdin",
     "output_type": "stream",
     "text": [
      "Select an operation (1-8) :  4\n",
      "Enter 1st number :  5\n",
      "Enter 2nd number :  2\n"
     ]
    },
    {
     "name": "stdout",
     "output_type": "stream",
     "text": [
      "Result : 2.5\n",
      "\n",
      "\t ------- Calculator Menu ------- \n",
      "\n",
      "1. Addition(+)\n",
      "2. Subtraction(-)\n",
      "3. Multiplication(*)\n",
      "4. Division(/)\n",
      "5. Modulo(%)\n",
      "6. Exponent(**)\n",
      "7. Floor_Divide(//)\n",
      "\n"
     ]
    },
    {
     "name": "stdin",
     "output_type": "stream",
     "text": [
      "Select an operation (1-8) :  5\n",
      "Enter 1st number :  1\n",
      "Enter 2nd number :  10\n"
     ]
    },
    {
     "name": "stdout",
     "output_type": "stream",
     "text": [
      "Result : 1.0\n",
      "\n",
      "\t ------- Calculator Menu ------- \n",
      "\n",
      "1. Addition(+)\n",
      "2. Subtraction(-)\n",
      "3. Multiplication(*)\n",
      "4. Division(/)\n",
      "5. Modulo(%)\n",
      "6. Exponent(**)\n",
      "7. Floor_Divide(//)\n",
      "\n"
     ]
    },
    {
     "name": "stdin",
     "output_type": "stream",
     "text": [
      "Select an operation (1-8) :  6\n",
      "Enter 1st number :  3\n",
      "Enter 2nd number :  2\n"
     ]
    },
    {
     "name": "stdout",
     "output_type": "stream",
     "text": [
      "Result : 9.0\n",
      "\n",
      "\t ------- Calculator Menu ------- \n",
      "\n",
      "1. Addition(+)\n",
      "2. Subtraction(-)\n",
      "3. Multiplication(*)\n",
      "4. Division(/)\n",
      "5. Modulo(%)\n",
      "6. Exponent(**)\n",
      "7. Floor_Divide(//)\n",
      "\n"
     ]
    },
    {
     "name": "stdin",
     "output_type": "stream",
     "text": [
      "Select an operation (1-8) :  7\n",
      "Enter 1st number :  22\n",
      "Enter 2nd number :  3\n"
     ]
    },
    {
     "name": "stdout",
     "output_type": "stream",
     "text": [
      "Result : 7.0\n",
      "\n",
      "\t ------- Calculator Menu ------- \n",
      "\n",
      "1. Addition(+)\n",
      "2. Subtraction(-)\n",
      "3. Multiplication(*)\n",
      "4. Division(/)\n",
      "5. Modulo(%)\n",
      "6. Exponent(**)\n",
      "7. Floor_Divide(//)\n",
      "\n"
     ]
    },
    {
     "name": "stdin",
     "output_type": "stream",
     "text": [
      "Select an operation (1-8) :  4\n",
      "Enter 1st number :  1\n",
      "Enter 2nd number :  0\n"
     ]
    },
    {
     "name": "stdout",
     "output_type": "stream",
     "text": [
      "Error : C annot divide with zero\n",
      "\n",
      "\t ------- Calculator Menu ------- \n",
      "\n",
      "1. Addition(+)\n",
      "2. Subtraction(-)\n",
      "3. Multiplication(*)\n",
      "4. Division(/)\n",
      "5. Modulo(%)\n",
      "6. Exponent(**)\n",
      "7. Floor_Divide(//)\n",
      "\n"
     ]
    },
    {
     "name": "stdin",
     "output_type": "stream",
     "text": [
      "Select an operation (1-8) :  8\n"
     ]
    },
    {
     "name": "stdout",
     "output_type": "stream",
     "text": [
      "Exit\n"
     ]
    }
   ],
   "source": [
    "# interactive calc model with python operation\n",
    "''' using class exceceptions modules'''\n",
    "\n",
    "class Calculator:\n",
    "    def __init__(self):\n",
    "        self.one = 0\n",
    "        self.two = 0\n",
    "    def input_numbers(self):\n",
    "        try:\n",
    "            self.one=float(input(\"Enter 1st number : \"))\n",
    "            self.two=float(input(\"Enter 2nd number : \"))\n",
    "        except ValueErro:\n",
    "            print(\"Invalid Input..... Please enter valid numbers\")\n",
    "            self.input_numbers()\n",
    "    def add(self):\n",
    "        return self.one + self.two\n",
    "    def subtract(self):\n",
    "        return self.one - self.two\n",
    "    def multiply(self):\n",
    "        return self.one * self.two\n",
    "    def divide(self):\n",
    "        if self.two == 0:\n",
    "            raise ZeroDivisionError(\"C annot divide with zero\")\n",
    "        return self.one / self.two\n",
    "    def modulo(self):\n",
    "        return self.one % self.two\n",
    "    def expo(self):\n",
    "        return self.one ** self.two\n",
    "    def floor_divide(self):\n",
    "        return self.one // self.two\n",
    "\n",
    "def display_menu():\n",
    "    print(\"\\n\\t ------- Calculator Menu ------- \\n\\n1. Addition(+)\\n2. Subtraction(-)\\n3. Multiplication(*)\\n4. Division(/)\\n5. Modulo(%)\\n6. Exponent(**)\\n7. Floor_Divide(//)\\n\")\n",
    "\n",
    "def main():\n",
    "    calc = Calculator()\n",
    "    while True:\n",
    "        display_menu()\n",
    "        choice = input(\"Select an operation (1-8) : \")\n",
    "        if choice == '8':\n",
    "            print(\"Exit\")\n",
    "            break\n",
    "        calc.input_numbers()\n",
    "        try:\n",
    "            if choice=='1':\n",
    "                print(f\"Result : {calc.add()}\")\n",
    "            elif choice=='2':\n",
    "                print(f\"Result : {calc.subtract()}\")\n",
    "            elif choice=='3':\n",
    "                print(f\"Result : {calc.multiply()}\")\n",
    "            elif choice=='4':\n",
    "                print(f\"Result : {calc.divide()}\")\n",
    "            elif choice=='5':\n",
    "                print(f\"Result : {calc.modulo()}\")\n",
    "            elif choice=='6':\n",
    "                print(f\"Result : {calc.expo()}\")\n",
    "            elif choice=='7':\n",
    "                print(f\"Result : {calc.floor_divide()}\")\n",
    "            else:\n",
    "                print(\"Invalid choice, select from 1-8 only\")\n",
    "        except ZeroDivisionError as e:\n",
    "            print(f\"Error : {e}\")\n",
    "        except Exception as e:\n",
    "            print(f\"Unexpected Error : {e}\")\n",
    "main()"
   ]
  },
  {
   "cell_type": "code",
   "execution_count": null,
   "id": "a68a7b86-2976-4176-a565-6ff8912f7ed2",
   "metadata": {},
   "outputs": [],
   "source": []
  }
 ],
 "metadata": {
  "kernelspec": {
   "display_name": "Python 3 (ipykernel)",
   "language": "python",
   "name": "python3"
  },
  "language_info": {
   "codemirror_mode": {
    "name": "ipython",
    "version": 3
   },
   "file_extension": ".py",
   "mimetype": "text/x-python",
   "name": "python",
   "nbconvert_exporter": "python",
   "pygments_lexer": "ipython3",
   "version": "3.12.7"
  }
 },
 "nbformat": 4,
 "nbformat_minor": 5
}
