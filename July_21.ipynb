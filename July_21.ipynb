{
 "cells": [
  {
   "cell_type": "code",
   "execution_count": 79,
   "id": "98187eb0-93b7-4ac4-8364-50618b0d50c9",
   "metadata": {},
   "outputs": [
    {
     "name": "stdin",
     "output_type": "stream",
     "text": [
      " 13\n"
     ]
    },
    {
     "name": "stdout",
     "output_type": "stream",
     "text": [
      "* * * * * * * * * * * * *\n",
      "* * * * * *   * * * * * *\n",
      "* * * * *       * * * * *\n",
      "* * * *           * * * *\n",
      "* * *               * * *\n",
      "* *                   * *\n",
      "*                       *\n",
      "* *                   * *\n",
      "* * *               * * *\n",
      "* * * *           * * * *\n",
      "* * * * *       * * * * *\n",
      "* * * * * *   * * * * * *\n",
      "* * * * * * * * * * * * *\n"
     ]
    }
   ],
   "source": [
    "n=int(input())\n",
    "p=[' '.join(' ' if (abs(i-n//2)+abs(j-n//2) <n//2) and i !=0 and i!=n-1 else '*' for j in range(n))for i in range(n)]\n",
    "for r in p:\n",
    "    print(r)"
   ]
  },
  {
   "cell_type": "code",
   "execution_count": null,
   "id": "471c4bbc-8f18-446d-8b67-3c5d9cd71124",
   "metadata": {},
   "outputs": [],
   "source": [
    "(a+b)*c expression lambda evaluate and returns to another lambda"
   ]
  },
  {
   "cell_type": "code",
   "execution_count": 17,
   "id": "e21bcfd9-a314-4ffb-9640-c6bb88661e66",
   "metadata": {},
   "outputs": [
    {
     "name": "stdin",
     "output_type": "stream",
     "text": [
      "Enter value of a: 2\n",
      "Enter value of b: 3\n",
      "Enter value of c: 5\n"
     ]
    },
    {
     "name": "stdout",
     "output_type": "stream",
     "text": [
      "21\n"
     ]
    }
   ],
   "source": [
    "l2 = lambda a: lambda b,c: (a+b)*c\n",
    "num1 = int(input(\"Enter value of a:\"))\n",
    "num2 = int(input(\"Enter value of b:\"))\n",
    "num3 = int(input(\"Enter value of c:\"))\n",
    "l1 = l2(num3)\n",
    "value = l1(num1, num2)\n",
    "print(value)"
   ]
  },
  {
   "cell_type": "code",
   "execution_count": 19,
   "id": "8de6a93b-960e-4301-a7e3-8da28ee758bc",
   "metadata": {},
   "outputs": [
    {
     "name": "stdout",
     "output_type": "stream",
     "text": [
      "9\n"
     ]
    }
   ],
   "source": [
    "l2 = lambda a: lambda b,c: (a+b)*c\n",
    "l1 = l2(2)\n",
    "value = l1(1,3)\n",
    "print(value)"
   ]
  },
  {
   "cell_type": "code",
   "execution_count": 39,
   "id": "508534e0-18c9-4040-b52b-38b441edb619",
   "metadata": {},
   "outputs": [
    {
     "name": "stdout",
     "output_type": "stream",
     "text": [
      "16\n"
     ]
    }
   ],
   "source": [
    "x = (lambda a: lambda b,c :(a+b)*c)(5)(3, 2)\n",
    "print(x)"
   ]
  },
  {
   "cell_type": "code",
   "execution_count": 37,
   "id": "4e2dd017-21ed-49e5-b4f4-71097bae9351",
   "metadata": {},
   "outputs": [
    {
     "name": "stdout",
     "output_type": "stream",
     "text": [
      "16\n"
     ]
    }
   ],
   "source": [
    "x = (lambda a: lambda b: lambda c :(a+b)*c)(5)(3)(2)\n",
    "print(x)"
   ]
  },
  {
   "cell_type": "code",
   "execution_count": null,
   "id": "df5c13ff-e630-41f2-8ad6-685c5933a0a7",
   "metadata": {},
   "outputs": [],
   "source": [
    "(a+b) * (c+d)"
   ]
  },
  {
   "cell_type": "code",
   "execution_count": 47,
   "id": "f86638b3-d158-4321-b2ff-367bf76e9c2b",
   "metadata": {},
   "outputs": [
    {
     "name": "stdout",
     "output_type": "stream",
     "text": [
      "84\n"
     ]
    }
   ],
   "source": [
    "x = (lambda a: lambda b: lambda c,d: (a+b)*(c+d))(2)(4)(6,8)\n",
    "#    universal  global    local\n",
    "print(x)"
   ]
  },
  {
   "cell_type": "code",
   "execution_count": 49,
   "id": "9aed2ab3-26dd-475b-89ab-8c95d0ece767",
   "metadata": {},
   "outputs": [
    {
     "name": "stdin",
     "output_type": "stream",
     "text": [
      "a :  5\n",
      "x :  3\n"
     ]
    },
    {
     "name": "stdout",
     "output_type": "stream",
     "text": [
      "64\n"
     ]
    }
   ],
   "source": [
    "num = int(input(\"a : \"))\n",
    "n = int(input(\"x : \"))\n",
    "oper = lambda a: lambda x: (x+a)**2\n",
    "numsq = oper(num)\n",
    "print(numsq(n))"
   ]
  },
  {
   "cell_type": "code",
   "execution_count": null,
   "id": "8a4da2ea-8560-4975-9826-3460896bc041",
   "metadata": {},
   "outputs": [],
   "source": [
    "(a-b)/(c-d) expression with different modulations"
   ]
  },
  {
   "cell_type": "code",
   "execution_count": 53,
   "id": "947a66e9-57af-4e56-8808-961d1365e8a2",
   "metadata": {},
   "outputs": [
    {
     "name": "stdout",
     "output_type": "stream",
     "text": [
      "Division by Zero Error!!!\n"
     ]
    }
   ],
   "source": [
    "try:\n",
    "    x = (lambda a: lambda b: lambda c,d: (a-b)/(c-d))(10)(4)(8,8)\n",
    "    print(x)\n",
    "except ZeroDivisionError:\n",
    "    print(\"Division by Zero Error!!!\")"
   ]
  },
  {
   "cell_type": "code",
   "execution_count": 57,
   "id": "c8845b2d-7e74-4fd3-a738-cff6b5d323f2",
   "metadata": {},
   "outputs": [
    {
     "name": "stdout",
     "output_type": "stream",
     "text": [
      "Invalid Datatype\n"
     ]
    }
   ],
   "source": [
    "try:\n",
    "    x = (lambda a: lambda b: lambda c,d: (a-b)/(c-d))(\"10\")(4)(8,8)\n",
    "    print(x)\n",
    "except ZeroDivisionError:\n",
    "    print(\"Division by Zero Error!!!\")\n",
    "except TypeError:\n",
    "    print(\"Invalid Datatype\")"
   ]
  },
  {
   "cell_type": "code",
   "execution_count": 59,
   "id": "a64c5eef-a284-4aaf-8e85-8faa3da2c865",
   "metadata": {},
   "outputs": [
    {
     "name": "stdout",
     "output_type": "stream",
     "text": [
      "3.0\n"
     ]
    }
   ],
   "source": [
    "try:\n",
    "    x = (lambda a: lambda b: lambda c,d: (a-b)/(c-d))(10)(4)(8,6)\n",
    "    print(x)\n",
    "except ZeroDivisionError:\n",
    "    print(\"Division by Zero Error!!!\")"
   ]
  },
  {
   "cell_type": "code",
   "execution_count": 61,
   "id": "9b064eb7-617a-474d-8ea0-debd0b94b7ff",
   "metadata": {},
   "outputs": [
    {
     "name": "stdout",
     "output_type": "stream",
     "text": [
      "3\n"
     ]
    }
   ],
   "source": [
    "try:\n",
    "    x = (lambda a: lambda b: lambda c,d: (a-b)//(c-d))(10)(4)(8,6)\n",
    "    print(x)\n",
    "except ZeroDivisionError:\n",
    "    print(\"Division by Zero Error!!!\")"
   ]
  },
  {
   "cell_type": "code",
   "execution_count": null,
   "id": "2a045012-aeb4-4ca9-83e3-ffa8664eb76e",
   "metadata": {},
   "outputs": [],
   "source": [
    "simple nested lambda string combining with seperator operator for n attributes"
   ]
  },
  {
   "cell_type": "code",
   "execution_count": 65,
   "id": "d83a6c69-ecce-484c-a665-38534f0f1f27",
   "metadata": {},
   "outputs": [
    {
     "name": "stdout",
     "output_type": "stream",
     "text": [
      "Hi-Students-Good-Morning\n"
     ]
    }
   ],
   "source": [
    "x = (lambda a: lambda b: lambda c,d: a+'-'+b+'-'+c+'-'+d)(\"Hi\")(\"Students\")(\"Good\", \"Morning\")\n",
    "print(x)"
   ]
  },
  {
   "cell_type": "code",
   "execution_count": null,
   "id": "9b7e296a-bdc0-4fb0-b5cb-661868156b70",
   "metadata": {},
   "outputs": [],
   "source": [
    "Given atrributes a, b, c, d are hi, !, students, !!!\n",
    "write a nested lambda to concatinate the abcd, by converting a and c to uppercase\n",
    "Output: HI!STUDENTS!!!"
   ]
  },
  {
   "cell_type": "code",
   "execution_count": 85,
   "id": "95b3ccea-29b4-4f44-ab32-a2730c1a715c",
   "metadata": {},
   "outputs": [
    {
     "name": "stdout",
     "output_type": "stream",
     "text": [
      "HI!STUDENTS!!!\n"
     ]
    }
   ],
   "source": [
    "x = (lambda a: lambda b: lambda c,d: a.upper()+b+c.upper()+d)(\"hi\")(\"!\")(\"students\", \"!!!\")\n",
    "print(x)"
   ]
  },
  {
   "cell_type": "code",
   "execution_count": null,
   "id": "5c2023f6-d363-4c86-b169-bc09aabd8e41",
   "metadata": {},
   "outputs": [],
   "source": [
    "Given atrributes a, b, c, d are hi, hello, students, teachers\n",
    "write a nested lambda to concatinate the abcd, by reversing with sep ' '"
   ]
  },
  {
   "cell_type": "code",
   "execution_count": 87,
   "id": "076660b5-fec4-4e45-bce3-7300162ae838",
   "metadata": {},
   "outputs": [
    {
     "name": "stdout",
     "output_type": "stream",
     "text": [
      "ih olleh stneduts srehcaet\n"
     ]
    }
   ],
   "source": [
    "x = (lambda a: lambda b: lambda c,d: a[::-1]+' '+b[::-1]+' '+c[::-1]+' '+d[::-1])(\"hi\")(\"hello\")(\"students\", \"teachers\")\n",
    "print(x)"
   ]
  },
  {
   "cell_type": "code",
   "execution_count": 95,
   "id": "bd0482a1-6004-4fb2-8b9f-8b2deef73251",
   "metadata": {},
   "outputs": [
    {
     "name": "stdout",
     "output_type": "stream",
     "text": [
      "['ih', 'olleh', 'stneduts', 'srehcaet']\n"
     ]
    }
   ],
   "source": [
    "x = (lambda a: lambda b: lambda c,d: [a[::-1],b[::-1],c[::-1],d[::-1]])(\"hi\")(\"hello\")(\"students\", \"teachers\")\n",
    "print(x)"
   ]
  },
  {
   "cell_type": "code",
   "execution_count": null,
   "id": "492e543c-617a-4d71-bd21-fd5747700c73",
   "metadata": {},
   "outputs": [],
   "source": [
    "num = [4, 6, 3, 8]  if num < 5 then multiply with 3 if num > 5 then multiply with 2\n",
    "clist = [12, 12, 9, 16]"
   ]
  },
  {
   "cell_type": "code",
   "execution_count": 105,
   "id": "e5a8eaf3-f563-4261-8311-ba6979686b83",
   "metadata": {},
   "outputs": [
    {
     "name": "stdout",
     "output_type": "stream",
     "text": [
      "[12, 12, 9, 16]\n"
     ]
    }
   ],
   "source": [
    "x = (lambda a: lambda b: [a[i]*2 if a[i]>5 else a[i]*3 for i in range(b)])\n",
    "num = [4, 6, 3, 8] \n",
    "z = len(num)\n",
    "y = x(num)\n",
    "print(y(z))"
   ]
  },
  {
   "cell_type": "code",
   "execution_count": 113,
   "id": "7c0597ec-f327-497a-8f53-24ad687909c3",
   "metadata": {},
   "outputs": [
    {
     "name": "stdout",
     "output_type": "stream",
     "text": [
      "[12, 15, 9, 16]\n"
     ]
    }
   ],
   "source": [
    "x = (lambda a: lambda b: [a[i]*2 if a[i]>5 else a[i]*3 for i in range(b)])([4, 5, 3, 8])(len([4, 5, 3, 8]))\n",
    "print(x)"
   ]
  },
  {
   "cell_type": "code",
   "execution_count": 115,
   "id": "af137565-975d-48db-aadf-83d9f2a0b06a",
   "metadata": {},
   "outputs": [
    {
     "name": "stdout",
     "output_type": "stream",
     "text": [
      "[12, 12, 9, 16]\n"
     ]
    }
   ],
   "source": [
    "numbers = lambda x: lambda a: a*2 if a>x else a*3\n",
    "above_5 = numbers(5)\n",
    "\n",
    "num = [4, 6, 3, 8] \n",
    "x = list(map(above_5, num))\n",
    "print(x)"
   ]
  }
 ],
 "metadata": {
  "kernelspec": {
   "display_name": "Python 3 (ipykernel)",
   "language": "python",
   "name": "python3"
  },
  "language_info": {
   "codemirror_mode": {
    "name": "ipython",
    "version": 3
   },
   "file_extension": ".py",
   "mimetype": "text/x-python",
   "name": "python",
   "nbconvert_exporter": "python",
   "pygments_lexer": "ipython3",
   "version": "3.12.7"
  }
 },
 "nbformat": 4,
 "nbformat_minor": 5
}
