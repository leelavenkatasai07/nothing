{
 "cells": [
  {
   "cell_type": "code",
   "execution_count": null,
   "id": "327e258f-6faf-4777-afea-912f776c5a78",
   "metadata": {},
   "outputs": [],
   "source": [
    "numpy\n",
    "matrices - coordiunates location\n",
    "math functions stastics / algebra\n",
    "\n",
    "np.random.rand() - uniform random values\n",
    "np.random.randn() - non uniform\n",
    "np.dot - multiplication - matrices\n",
    "np.arrange() - random range of values\n",
    "np.array() - create/ delete/ access\n",
    "np.zeros()/ np.ones() - creates an entire array with 0/1\n",
    "np.mean()\n",
    "np.std()\n",
    "np.unique()\n",
    "np.linalg.inv()"
   ]
  },
  {
   "cell_type": "code",
   "execution_count": 15,
   "id": "4f5ab3bb-6db9-4625-aba7-90ed3dbd555b",
   "metadata": {},
   "outputs": [
    {
     "name": "stdout",
     "output_type": "stream",
     "text": [
      "Array 1-D : \n",
      " [1 2 3 4 5]\n"
     ]
    }
   ],
   "source": [
    "import numpy as np\n",
    "\n",
    "x = np.array([1,2,3,4,5])\n",
    "print(\"Array 1-D : \\n\", x)"
   ]
  },
  {
   "cell_type": "code",
   "execution_count": 17,
   "id": "8fb45f54-cf97-43fb-9236-eca7d293de7b",
   "metadata": {},
   "outputs": [
    {
     "name": "stdout",
     "output_type": "stream",
     "text": [
      "Array 2-D : \n",
      " [[1 2]\n",
      " [3 4]]\n"
     ]
    }
   ],
   "source": [
    "y = np.array([[1,2],[3,4]])\n",
    "print(\"Array 2-D : \\n\", y)"
   ]
  },
  {
   "cell_type": "code",
   "execution_count": 19,
   "id": "3978c5c1-01c9-4515-af30-06fafe400af4",
   "metadata": {},
   "outputs": [
    {
     "name": "stdout",
     "output_type": "stream",
     "text": [
      "ones : \n",
      " [[1. 1. 1. 1. 1. 1.]\n",
      " [1. 1. 1. 1. 1. 1.]\n",
      " [1. 1. 1. 1. 1. 1.]]\n"
     ]
    }
   ],
   "source": [
    "o = np.ones((3,6))\n",
    "print(\"ones : \\n\", o)"
   ]
  },
  {
   "cell_type": "code",
   "execution_count": 21,
   "id": "cc41875a-decf-45bf-92f3-f9a1679ee32c",
   "metadata": {},
   "outputs": [
    {
     "name": "stdout",
     "output_type": "stream",
     "text": [
      "zeros : \n",
      " [[0. 0. 0. 0. 0. 0.]\n",
      " [0. 0. 0. 0. 0. 0.]\n",
      " [0. 0. 0. 0. 0. 0.]]\n"
     ]
    }
   ],
   "source": [
    "z = np.zeros((3,6))\n",
    "print(\"zeros : \\n\", z)"
   ]
  },
  {
   "cell_type": "code",
   "execution_count": 23,
   "id": "ba9232ea-5119-4368-91f9-adb6a2f4a881",
   "metadata": {},
   "outputs": [
    {
     "name": "stdout",
     "output_type": "stream",
     "text": [
      "zeros : \n",
      " [[0. 0. 0. 0. 0. 0. 0. 0. 0. 0.]\n",
      " [0. 0. 0. 0. 0. 0. 0. 0. 0. 0.]\n",
      " [0. 0. 0. 0. 0. 0. 0. 0. 0. 0.]\n",
      " [0. 0. 0. 0. 0. 0. 0. 0. 0. 0.]\n",
      " [0. 0. 0. 0. 0. 0. 0. 0. 0. 0.]\n",
      " [0. 0. 0. 0. 0. 0. 0. 0. 0. 0.]\n",
      " [0. 0. 0. 0. 0. 0. 0. 0. 0. 0.]\n",
      " [0. 0. 0. 0. 0. 0. 0. 0. 0. 0.]\n",
      " [0. 0. 0. 0. 0. 0. 0. 0. 0. 0.]\n",
      " [0. 0. 0. 0. 0. 0. 0. 0. 0. 0.]]\n"
     ]
    }
   ],
   "source": [
    "z = np.zeros((10,10))\n",
    "print(\"zeros : \\n\", z)"
   ]
  },
  {
   "cell_type": "code",
   "execution_count": 35,
   "id": "38ff1045-3819-4dde-b8e0-824bd06b042b",
   "metadata": {},
   "outputs": [
    {
     "name": "stdout",
     "output_type": "stream",
     "text": [
      "Identical Coordinates : \n",
      " [[1. 0. 0. 0. 0. 0. 0. 0. 0. 0.]\n",
      " [0. 1. 0. 0. 0. 0. 0. 0. 0. 0.]\n",
      " [0. 0. 1. 0. 0. 0. 0. 0. 0. 0.]\n",
      " [0. 0. 0. 1. 0. 0. 0. 0. 0. 0.]\n",
      " [0. 0. 0. 0. 1. 0. 0. 0. 0. 0.]\n",
      " [0. 0. 0. 0. 0. 1. 0. 0. 0. 0.]\n",
      " [0. 0. 0. 0. 0. 0. 1. 0. 0. 0.]\n",
      " [0. 0. 0. 0. 0. 0. 0. 1. 0. 0.]\n",
      " [0. 0. 0. 0. 0. 0. 0. 0. 1. 0.]\n",
      " [0. 0. 0. 0. 0. 0. 0. 0. 0. 1.]]\n"
     ]
    }
   ],
   "source": [
    "i = np.eye(10)\n",
    "print(\"Identical Coordinates : \\n\",i)"
   ]
  },
  {
   "cell_type": "code",
   "execution_count": 27,
   "id": "d78a76e5-5f1b-400c-9d02-dbb4b28c8272",
   "metadata": {},
   "outputs": [
    {
     "name": "stdout",
     "output_type": "stream",
     "text": [
      "Array :  [ 0  2  4  6  8 10]\n"
     ]
    }
   ],
   "source": [
    "r = np.arange(0,11,2)\n",
    "print(\"Array : \", r)"
   ]
  },
  {
   "cell_type": "code",
   "execution_count": 33,
   "id": "1a999f7c-b1f8-442f-9e16-a276b6ad7fc3",
   "metadata": {},
   "outputs": [
    {
     "name": "stdout",
     "output_type": "stream",
     "text": [
      "linspace :  [0.   0.25 0.5  0.75 1.  ]\n"
     ]
    }
   ],
   "source": [
    "seperate = np.linspace(0, 1, 5)\n",
    "print(\"linspace : \", seperate)"
   ]
  },
  {
   "cell_type": "code",
   "execution_count": 43,
   "id": "d9f7c01c-5a1b-4d8f-9cdc-cc81c178d6e3",
   "metadata": {},
   "outputs": [
    {
     "name": "stdout",
     "output_type": "stream",
     "text": [
      "Addition :  [ 6  8 10 12]\n",
      "Product :  [ 5 12 21 32]\n",
      "Square :  [ 1  4  9 16]\n",
      "Sine Values :  [ 0.84147098  0.90929743  0.14112001 -0.7568025 ]\n",
      "Mean :  2.5\n",
      "Max :  4\n"
     ]
    }
   ],
   "source": [
    "a = np.array([1,2,3,4])\n",
    "b = np.array([5,6,7,8])\n",
    "print(\"Addition : \", a+b)\n",
    "print(\"Product : \", a*b)\n",
    "print(\"Square : \", a**2)\n",
    "print(\"Sine Values : \",np.sin(a))\n",
    "print(\"Mean : \", np.mean(a))\n",
    "print(\"Max : \", np.max(a))"
   ]
  },
  {
   "cell_type": "code",
   "execution_count": 47,
   "id": "2909902c-c318-4ed0-95b0-56ae0d8e0573",
   "metadata": {},
   "outputs": [
    {
     "name": "stdout",
     "output_type": "stream",
     "text": [
      "[1 2 3 4 5 6 7 8 9]\n",
      "[[1 2 3]\n",
      " [4 5 6]\n",
      " [7 8 9]]\n",
      "[1 2 3 4 5 6 7 8 9]\n"
     ]
    }
   ],
   "source": [
    "a = np.arange(1,10)\n",
    "print(a)\n",
    "reshaped = a.reshape((3,3))\n",
    "print(reshaped)\n",
    "linear = reshaped.reshape(-1)\n",
    "print(linear)"
   ]
  },
  {
   "cell_type": "code",
   "execution_count": 49,
   "id": "1dd4cf9c-60dc-485b-95ab-0e0f8dd0a3bb",
   "metadata": {},
   "outputs": [
    {
     "name": "stdout",
     "output_type": "stream",
     "text": [
      "Element at (1,1): 5\n",
      "[1 2 3 4 5 6 7 8 9]\n"
     ]
    }
   ],
   "source": [
    "print(\"Element at (1,1):\", reshaped[1,1])\n",
    "linear = reshaped.flatten()\n",
    "print(linear)"
   ]
  },
  {
   "cell_type": "code",
   "execution_count": 51,
   "id": "2614618a-1a5e-462b-b8f0-003d827b1cc3",
   "metadata": {},
   "outputs": [
    {
     "name": "stdout",
     "output_type": "stream",
     "text": [
      "Greater than 5 :  [6 7 8 9]\n"
     ]
    }
   ],
   "source": [
    "print(\"Greater than 5 : \",linear[linear>5])"
   ]
  },
  {
   "cell_type": "code",
   "execution_count": 53,
   "id": "5f2ca6c6-c570-4b2e-b680-8f7497149f2d",
   "metadata": {},
   "outputs": [
    {
     "name": "stdout",
     "output_type": "stream",
     "text": [
      "Lesser than 5 :  [1 2 3 4]\n"
     ]
    }
   ],
   "source": [
    "print(\"Lesser than 5 : \",linear[linear<5])"
   ]
  },
  {
   "cell_type": "code",
   "execution_count": 68,
   "id": "749081dc-9613-479b-a52c-68ae22f1e55d",
   "metadata": {},
   "outputs": [
    {
     "name": "stdout",
     "output_type": "stream",
     "text": [
      "Randon Numbers between 0 to 3 :  [0.14268949 0.79562453 0.1146846 ]\n"
     ]
    }
   ],
   "source": [
    "print(\"Randon Numbers between 0 to 3 : \", np.random.rand(3))"
   ]
  },
  {
   "cell_type": "code",
   "execution_count": 110,
   "id": "57836e63-8203-4621-bb7e-99f0384197a3",
   "metadata": {},
   "outputs": [
    {
     "name": "stdout",
     "output_type": "stream",
     "text": [
      "Random Integer : \n",
      " 73\n"
     ]
    }
   ],
   "source": [
    "print(\"Random Integer : \\n\", np.random.randint(1, 100))"
   ]
  },
  {
   "cell_type": "code",
   "execution_count": 114,
   "id": "3e719b2c-7867-43bb-b4ec-26ffb32848e6",
   "metadata": {},
   "outputs": [
    {
     "name": "stdout",
     "output_type": "stream",
     "text": [
      "Random Integer : \n",
      " [[54 90 93]\n",
      " [20 30 45]]\n"
     ]
    }
   ],
   "source": [
    "print(\"Random Integer : \\n\", np.random.randint(1, 100, (2,3)))"
   ]
  },
  {
   "cell_type": "code",
   "execution_count": 120,
   "id": "5e4f7655-25d0-4292-ac6c-e23e93e05799",
   "metadata": {},
   "outputs": [
    {
     "name": "stdout",
     "output_type": "stream",
     "text": [
      "Random Integer : \n",
      " [[30 33 93]\n",
      " [13 85 99]\n",
      " [63 31 83]]\n"
     ]
    }
   ],
   "source": [
    "print(\"Random Integer : \\n\", np.random.randint(1, 100, (3,3)))"
   ]
  },
  {
   "cell_type": "code",
   "execution_count": null,
   "id": "39752e5d-89c0-4bd3-9082-01bc11a1e916",
   "metadata": {},
   "outputs": [],
   "source": [
    "Code to print a 3x3 matrix which were filled with boolean value True using numpy"
   ]
  },
  {
   "cell_type": "code",
   "execution_count": 122,
   "id": "05e6aef1-0b06-45eb-b5ac-ad8a5f8feb5b",
   "metadata": {},
   "outputs": [
    {
     "name": "stdout",
     "output_type": "stream",
     "text": [
      "[[ True  True  True]\n",
      " [ True  True  True]\n",
      " [ True  True  True]]\n"
     ]
    }
   ],
   "source": [
    "arr = np.full((3,3), True)\n",
    "print(arr)"
   ]
  },
  {
   "cell_type": "code",
   "execution_count": 124,
   "id": "2ad3d8dc-0cb1-4aaa-9e23-9ffd09e9a797",
   "metadata": {},
   "outputs": [
    {
     "ename": "TypeError",
     "evalue": "full() missing 1 required positional argument: 'fill_value'",
     "output_type": "error",
     "traceback": [
      "\u001b[31m---------------------------------------------------------------------------\u001b[39m",
      "\u001b[31mTypeError\u001b[39m                                 Traceback (most recent call last)",
      "\u001b[36mCell\u001b[39m\u001b[36m \u001b[39m\u001b[32mIn[124]\u001b[39m\u001b[32m, line 1\u001b[39m\n\u001b[32m----> \u001b[39m\u001b[32m1\u001b[39m arr = \u001b[43mnp\u001b[49m\u001b[43m.\u001b[49m\u001b[43mfull\u001b[49m\u001b[43m(\u001b[49m\u001b[43m(\u001b[49m\u001b[32;43m3\u001b[39;49m\u001b[43m,\u001b[49m\u001b[32;43m3\u001b[39;49m\u001b[43m)\u001b[49m\u001b[43m,\u001b[49m\u001b[43m \u001b[49m\u001b[43mdtype\u001b[49m\u001b[43m \u001b[49m\u001b[43m=\u001b[49m\u001b[43m \u001b[49m\u001b[38;5;28;43mbool\u001b[39;49m\u001b[43m)\u001b[49m\n\u001b[32m      2\u001b[39m \u001b[38;5;28mprint\u001b[39m(arr)\n",
      "\u001b[31mTypeError\u001b[39m: full() missing 1 required positional argument: 'fill_value'"
     ]
    }
   ],
   "source": [
    "arr = np.full((3,3), dtype = bool)\n",
    "print(arr)"
   ]
  },
  {
   "cell_type": "code",
   "execution_count": null,
   "id": "a93f63f8-ab7d-47c5-8f30-e051e12453b2",
   "metadata": {},
   "outputs": [],
   "source": []
  }
 ],
 "metadata": {
  "kernelspec": {
   "display_name": "Python 3 (ipykernel)",
   "language": "python",
   "name": "python3"
  },
  "language_info": {
   "codemirror_mode": {
    "name": "ipython",
    "version": 3
   },
   "file_extension": ".py",
   "mimetype": "text/x-python",
   "name": "python",
   "nbconvert_exporter": "python",
   "pygments_lexer": "ipython3",
   "version": "3.12.7"
  }
 },
 "nbformat": 4,
 "nbformat_minor": 5
}
